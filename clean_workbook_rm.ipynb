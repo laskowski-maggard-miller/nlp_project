{
 "cells": [
  {
   "cell_type": "code",
   "execution_count": 1,
   "id": "5c2e7d67",
   "metadata": {},
   "outputs": [
    {
     "name": "stderr",
     "output_type": "stream",
     "text": [
      "/opt/homebrew/anaconda3/lib/python3.9/site-packages/scipy/__init__.py:146: UserWarning: A NumPy version >=1.16.5 and <1.23.0 is required for this version of SciPy (detected version 1.23.0\n",
      "  warnings.warn(f\"A NumPy version >={np_minversion} and <{np_maxversion}\"\n"
     ]
    },
    {
     "name": "stdout",
     "output_type": "stream",
     "text": [
      "['typelevel/cats', 'nyaadevs/nyaa', 'httpcats/http.cat', 'AlexiaJM/Deep-learning-with-cats', 'sharkdp/bat', 'typelevel/cats-effect', 'funcool/cats', 'websockets/wscat', 'owenthereal/ccat', 'absolute-quantum/cats-blender-plugin']\n"
     ]
    }
   ],
   "source": [
    "import unicodedata\n",
    "import re\n",
    "import json\n",
    "\n",
    "import nltk\n",
    "from nltk.tokenize.toktok import ToktokTokenizer\n",
    "from nltk.corpus import stopwords\n",
    "\n",
    "import pandas as pd\n",
    "\n",
    "import acquire\n",
    "from prepare import df_cleaner\n",
    "\n",
    "from bs4 import BeautifulSoup as bs"
   ]
  },
  {
   "cell_type": "markdown",
   "id": "dc0d1bcb",
   "metadata": {},
   "source": [
    "## Step 1: Use repo list to acquire repo information"
   ]
  },
  {
   "cell_type": "code",
   "execution_count": null,
   "id": "17bba2e8",
   "metadata": {},
   "outputs": [],
   "source": [
    "df = pd.read_csv('repo_list.csv')\n",
    "df"
   ]
  },
  {
   "cell_type": "markdown",
   "id": "bddd8d63",
   "metadata": {},
   "source": [
    "Executed acqire in the terminal."
   ]
  },
  {
   "cell_type": "markdown",
   "id": "cf4f4c84",
   "metadata": {},
   "source": [
    "## Step 2: Convert json file to dataframe"
   ]
  },
  {
   "cell_type": "code",
   "execution_count": null,
   "id": "3037af5c",
   "metadata": {},
   "outputs": [],
   "source": [
    "f = open('data.json')\n",
    "\n",
    "data = json.load(f)\n",
    "\n",
    "df_repos_raw = pd.DataFrame(data)"
   ]
  },
  {
   "cell_type": "code",
   "execution_count": null,
   "id": "62478414",
   "metadata": {},
   "outputs": [],
   "source": [
    "df_repos_raw.info()"
   ]
  },
  {
   "cell_type": "markdown",
   "id": "2736cbda",
   "metadata": {},
   "source": [
    "## Step 3: Prepare and clean"
   ]
  },
  {
   "cell_type": "code",
   "execution_count": null,
   "id": "23cec461",
   "metadata": {},
   "outputs": [],
   "source": [
    "df_repos_raw.iloc[5][1]    \n",
    "#0 is repo\n",
    "#1 is language\n",
    "#2 is readme_contents"
   ]
  },
  {
   "cell_type": "code",
   "execution_count": null,
   "id": "31c46fd4",
   "metadata": {},
   "outputs": [],
   "source": [
    "df_holder = []\n",
    "extra_words = []\n",
    "exclude_words = []\n",
    "\n",
    "for rows in df_repos_raw.index:\n",
    "    row = {}\n",
    "    repo = df_repos_raw.iloc[rows][0]\n",
    "    language = df_repos_raw.iloc[rows][1]\n",
    "    readme_contents = df_repos_raw.iloc[rows][2]\n",
    "    \n",
    "    row['repo'] = repo\n",
    "    row['language'] = language\n",
    "    row['readme_contents'] = readme_contents\n",
    "    \n",
    "    row['cleaned'] = full_clean(readme_contents,extra_words,exclude_words)\n",
    "    \n",
    "    df_holder.append(row)\n",
    "df = pd.DataFrame(df_holder)"
   ]
  },
  {
   "cell_type": "markdown",
   "id": "d44eac5a",
   "metadata": {},
   "source": [
    "# Cleaning Dataframe"
   ]
  },
  {
   "cell_type": "code",
   "execution_count": null,
   "id": "33187be7",
   "metadata": {},
   "outputs": [],
   "source": [
    "from bs4 import BeautifulSoup as bs\n",
    "rf = df.readme_contents[4]\n",
    "soup = bs(rf, 'lxml').text"
   ]
  },
  {
   "cell_type": "code",
   "execution_count": null,
   "id": "5d209eb3",
   "metadata": {},
   "outputs": [],
   "source": [
    "# Remove r'(\\n)+'\n",
    "# Remove all https:\n",
    "# remove all words longer than 14 characters (5 stds over normal)"
   ]
  },
  {
   "cell_type": "code",
   "execution_count": null,
   "id": "0803a6be",
   "metadata": {},
   "outputs": [],
   "source": [
    "#split the string into words\n",
    "split_soup = soup.split(' ')\n",
    "word_list = []\n",
    "\n",
    "for word in split_soup:\n",
    "    if re.search(r\"\\n\", word):\n",
    "        continue\n",
    "    if re.match(r'https:', word):\n",
    "        continue\n",
    "    if len(word) > 14:\n",
    "        continue\n",
    "    else:\n",
    "        word_list.append(word)\n",
    "\n",
    "scrubbed = ' '.join(word_list)"
   ]
  },
  {
   "cell_type": "code",
   "execution_count": null,
   "id": "01416d49",
   "metadata": {},
   "outputs": [],
   "source": [
    "df_holder = []\n",
    "extra_words = []\n",
    "exclude_words = []\n",
    "\n",
    "for rows in df_repos_raw.index:\n",
    "    row = {}\n",
    "    repo = df_repos_raw.iloc[rows][0]\n",
    "    language = df_repos_raw.iloc[rows][1]\n",
    "    readme_contents = df_repos_raw.iloc[rows][2]\n",
    "    \n",
    "    row['repo'] = repo\n",
    "    row['language'] = language\n",
    "    row['readme_contents'] = readme_contents\n",
    "    \n",
    "    row['cleaned'] = full_clean(readme_contents,extra_words,exclude_words)\n",
    "    \n",
    "    df_holder.append(row)\n",
    "df = pd.DataFrame(df_holder)"
   ]
  },
  {
   "cell_type": "code",
   "execution_count": null,
   "id": "3771eba2",
   "metadata": {},
   "outputs": [],
   "source": [
    "df"
   ]
  },
  {
   "cell_type": "markdown",
   "id": "38280e82",
   "metadata": {},
   "source": [
    "---"
   ]
  },
  {
   "cell_type": "markdown",
   "id": "67c0ac7a",
   "metadata": {},
   "source": [
    "# Testing!"
   ]
  },
  {
   "cell_type": "markdown",
   "id": "ca221cb2",
   "metadata": {},
   "source": [
    "##### Step 1: Loaded libraries at the top, as well as beautiful soup below."
   ]
  },
  {
   "cell_type": "markdown",
   "id": "56826585",
   "metadata": {},
   "source": [
    "##### Step 2: Run acquire on repo list (limited to top 10):"
   ]
  },
  {
   "cell_type": "markdown",
   "id": "d03dc0c2",
   "metadata": {},
   "source": [
    "*Run this in the terminal, then run the following:*"
   ]
  },
  {
   "cell_type": "code",
   "execution_count": 8,
   "id": "fe904ef7",
   "metadata": {},
   "outputs": [],
   "source": [
    "df = acquire.json_to_df()"
   ]
  },
  {
   "cell_type": "code",
   "execution_count": 9,
   "id": "4daead7d",
   "metadata": {},
   "outputs": [
    {
     "data": {
      "text/html": [
       "<div>\n",
       "<style scoped>\n",
       "    .dataframe tbody tr th:only-of-type {\n",
       "        vertical-align: middle;\n",
       "    }\n",
       "\n",
       "    .dataframe tbody tr th {\n",
       "        vertical-align: top;\n",
       "    }\n",
       "\n",
       "    .dataframe thead th {\n",
       "        text-align: right;\n",
       "    }\n",
       "</style>\n",
       "<table border=\"1\" class=\"dataframe\">\n",
       "  <thead>\n",
       "    <tr style=\"text-align: right;\">\n",
       "      <th></th>\n",
       "      <th>repo</th>\n",
       "      <th>language</th>\n",
       "      <th>readme_contents</th>\n",
       "    </tr>\n",
       "  </thead>\n",
       "  <tbody>\n",
       "    <tr>\n",
       "      <th>0</th>\n",
       "      <td>typelevel/cats</td>\n",
       "      <td>Scala</td>\n",
       "      <td>## Cats\\n\\n![Cats graphic](https://typelevel.o...</td>\n",
       "    </tr>\n",
       "    <tr>\n",
       "      <th>1</th>\n",
       "      <td>nyaadevs/nyaa</td>\n",
       "      <td>Python</td>\n",
       "      <td># NyaaV2 [![Build Status](https://travis-ci.or...</td>\n",
       "    </tr>\n",
       "    <tr>\n",
       "      <th>2</th>\n",
       "      <td>httpcats/http.cat</td>\n",
       "      <td>JavaScript</td>\n",
       "      <td>#  http.cat [![Build Status](https://travis-ci...</td>\n",
       "    </tr>\n",
       "    <tr>\n",
       "      <th>3</th>\n",
       "      <td>AlexiaJM/Deep-learning-with-cats</td>\n",
       "      <td>Python</td>\n",
       "      <td># Deep-learning-with-cats\\n\\nThis repository i...</td>\n",
       "    </tr>\n",
       "    <tr>\n",
       "      <th>4</th>\n",
       "      <td>sharkdp/bat</td>\n",
       "      <td>Rust</td>\n",
       "      <td>&lt;p align=\"center\"&gt;\\n  &lt;img src=\"doc/logo-heade...</td>\n",
       "    </tr>\n",
       "    <tr>\n",
       "      <th>...</th>\n",
       "      <td>...</td>\n",
       "      <td>...</td>\n",
       "      <td>...</td>\n",
       "    </tr>\n",
       "    <tr>\n",
       "      <th>995</th>\n",
       "      <td>RomanKornev/dogs-vs-cats-redux</td>\n",
       "      <td>Jupyter Notebook</td>\n",
       "      <td># Dogs vs Cats\\nPredict whether a given image ...</td>\n",
       "    </tr>\n",
       "    <tr>\n",
       "      <th>996</th>\n",
       "      <td>snap-research/CAT</td>\n",
       "      <td>Python</td>\n",
       "      <td># CAT\\n[CVPR](https://openaccess.thecvf.com/co...</td>\n",
       "    </tr>\n",
       "    <tr>\n",
       "      <th>997</th>\n",
       "      <td>datitran/Dogs-vs-Cats</td>\n",
       "      <td>Jupyter Notebook</td>\n",
       "      <td># Dogs-vs-Cats\\n\\nA fun project to differentia...</td>\n",
       "    </tr>\n",
       "    <tr>\n",
       "      <th>998</th>\n",
       "      <td>bastakka/popcatindicator</td>\n",
       "      <td>Shell</td>\n",
       "      <td># popcatindicator\\nVolume indicator with Cat p...</td>\n",
       "    </tr>\n",
       "    <tr>\n",
       "      <th>999</th>\n",
       "      <td>siahtek/Throwdown_bot</td>\n",
       "      <td>JavaScript</td>\n",
       "      <td># Throwdown_bot\\nCloud Animation Throwdown (CA...</td>\n",
       "    </tr>\n",
       "  </tbody>\n",
       "</table>\n",
       "<p>1000 rows × 3 columns</p>\n",
       "</div>"
      ],
      "text/plain": [
       "                                 repo          language  \\\n",
       "0                      typelevel/cats             Scala   \n",
       "1                       nyaadevs/nyaa            Python   \n",
       "2                   httpcats/http.cat        JavaScript   \n",
       "3    AlexiaJM/Deep-learning-with-cats            Python   \n",
       "4                         sharkdp/bat              Rust   \n",
       "..                                ...               ...   \n",
       "995    RomanKornev/dogs-vs-cats-redux  Jupyter Notebook   \n",
       "996                 snap-research/CAT            Python   \n",
       "997             datitran/Dogs-vs-Cats  Jupyter Notebook   \n",
       "998          bastakka/popcatindicator             Shell   \n",
       "999             siahtek/Throwdown_bot        JavaScript   \n",
       "\n",
       "                                       readme_contents  \n",
       "0    ## Cats\\n\\n![Cats graphic](https://typelevel.o...  \n",
       "1    # NyaaV2 [![Build Status](https://travis-ci.or...  \n",
       "2    #  http.cat [![Build Status](https://travis-ci...  \n",
       "3    # Deep-learning-with-cats\\n\\nThis repository i...  \n",
       "4    <p align=\"center\">\\n  <img src=\"doc/logo-heade...  \n",
       "..                                                 ...  \n",
       "995  # Dogs vs Cats\\nPredict whether a given image ...  \n",
       "996  # CAT\\n[CVPR](https://openaccess.thecvf.com/co...  \n",
       "997  # Dogs-vs-Cats\\n\\nA fun project to differentia...  \n",
       "998  # popcatindicator\\nVolume indicator with Cat p...  \n",
       "999  # Throwdown_bot\\nCloud Animation Throwdown (CA...  \n",
       "\n",
       "[1000 rows x 3 columns]"
      ]
     },
     "execution_count": 9,
     "metadata": {},
     "output_type": "execute_result"
    }
   ],
   "source": [
    "df"
   ]
  },
  {
   "cell_type": "markdown",
   "id": "207b3053",
   "metadata": {},
   "source": [
    "##### Step 3: Prepare!"
   ]
  },
  {
   "cell_type": "code",
   "execution_count": 10,
   "id": "054c392d",
   "metadata": {},
   "outputs": [],
   "source": [
    "df_cleaned = df_cleaner(df)"
   ]
  },
  {
   "cell_type": "code",
   "execution_count": 11,
   "id": "6c7c862f",
   "metadata": {},
   "outputs": [
    {
     "data": {
      "text/html": [
       "<div>\n",
       "<style scoped>\n",
       "    .dataframe tbody tr th:only-of-type {\n",
       "        vertical-align: middle;\n",
       "    }\n",
       "\n",
       "    .dataframe tbody tr th {\n",
       "        vertical-align: top;\n",
       "    }\n",
       "\n",
       "    .dataframe thead th {\n",
       "        text-align: right;\n",
       "    }\n",
       "</style>\n",
       "<table border=\"1\" class=\"dataframe\">\n",
       "  <thead>\n",
       "    <tr style=\"text-align: right;\">\n",
       "      <th></th>\n",
       "      <th>repo</th>\n",
       "      <th>language</th>\n",
       "      <th>readme_contents</th>\n",
       "      <th>cleaned</th>\n",
       "    </tr>\n",
       "  </thead>\n",
       "  <tbody>\n",
       "    <tr>\n",
       "      <th>0</th>\n",
       "      <td>typelevel/cats</td>\n",
       "      <td>Scala</td>\n",
       "      <td>## Cats\\n\\n![Cats graphic](https://typelevel.o...</td>\n",
       "      <td>scala version continuous contributor open libr...</td>\n",
       "    </tr>\n",
       "    <tr>\n",
       "      <th>1</th>\n",
       "      <td>nyaadevs/nyaa</td>\n",
       "      <td>Python</td>\n",
       "      <td># NyaaV2 [![Build Status](https://travis-ci.or...</td>\n",
       "      <td>nyaav2 build setting project us python 37 feat...</td>\n",
       "    </tr>\n",
       "    <tr>\n",
       "      <th>2</th>\n",
       "      <td>httpcats/http.cat</td>\n",
       "      <td>JavaScript</td>\n",
       "      <td>#  http.cat [![Build Status](https://travis-ci...</td>\n",
       "      <td>httpcat build cat website hosted code older ve...</td>\n",
       "    </tr>\n",
       "    <tr>\n",
       "      <th>3</th>\n",
       "      <td>AlexiaJM/Deep-learning-with-cats</td>\n",
       "      <td>Python</td>\n",
       "      <td># Deep-learning-with-cats\\n\\nThis repository i...</td>\n",
       "      <td>repository toy project gain experience buildin...</td>\n",
       "    </tr>\n",
       "    <tr>\n",
       "      <th>4</th>\n",
       "      <td>sharkdp/bat</td>\n",
       "      <td>Rust</td>\n",
       "      <td>&lt;p align=\"center\"&gt;\\n  &lt;img src=\"doc/logo-heade...</td>\n",
       "      <td>cat1 clone syntax highlighting git feature use...</td>\n",
       "    </tr>\n",
       "    <tr>\n",
       "      <th>...</th>\n",
       "      <td>...</td>\n",
       "      <td>...</td>\n",
       "      <td>...</td>\n",
       "      <td>...</td>\n",
       "    </tr>\n",
       "    <tr>\n",
       "      <th>995</th>\n",
       "      <td>RomanKornev/dogs-vs-cats-redux</td>\n",
       "      <td>Jupyter Notebook</td>\n",
       "      <td># Dogs vs Cats\\nPredict whether a given image ...</td>\n",
       "      <td>dog v whether given image cat dog 997 accuracy...</td>\n",
       "    </tr>\n",
       "    <tr>\n",
       "      <th>996</th>\n",
       "      <td>snap-research/CAT</td>\n",
       "      <td>Python</td>\n",
       "      <td># CAT\\n[CVPR](https://openaccess.thecvf.com/co...</td>\n",
       "      <td>tutorial method used mobile implementation met...</td>\n",
       "    </tr>\n",
       "    <tr>\n",
       "      <th>997</th>\n",
       "      <td>datitran/Dogs-vs-Cats</td>\n",
       "      <td>Jupyter Notebook</td>\n",
       "      <td># Dogs-vs-Cats\\n\\nA fun project to differentia...</td>\n",
       "      <td>fun project differentiate dog kaggle create da...</td>\n",
       "    </tr>\n",
       "    <tr>\n",
       "      <th>998</th>\n",
       "      <td>bastakka/popcatindicator</td>\n",
       "      <td>Shell</td>\n",
       "      <td># popcatindicator\\nVolume indicator with Cat p...</td>\n",
       "      <td>indicator cat pop theme step one clone step tw...</td>\n",
       "    </tr>\n",
       "    <tr>\n",
       "      <th>999</th>\n",
       "      <td>siahtek/Throwdown_bot</td>\n",
       "      <td>JavaScript</td>\n",
       "      <td># Throwdown_bot\\nCloud Animation Throwdown (CA...</td>\n",
       "      <td>animation throwdown cat bot</td>\n",
       "    </tr>\n",
       "  </tbody>\n",
       "</table>\n",
       "<p>1000 rows × 4 columns</p>\n",
       "</div>"
      ],
      "text/plain": [
       "                                 repo          language  \\\n",
       "0                      typelevel/cats             Scala   \n",
       "1                       nyaadevs/nyaa            Python   \n",
       "2                   httpcats/http.cat        JavaScript   \n",
       "3    AlexiaJM/Deep-learning-with-cats            Python   \n",
       "4                         sharkdp/bat              Rust   \n",
       "..                                ...               ...   \n",
       "995    RomanKornev/dogs-vs-cats-redux  Jupyter Notebook   \n",
       "996                 snap-research/CAT            Python   \n",
       "997             datitran/Dogs-vs-Cats  Jupyter Notebook   \n",
       "998          bastakka/popcatindicator             Shell   \n",
       "999             siahtek/Throwdown_bot        JavaScript   \n",
       "\n",
       "                                       readme_contents  \\\n",
       "0    ## Cats\\n\\n![Cats graphic](https://typelevel.o...   \n",
       "1    # NyaaV2 [![Build Status](https://travis-ci.or...   \n",
       "2    #  http.cat [![Build Status](https://travis-ci...   \n",
       "3    # Deep-learning-with-cats\\n\\nThis repository i...   \n",
       "4    <p align=\"center\">\\n  <img src=\"doc/logo-heade...   \n",
       "..                                                 ...   \n",
       "995  # Dogs vs Cats\\nPredict whether a given image ...   \n",
       "996  # CAT\\n[CVPR](https://openaccess.thecvf.com/co...   \n",
       "997  # Dogs-vs-Cats\\n\\nA fun project to differentia...   \n",
       "998  # popcatindicator\\nVolume indicator with Cat p...   \n",
       "999  # Throwdown_bot\\nCloud Animation Throwdown (CA...   \n",
       "\n",
       "                                               cleaned  \n",
       "0    scala version continuous contributor open libr...  \n",
       "1    nyaav2 build setting project us python 37 feat...  \n",
       "2    httpcat build cat website hosted code older ve...  \n",
       "3    repository toy project gain experience buildin...  \n",
       "4    cat1 clone syntax highlighting git feature use...  \n",
       "..                                                 ...  \n",
       "995  dog v whether given image cat dog 997 accuracy...  \n",
       "996  tutorial method used mobile implementation met...  \n",
       "997  fun project differentiate dog kaggle create da...  \n",
       "998  indicator cat pop theme step one clone step tw...  \n",
       "999                        animation throwdown cat bot  \n",
       "\n",
       "[1000 rows x 4 columns]"
      ]
     },
     "execution_count": 11,
     "metadata": {},
     "output_type": "execute_result"
    }
   ],
   "source": [
    "df_cleaned"
   ]
  },
  {
   "cell_type": "markdown",
   "id": "7cd70fc1",
   "metadata": {},
   "source": [
    "## Examine Data"
   ]
  },
  {
   "cell_type": "code",
   "execution_count": 18,
   "id": "4e978466",
   "metadata": {},
   "outputs": [],
   "source": [
    "import matplotlib.pyplot as plt\n",
    "import seaborn as sns"
   ]
  },
  {
   "cell_type": "code",
   "execution_count": 78,
   "id": "c76b711d",
   "metadata": {},
   "outputs": [
    {
     "name": "stdout",
     "output_type": "stream",
     "text": [
      "<class 'pandas.core.frame.DataFrame'>\n",
      "RangeIndex: 1000 entries, 0 to 999\n",
      "Data columns (total 4 columns):\n",
      " #   Column           Non-Null Count  Dtype \n",
      "---  ------           --------------  ----- \n",
      " 0   repo             1000 non-null   object\n",
      " 1   language         940 non-null    object\n",
      " 2   readme_contents  1000 non-null   object\n",
      " 3   cleaned          1000 non-null   object\n",
      "dtypes: object(4)\n",
      "memory usage: 31.4+ KB\n"
     ]
    }
   ],
   "source": [
    "df_cleaned.info()"
   ]
  },
  {
   "cell_type": "markdown",
   "id": "973b6ffb",
   "metadata": {},
   "source": [
    "Check on the nulls."
   ]
  },
  {
   "cell_type": "code",
   "execution_count": 79,
   "id": "83dc7d42",
   "metadata": {},
   "outputs": [
    {
     "data": {
      "text/html": [
       "<div>\n",
       "<style scoped>\n",
       "    .dataframe tbody tr th:only-of-type {\n",
       "        vertical-align: middle;\n",
       "    }\n",
       "\n",
       "    .dataframe tbody tr th {\n",
       "        vertical-align: top;\n",
       "    }\n",
       "\n",
       "    .dataframe thead th {\n",
       "        text-align: right;\n",
       "    }\n",
       "</style>\n",
       "<table border=\"1\" class=\"dataframe\">\n",
       "  <thead>\n",
       "    <tr style=\"text-align: right;\">\n",
       "      <th></th>\n",
       "      <th>repo</th>\n",
       "      <th>language</th>\n",
       "      <th>readme_contents</th>\n",
       "      <th>cleaned</th>\n",
       "    </tr>\n",
       "  </thead>\n",
       "  <tbody>\n",
       "    <tr>\n",
       "      <th>0</th>\n",
       "      <td>typelevel/cats</td>\n",
       "      <td>Scala</td>\n",
       "      <td>## Cats\\n\\n![Cats graphic](https://typelevel.o...</td>\n",
       "      <td>scala version continuous contributor open libr...</td>\n",
       "    </tr>\n",
       "    <tr>\n",
       "      <th>1</th>\n",
       "      <td>nyaadevs/nyaa</td>\n",
       "      <td>Python</td>\n",
       "      <td># NyaaV2 [![Build Status](https://travis-ci.or...</td>\n",
       "      <td>nyaav2 build setting project us python 37 feat...</td>\n",
       "    </tr>\n",
       "    <tr>\n",
       "      <th>2</th>\n",
       "      <td>httpcats/http.cat</td>\n",
       "      <td>JavaScript</td>\n",
       "      <td>#  http.cat [![Build Status](https://travis-ci...</td>\n",
       "      <td>httpcat build cat website hosted code older ve...</td>\n",
       "    </tr>\n",
       "    <tr>\n",
       "      <th>3</th>\n",
       "      <td>AlexiaJM/Deep-learning-with-cats</td>\n",
       "      <td>Python</td>\n",
       "      <td># Deep-learning-with-cats\\n\\nThis repository i...</td>\n",
       "      <td>repository toy project gain experience buildin...</td>\n",
       "    </tr>\n",
       "    <tr>\n",
       "      <th>4</th>\n",
       "      <td>sharkdp/bat</td>\n",
       "      <td>Rust</td>\n",
       "      <td>&lt;p align=\"center\"&gt;\\n  &lt;img src=\"doc/logo-heade...</td>\n",
       "      <td>cat1 clone syntax highlighting git feature use...</td>\n",
       "    </tr>\n",
       "    <tr>\n",
       "      <th>...</th>\n",
       "      <td>...</td>\n",
       "      <td>...</td>\n",
       "      <td>...</td>\n",
       "      <td>...</td>\n",
       "    </tr>\n",
       "    <tr>\n",
       "      <th>995</th>\n",
       "      <td>RomanKornev/dogs-vs-cats-redux</td>\n",
       "      <td>Jupyter Notebook</td>\n",
       "      <td># Dogs vs Cats\\nPredict whether a given image ...</td>\n",
       "      <td>dog v whether given image cat dog 997 accuracy...</td>\n",
       "    </tr>\n",
       "    <tr>\n",
       "      <th>996</th>\n",
       "      <td>snap-research/CAT</td>\n",
       "      <td>Python</td>\n",
       "      <td># CAT\\n[CVPR](https://openaccess.thecvf.com/co...</td>\n",
       "      <td>tutorial method used mobile implementation met...</td>\n",
       "    </tr>\n",
       "    <tr>\n",
       "      <th>997</th>\n",
       "      <td>datitran/Dogs-vs-Cats</td>\n",
       "      <td>Jupyter Notebook</td>\n",
       "      <td># Dogs-vs-Cats\\n\\nA fun project to differentia...</td>\n",
       "      <td>fun project differentiate dog kaggle create da...</td>\n",
       "    </tr>\n",
       "    <tr>\n",
       "      <th>998</th>\n",
       "      <td>bastakka/popcatindicator</td>\n",
       "      <td>Shell</td>\n",
       "      <td># popcatindicator\\nVolume indicator with Cat p...</td>\n",
       "      <td>indicator cat pop theme step one clone step tw...</td>\n",
       "    </tr>\n",
       "    <tr>\n",
       "      <th>999</th>\n",
       "      <td>siahtek/Throwdown_bot</td>\n",
       "      <td>JavaScript</td>\n",
       "      <td># Throwdown_bot\\nCloud Animation Throwdown (CA...</td>\n",
       "      <td>animation throwdown cat bot</td>\n",
       "    </tr>\n",
       "  </tbody>\n",
       "</table>\n",
       "<p>940 rows × 4 columns</p>\n",
       "</div>"
      ],
      "text/plain": [
       "                                 repo          language  \\\n",
       "0                      typelevel/cats             Scala   \n",
       "1                       nyaadevs/nyaa            Python   \n",
       "2                   httpcats/http.cat        JavaScript   \n",
       "3    AlexiaJM/Deep-learning-with-cats            Python   \n",
       "4                         sharkdp/bat              Rust   \n",
       "..                                ...               ...   \n",
       "995    RomanKornev/dogs-vs-cats-redux  Jupyter Notebook   \n",
       "996                 snap-research/CAT            Python   \n",
       "997             datitran/Dogs-vs-Cats  Jupyter Notebook   \n",
       "998          bastakka/popcatindicator             Shell   \n",
       "999             siahtek/Throwdown_bot        JavaScript   \n",
       "\n",
       "                                       readme_contents  \\\n",
       "0    ## Cats\\n\\n![Cats graphic](https://typelevel.o...   \n",
       "1    # NyaaV2 [![Build Status](https://travis-ci.or...   \n",
       "2    #  http.cat [![Build Status](https://travis-ci...   \n",
       "3    # Deep-learning-with-cats\\n\\nThis repository i...   \n",
       "4    <p align=\"center\">\\n  <img src=\"doc/logo-heade...   \n",
       "..                                                 ...   \n",
       "995  # Dogs vs Cats\\nPredict whether a given image ...   \n",
       "996  # CAT\\n[CVPR](https://openaccess.thecvf.com/co...   \n",
       "997  # Dogs-vs-Cats\\n\\nA fun project to differentia...   \n",
       "998  # popcatindicator\\nVolume indicator with Cat p...   \n",
       "999  # Throwdown_bot\\nCloud Animation Throwdown (CA...   \n",
       "\n",
       "                                               cleaned  \n",
       "0    scala version continuous contributor open libr...  \n",
       "1    nyaav2 build setting project us python 37 feat...  \n",
       "2    httpcat build cat website hosted code older ve...  \n",
       "3    repository toy project gain experience buildin...  \n",
       "4    cat1 clone syntax highlighting git feature use...  \n",
       "..                                                 ...  \n",
       "995  dog v whether given image cat dog 997 accuracy...  \n",
       "996  tutorial method used mobile implementation met...  \n",
       "997  fun project differentiate dog kaggle create da...  \n",
       "998  indicator cat pop theme step one clone step tw...  \n",
       "999                        animation throwdown cat bot  \n",
       "\n",
       "[940 rows x 4 columns]"
      ]
     },
     "execution_count": 79,
     "metadata": {},
     "output_type": "execute_result"
    }
   ],
   "source": [
    "df_cleaned_no_nulls = df_cleaned[~df_cleaned.language.isnull()]\n",
    "df_cleaned_no_nulls"
   ]
  },
  {
   "cell_type": "code",
   "execution_count": 51,
   "id": "e23c8027",
   "metadata": {},
   "outputs": [
    {
     "data": {
      "text/plain": [
       "'# Throwdown_bot\\nCloud Animation Throwdown (CAT) Bot. \\n\\nsource from http://tiny.cc/AT_Beta\\n'"
      ]
     },
     "execution_count": 51,
     "metadata": {},
     "output_type": "execute_result"
    }
   ],
   "source": [
    "asdf = df_cleaned_no_nulls.readme_contents[999]\n",
    "asdf"
   ]
  },
  {
   "cell_type": "code",
   "execution_count": 52,
   "id": "8b85015d",
   "metadata": {},
   "outputs": [
    {
     "data": {
      "text/plain": [
       "90"
      ]
     },
     "execution_count": 52,
     "metadata": {},
     "output_type": "execute_result"
    }
   ],
   "source": [
    "len(asdf)"
   ]
  },
  {
   "cell_type": "code",
   "execution_count": 53,
   "id": "5ea2baa5",
   "metadata": {},
   "outputs": [
    {
     "data": {
      "text/plain": [
       "'animation throwdown cat bot'"
      ]
     },
     "execution_count": 53,
     "metadata": {},
     "output_type": "execute_result"
    }
   ],
   "source": [
    "fdsa = df_cleaned_no_nulls.cleaned[999]\n",
    "fdsa"
   ]
  },
  {
   "cell_type": "code",
   "execution_count": 54,
   "id": "8c40274e",
   "metadata": {},
   "outputs": [
    {
     "data": {
      "text/plain": [
       "27"
      ]
     },
     "execution_count": 54,
     "metadata": {},
     "output_type": "execute_result"
    }
   ],
   "source": [
    "len(fdsa)"
   ]
  },
  {
   "cell_type": "markdown",
   "id": "15f4e50d",
   "metadata": {},
   "source": [
    "Remove nulls"
   ]
  },
  {
   "cell_type": "code",
   "execution_count": 25,
   "id": "c6562e56",
   "metadata": {},
   "outputs": [
    {
     "data": {
      "image/png": "[encoded data removed]",
      "text/plain": [
       "<Figure size 1728x432 with 1 Axes>"
      ]
     },
     "metadata": {
      "needs_background": "light"
     },
     "output_type": "display_data"
    }
   ],
   "source": [
    "plt.figure(figsize = (24,6))\n",
    "sns.histplot(df_cleaned_no_nulls['language'])\n",
    "plt.show()"
   ]
  },
  {
   "cell_type": "code",
   "execution_count": 35,
   "id": "94e8a4d6",
   "metadata": {},
   "outputs": [],
   "source": [
    "string_lengths = []\n",
    "for i in df_cleaned_no_nulls.cleaned:\n",
    "    string_lengths.append(len(i))\n",
    "string_lengths.sort()"
   ]
  },
  {
   "cell_type": "code",
   "execution_count": 65,
   "id": "c4ef90cc",
   "metadata": {},
   "outputs": [
    {
     "data": {
      "text/plain": [
       "0      [scala, version, continuous, contributor, open...\n",
       "1      [nyaav2, build, setting, project, us, python, ...\n",
       "2      [httpcat, build, cat, website, hosted, code, o...\n",
       "3      [repository, toy, project, gain, experience, b...\n",
       "4      [cat1, clone, syntax, highlighting, git, featu...\n",
       "                             ...                        \n",
       "995    [dog, v, whether, given, image, cat, dog, 997,...\n",
       "996    [tutorial, method, used, mobile, implementatio...\n",
       "997    [fun, project, differentiate, dog, kaggle, cre...\n",
       "998    [indicator, cat, pop, theme, step, one, clone,...\n",
       "999                     [animation, throwdown, cat, bot]\n",
       "Name: cleaned, Length: 940, dtype: object"
      ]
     },
     "execution_count": 65,
     "metadata": {},
     "output_type": "execute_result"
    }
   ],
   "source": [
    "df_cleaned_no_nulls.cleaned.str.split(' ')"
   ]
  },
  {
   "cell_type": "code",
   "execution_count": 92,
   "id": "a34826c9",
   "metadata": {},
   "outputs": [
    {
     "name": "stderr",
     "output_type": "stream",
     "text": [
      "/var/folders/nw/8yyyyp8n70vbplhdsylyqs8c0000gn/T/ipykernel_15256/2451193437.py:1: SettingWithCopyWarning: \n",
      "A value is trying to be set on a copy of a slice from a DataFrame.\n",
      "Try using .loc[row_indexer,col_indexer] = value instead\n",
      "\n",
      "See the caveats in the documentation: https://pandas.pydata.org/pandas-docs/stable/user_guide/indexing.html#returning-a-view-versus-a-copy\n",
      "  df_cleaned_no_nulls['cleaned_length'] = df_cleaned_no_nulls.cleaned.str.split(' ').str.len()\n"
     ]
    }
   ],
   "source": [
    "df_cleaned_no_nulls['cleaned_length'] = df_cleaned_no_nulls.cleaned.str.split(' ').str.len()"
   ]
  },
  {
   "cell_type": "code",
   "execution_count": 106,
   "id": "718f4977",
   "metadata": {},
   "outputs": [
    {
     "data": {
      "image/png": "[encoded data removed]",
      "text/plain": [
       "<Figure size 1728x576 with 1 Axes>"
      ]
     },
     "metadata": {
      "needs_background": "light"
     },
     "output_type": "display_data"
    }
   ],
   "source": [
    "plt.figure(figsize = (24,8))\n",
    "sns.histplot(df_cleaned_no_nulls[df_cleaned_no_nulls.cleaned_length < 10])\n",
    "plt.show()"
   ]
  },
  {
   "cell_type": "code",
   "execution_count": 107,
   "id": "7c6a88e8",
   "metadata": {},
   "outputs": [
    {
     "data": {
      "text/plain": [
       "count      940.000000\n",
       "mean       164.369149\n",
       "std        462.498082\n",
       "min          1.000000\n",
       "25%         18.000000\n",
       "50%         63.000000\n",
       "75%        169.250000\n",
       "max      10519.000000\n",
       "Name: cleaned_length, dtype: float64"
      ]
     },
     "execution_count": 107,
     "metadata": {},
     "output_type": "execute_result"
    }
   ],
   "source": [
    "df_cleaned_no_nulls.cleaned_length.describe()"
   ]
  },
  {
   "cell_type": "code",
   "execution_count": 113,
   "id": "56d23d02",
   "metadata": {},
   "outputs": [
    {
     "data": {
      "text/html": [
       "<div>\n",
       "<style scoped>\n",
       "    .dataframe tbody tr th:only-of-type {\n",
       "        vertical-align: middle;\n",
       "    }\n",
       "\n",
       "    .dataframe tbody tr th {\n",
       "        vertical-align: top;\n",
       "    }\n",
       "\n",
       "    .dataframe thead th {\n",
       "        text-align: right;\n",
       "    }\n",
       "</style>\n",
       "<table border=\"1\" class=\"dataframe\">\n",
       "  <thead>\n",
       "    <tr style=\"text-align: right;\">\n",
       "      <th></th>\n",
       "      <th>Low Outliers</th>\n",
       "      <th>25% Quantile</th>\n",
       "      <th>Median</th>\n",
       "      <th>75% Quantile</th>\n",
       "      <th>High Outliers</th>\n",
       "    </tr>\n",
       "    <tr>\n",
       "      <th>Variable</th>\n",
       "      <th></th>\n",
       "      <th></th>\n",
       "      <th></th>\n",
       "      <th></th>\n",
       "      <th></th>\n",
       "    </tr>\n",
       "  </thead>\n",
       "  <tbody>\n",
       "    <tr>\n",
       "      <th>cleaned_length</th>\n",
       "      <td>0</td>\n",
       "      <td>18.0</td>\n",
       "      <td>63.0</td>\n",
       "      <td>169.25</td>\n",
       "      <td>623.0</td>\n",
       "    </tr>\n",
       "  </tbody>\n",
       "</table>\n",
       "</div>"
      ],
      "text/plain": [
       "                Low Outliers  25% Quantile  Median  75% Quantile  \\\n",
       "Variable                                                           \n",
       "cleaned_length             0          18.0    63.0        169.25   \n",
       "\n",
       "                High Outliers  \n",
       "Variable                       \n",
       "cleaned_length          623.0  "
      ]
     },
     "execution_count": 113,
     "metadata": {},
     "output_type": "execute_result"
    }
   ],
   "source": [
    "iqr_list = []\n",
    "k=3\n",
    "for col in ['cleaned_length']:\n",
    "    dict_list={}\n",
    "    variable = df_cleaned_no_nulls[col]\n",
    "    q1 = variable.quantile(.25)\n",
    "    q2 = variable.median()\n",
    "    q3 = variable.quantile(.75)\n",
    "    irq = k * (q3 - q1)\n",
    "    high_outlier_cutoff = q3 + irq\n",
    "    if (q1 - irq) > 0:\n",
    "        low_outlier_cutoff = q1 - irq\n",
    "    else:\n",
    "        low_outlier_cutoff = 0\n",
    "    dict_list['Variable'] = col\n",
    "    dict_list['Low Outliers'] = low_outlier_cutoff\n",
    "    dict_list['25% Quantile'] = q1\n",
    "    dict_list['Median'] = q2\n",
    "    dict_list['75% Quantile'] = q3\n",
    "    dict_list['High Outliers'] = high_outlier_cutoff\n",
    "    iqr_list.append(dict_list)\n",
    "pd.DataFrame(iqr_list).set_index('Variable')"
   ]
  },
  {
   "cell_type": "code",
   "execution_count": 119,
   "id": "50ea48b0",
   "metadata": {},
   "outputs": [
    {
     "data": {
      "text/html": [
       "<div>\n",
       "<style scoped>\n",
       "    .dataframe tbody tr th:only-of-type {\n",
       "        vertical-align: middle;\n",
       "    }\n",
       "\n",
       "    .dataframe tbody tr th {\n",
       "        vertical-align: top;\n",
       "    }\n",
       "\n",
       "    .dataframe thead th {\n",
       "        text-align: right;\n",
       "    }\n",
       "</style>\n",
       "<table border=\"1\" class=\"dataframe\">\n",
       "  <thead>\n",
       "    <tr style=\"text-align: right;\">\n",
       "      <th></th>\n",
       "      <th>repo</th>\n",
       "      <th>language</th>\n",
       "      <th>readme_contents</th>\n",
       "      <th>cleaned</th>\n",
       "      <th>cleaned_length</th>\n",
       "    </tr>\n",
       "  </thead>\n",
       "  <tbody>\n",
       "    <tr>\n",
       "      <th>11</th>\n",
       "      <td>Luohuayu/CatServer</td>\n",
       "      <td>Java</td>\n",
       "      <td></td>\n",
       "      <td></td>\n",
       "      <td>1</td>\n",
       "    </tr>\n",
       "    <tr>\n",
       "      <th>13</th>\n",
       "      <td>tpolecat/natchez</td>\n",
       "      <td>Scala</td>\n",
       "      <td># Natchez Trace\\n\\n[![Discord](https://img.shi...</td>\n",
       "      <td>natchez chat distributed tracing library proceed</td>\n",
       "      <td>6</td>\n",
       "    </tr>\n",
       "    <tr>\n",
       "      <th>40</th>\n",
       "      <td>typelevel/cats-parse</td>\n",
       "      <td>Scala</td>\n",
       "      <td>docs/index.md</td>\n",
       "      <td>docsindexmd</td>\n",
       "      <td>1</td>\n",
       "    </tr>\n",
       "    <tr>\n",
       "      <th>45</th>\n",
       "      <td>udacity/ud989-cat-clicker-ko-starter</td>\n",
       "      <td>HTML</td>\n",
       "      <td>ud989-cat-clicker-ko-starter\\n================...</td>\n",
       "      <td></td>\n",
       "      <td>1</td>\n",
       "    </tr>\n",
       "    <tr>\n",
       "      <th>49</th>\n",
       "      <td>kastnerkyle/kaggle-dogs-vs-cats</td>\n",
       "      <td>Python</td>\n",
       "      <td>kaggle-cifar10\\n==============\\n\\nCode for Kag...</td>\n",
       "      <td>kaggle dog v cat</td>\n",
       "      <td>4</td>\n",
       "    </tr>\n",
       "    <tr>\n",
       "      <th>...</th>\n",
       "      <td>...</td>\n",
       "      <td>...</td>\n",
       "      <td>...</td>\n",
       "      <td>...</td>\n",
       "      <td>...</td>\n",
       "    </tr>\n",
       "    <tr>\n",
       "      <th>963</th>\n",
       "      <td>dcarriger/cat-repo</td>\n",
       "      <td>Python</td>\n",
       "      <td></td>\n",
       "      <td></td>\n",
       "      <td>1</td>\n",
       "    </tr>\n",
       "    <tr>\n",
       "      <th>978</th>\n",
       "      <td>wzyanqi/dogs-vs-cats</td>\n",
       "      <td>Jupyter Notebook</td>\n",
       "      <td># dogs-vs-cats\\n[猫狗大战](https://www.kaggle.com/...</td>\n",
       "      <td>file3csv modelpng 25pdf</td>\n",
       "      <td>3</td>\n",
       "    </tr>\n",
       "    <tr>\n",
       "      <th>980</th>\n",
       "      <td>hawkrai/CATSdesigner</td>\n",
       "      <td>C#</td>\n",
       "      <td># CATSdesigner\\n</td>\n",
       "      <td></td>\n",
       "      <td>1</td>\n",
       "    </tr>\n",
       "    <tr>\n",
       "      <th>984</th>\n",
       "      <td>kdszafranski/omicron_express_review</td>\n",
       "      <td>JavaScript</td>\n",
       "      <td># Node-Express with Cats!\\n</td>\n",
       "      <td>nodeexpress</td>\n",
       "      <td>1</td>\n",
       "    </tr>\n",
       "    <tr>\n",
       "      <th>999</th>\n",
       "      <td>siahtek/Throwdown_bot</td>\n",
       "      <td>JavaScript</td>\n",
       "      <td># Throwdown_bot\\nCloud Animation Throwdown (CA...</td>\n",
       "      <td>animation throwdown cat bot</td>\n",
       "      <td>4</td>\n",
       "    </tr>\n",
       "  </tbody>\n",
       "</table>\n",
       "<p>173 rows × 5 columns</p>\n",
       "</div>"
      ],
      "text/plain": [
       "                                     repo          language  \\\n",
       "11                     Luohuayu/CatServer              Java   \n",
       "13                       tpolecat/natchez             Scala   \n",
       "40                   typelevel/cats-parse             Scala   \n",
       "45   udacity/ud989-cat-clicker-ko-starter              HTML   \n",
       "49        kastnerkyle/kaggle-dogs-vs-cats            Python   \n",
       "..                                    ...               ...   \n",
       "963                    dcarriger/cat-repo            Python   \n",
       "978                  wzyanqi/dogs-vs-cats  Jupyter Notebook   \n",
       "980                  hawkrai/CATSdesigner                C#   \n",
       "984   kdszafranski/omicron_express_review        JavaScript   \n",
       "999                 siahtek/Throwdown_bot        JavaScript   \n",
       "\n",
       "                                       readme_contents  \\\n",
       "11                                                       \n",
       "13   # Natchez Trace\\n\\n[![Discord](https://img.shi...   \n",
       "40                                       docs/index.md   \n",
       "45   ud989-cat-clicker-ko-starter\\n================...   \n",
       "49   kaggle-cifar10\\n==============\\n\\nCode for Kag...   \n",
       "..                                                 ...   \n",
       "963                                                      \n",
       "978  # dogs-vs-cats\\n[猫狗大战](https://www.kaggle.com/...   \n",
       "980                                   # CATSdesigner\\n   \n",
       "984                        # Node-Express with Cats!\\n   \n",
       "999  # Throwdown_bot\\nCloud Animation Throwdown (CA...   \n",
       "\n",
       "                                              cleaned  cleaned_length  \n",
       "11                                                                  1  \n",
       "13   natchez chat distributed tracing library proceed               6  \n",
       "40                                        docsindexmd               1  \n",
       "45                                                                  1  \n",
       "49                                   kaggle dog v cat               4  \n",
       "..                                                ...             ...  \n",
       "963                                                                 1  \n",
       "978                           file3csv modelpng 25pdf               3  \n",
       "980                                                                 1  \n",
       "984                                       nodeexpress               1  \n",
       "999                       animation throwdown cat bot               4  \n",
       "\n",
       "[173 rows x 5 columns]"
      ]
     },
     "execution_count": 119,
     "metadata": {},
     "output_type": "execute_result"
    }
   ],
   "source": [
    "df_cleaned_no_nulls[df_cleaned_no_nulls.cleaned_length < 10]"
   ]
  },
  {
   "cell_type": "code",
   "execution_count": 126,
   "id": "246c23d5",
   "metadata": {},
   "outputs": [
    {
     "data": {
      "text/html": [
       "<div>\n",
       "<style scoped>\n",
       "    .dataframe tbody tr th:only-of-type {\n",
       "        vertical-align: middle;\n",
       "    }\n",
       "\n",
       "    .dataframe tbody tr th {\n",
       "        vertical-align: top;\n",
       "    }\n",
       "\n",
       "    .dataframe thead th {\n",
       "        text-align: right;\n",
       "    }\n",
       "</style>\n",
       "<table border=\"1\" class=\"dataframe\">\n",
       "  <thead>\n",
       "    <tr style=\"text-align: right;\">\n",
       "      <th></th>\n",
       "      <th>repo</th>\n",
       "      <th>language</th>\n",
       "      <th>readme_contents</th>\n",
       "      <th>cleaned</th>\n",
       "      <th>cleaned_length</th>\n",
       "    </tr>\n",
       "  </thead>\n",
       "  <tbody>\n",
       "    <tr>\n",
       "      <th>50</th>\n",
       "      <td>notwaldorf/cat-dns</td>\n",
       "      <td>JavaScript</td>\n",
       "      <td>cat-dns\\n=======\\n\\nThe Internet needs more ca...</td>\n",
       "      <td>internet need cat dns server authority thing i...</td>\n",
       "      <td>223</td>\n",
       "    </tr>\n",
       "  </tbody>\n",
       "</table>\n",
       "</div>"
      ],
      "text/plain": [
       "                  repo    language  \\\n",
       "50  notwaldorf/cat-dns  JavaScript   \n",
       "\n",
       "                                      readme_contents  \\\n",
       "50  cat-dns\\n=======\\n\\nThe Internet needs more ca...   \n",
       "\n",
       "                                              cleaned  cleaned_length  \n",
       "50  internet need cat dns server authority thing i...             223  "
      ]
     },
     "execution_count": 126,
     "metadata": {},
     "output_type": "execute_result"
    }
   ],
   "source": [
    "df_cleaned_no_nulls[df_cleaned_no_nulls.repo == 'notwaldorf/cat-dns']"
   ]
  },
  {
   "cell_type": "code",
   "execution_count": 131,
   "id": "9e67dee2",
   "metadata": {},
   "outputs": [
    {
     "data": {
      "text/plain": [
       "11.0"
      ]
     },
     "execution_count": 131,
     "metadata": {},
     "output_type": "execute_result"
    }
   ],
   "source": [
    "import numpy as np\n",
    "np.quantile(df_cleaned_no_nulls.cleaned_length, .20)"
   ]
  },
  {
   "cell_type": "markdown",
   "id": "c12e72db",
   "metadata": {},
   "source": [
    "##### We are going to drop the bottom 20% and then use that."
   ]
  },
  {
   "cell_type": "code",
   "execution_count": null,
   "id": "7922cc6c",
   "metadata": {},
   "outputs": [],
   "source": []
  },
  {
   "cell_type": "code",
   "execution_count": 132,
   "id": "84cec487",
   "metadata": {
    "scrolled": true
   },
   "outputs": [
    {
     "data": {
      "text/html": [
       "<div>\n",
       "<style scoped>\n",
       "    .dataframe tbody tr th:only-of-type {\n",
       "        vertical-align: middle;\n",
       "    }\n",
       "\n",
       "    .dataframe tbody tr th {\n",
       "        vertical-align: top;\n",
       "    }\n",
       "\n",
       "    .dataframe thead th {\n",
       "        text-align: right;\n",
       "    }\n",
       "</style>\n",
       "<table border=\"1\" class=\"dataframe\">\n",
       "  <thead>\n",
       "    <tr style=\"text-align: right;\">\n",
       "      <th></th>\n",
       "      <th>repo</th>\n",
       "      <th>language</th>\n",
       "      <th>readme_contents</th>\n",
       "      <th>cleaned</th>\n",
       "      <th>cleaned_length</th>\n",
       "    </tr>\n",
       "  </thead>\n",
       "  <tbody>\n",
       "    <tr>\n",
       "      <th>0</th>\n",
       "      <td>typelevel/cats</td>\n",
       "      <td>Scala</td>\n",
       "      <td>## Cats\\n\\n![Cats graphic](https://typelevel.o...</td>\n",
       "      <td>scala version continuous contributor open libr...</td>\n",
       "      <td>541</td>\n",
       "    </tr>\n",
       "    <tr>\n",
       "      <th>1</th>\n",
       "      <td>nyaadevs/nyaa</td>\n",
       "      <td>Python</td>\n",
       "      <td># NyaaV2 [![Build Status](https://travis-ci.or...</td>\n",
       "      <td>nyaav2 build setting project us python 37 feat...</td>\n",
       "      <td>519</td>\n",
       "    </tr>\n",
       "    <tr>\n",
       "      <th>2</th>\n",
       "      <td>httpcats/http.cat</td>\n",
       "      <td>JavaScript</td>\n",
       "      <td>#  http.cat [![Build Status](https://travis-ci...</td>\n",
       "      <td>httpcat build cat website hosted code older ve...</td>\n",
       "      <td>86</td>\n",
       "    </tr>\n",
       "    <tr>\n",
       "      <th>3</th>\n",
       "      <td>AlexiaJM/Deep-learning-with-cats</td>\n",
       "      <td>Python</td>\n",
       "      <td># Deep-learning-with-cats\\n\\nThis repository i...</td>\n",
       "      <td>repository toy project gain experience buildin...</td>\n",
       "      <td>214</td>\n",
       "    </tr>\n",
       "    <tr>\n",
       "      <th>4</th>\n",
       "      <td>sharkdp/bat</td>\n",
       "      <td>Rust</td>\n",
       "      <td>&lt;p align=\"center\"&gt;\\n  &lt;img src=\"doc/logo-heade...</td>\n",
       "      <td>cat1 clone syntax highlighting git feature use...</td>\n",
       "      <td>1517</td>\n",
       "    </tr>\n",
       "    <tr>\n",
       "      <th>...</th>\n",
       "      <td>...</td>\n",
       "      <td>...</td>\n",
       "      <td>...</td>\n",
       "      <td>...</td>\n",
       "      <td>...</td>\n",
       "    </tr>\n",
       "    <tr>\n",
       "      <th>993</th>\n",
       "      <td>imfing/keras-flask-deploy-webapp</td>\n",
       "      <td>JavaScript</td>\n",
       "      <td># Deploy Keras Model with Flask as Web App in ...</td>\n",
       "      <td>deploy kera model flask web app 10 pretty cust...</td>\n",
       "      <td>165</td>\n",
       "    </tr>\n",
       "    <tr>\n",
       "      <th>995</th>\n",
       "      <td>RomanKornev/dogs-vs-cats-redux</td>\n",
       "      <td>Jupyter Notebook</td>\n",
       "      <td># Dogs vs Cats\\nPredict whether a given image ...</td>\n",
       "      <td>dog v whether given image cat dog 997 accuracy...</td>\n",
       "      <td>108</td>\n",
       "    </tr>\n",
       "    <tr>\n",
       "      <th>996</th>\n",
       "      <td>snap-research/CAT</td>\n",
       "      <td>Python</td>\n",
       "      <td># CAT\\n[CVPR](https://openaccess.thecvf.com/co...</td>\n",
       "      <td>tutorial method used mobile implementation met...</td>\n",
       "      <td>458</td>\n",
       "    </tr>\n",
       "    <tr>\n",
       "      <th>997</th>\n",
       "      <td>datitran/Dogs-vs-Cats</td>\n",
       "      <td>Jupyter Notebook</td>\n",
       "      <td># Dogs-vs-Cats\\n\\nA fun project to differentia...</td>\n",
       "      <td>fun project differentiate dog kaggle create da...</td>\n",
       "      <td>29</td>\n",
       "    </tr>\n",
       "    <tr>\n",
       "      <th>998</th>\n",
       "      <td>bastakka/popcatindicator</td>\n",
       "      <td>Shell</td>\n",
       "      <td># popcatindicator\\nVolume indicator with Cat p...</td>\n",
       "      <td>indicator cat pop theme step one clone step tw...</td>\n",
       "      <td>89</td>\n",
       "    </tr>\n",
       "  </tbody>\n",
       "</table>\n",
       "<p>743 rows × 5 columns</p>\n",
       "</div>"
      ],
      "text/plain": [
       "                                 repo          language  \\\n",
       "0                      typelevel/cats             Scala   \n",
       "1                       nyaadevs/nyaa            Python   \n",
       "2                   httpcats/http.cat        JavaScript   \n",
       "3    AlexiaJM/Deep-learning-with-cats            Python   \n",
       "4                         sharkdp/bat              Rust   \n",
       "..                                ...               ...   \n",
       "993  imfing/keras-flask-deploy-webapp        JavaScript   \n",
       "995    RomanKornev/dogs-vs-cats-redux  Jupyter Notebook   \n",
       "996                 snap-research/CAT            Python   \n",
       "997             datitran/Dogs-vs-Cats  Jupyter Notebook   \n",
       "998          bastakka/popcatindicator             Shell   \n",
       "\n",
       "                                       readme_contents  \\\n",
       "0    ## Cats\\n\\n![Cats graphic](https://typelevel.o...   \n",
       "1    # NyaaV2 [![Build Status](https://travis-ci.or...   \n",
       "2    #  http.cat [![Build Status](https://travis-ci...   \n",
       "3    # Deep-learning-with-cats\\n\\nThis repository i...   \n",
       "4    <p align=\"center\">\\n  <img src=\"doc/logo-heade...   \n",
       "..                                                 ...   \n",
       "993  # Deploy Keras Model with Flask as Web App in ...   \n",
       "995  # Dogs vs Cats\\nPredict whether a given image ...   \n",
       "996  # CAT\\n[CVPR](https://openaccess.thecvf.com/co...   \n",
       "997  # Dogs-vs-Cats\\n\\nA fun project to differentia...   \n",
       "998  # popcatindicator\\nVolume indicator with Cat p...   \n",
       "\n",
       "                                               cleaned  cleaned_length  \n",
       "0    scala version continuous contributor open libr...             541  \n",
       "1    nyaav2 build setting project us python 37 feat...             519  \n",
       "2    httpcat build cat website hosted code older ve...              86  \n",
       "3    repository toy project gain experience buildin...             214  \n",
       "4    cat1 clone syntax highlighting git feature use...            1517  \n",
       "..                                                 ...             ...  \n",
       "993  deploy kera model flask web app 10 pretty cust...             165  \n",
       "995  dog v whether given image cat dog 997 accuracy...             108  \n",
       "996  tutorial method used mobile implementation met...             458  \n",
       "997  fun project differentiate dog kaggle create da...              29  \n",
       "998  indicator cat pop theme step one clone step tw...              89  \n",
       "\n",
       "[743 rows x 5 columns]"
      ]
     },
     "execution_count": 132,
     "metadata": {},
     "output_type": "execute_result"
    }
   ],
   "source": [
    "df_working = df_cleaned_no_nulls[df_cleaned_no_nulls.cleaned_length > 11]\n",
    "df_working"
   ]
  },
  {
   "cell_type": "code",
   "execution_count": 133,
   "id": "d1c626ca",
   "metadata": {},
   "outputs": [
    {
     "data": {
      "text/plain": [
       "<AxesSubplot:>"
      ]
     },
     "execution_count": 133,
     "metadata": {},
     "output_type": "execute_result"
    },
    {
     "data": {
      "image/png": "[encoded data removed]",
      "text/plain": [
       "<Figure size 432x288 with 1 Axes>"
      ]
     },
     "metadata": {
      "needs_background": "light"
     },
     "output_type": "display_data"
    }
   ],
   "source": [
    "df_working.cleaned_length.hist()"
   ]
  },
  {
   "cell_type": "markdown",
   "id": "12679472",
   "metadata": {},
   "source": [
    "# UNIVARIATE EXPLORATION\n",
    "1. Remove Nulls\n",
    "2. Create word count column\n",
    "3. Run univariate stats on language (target) and word column"
   ]
  },
  {
   "cell_type": "code",
   "execution_count": 141,
   "id": "9c7b0985",
   "metadata": {},
   "outputs": [
    {
     "data": {
      "text/plain": [
       "Scala               148\n",
       "Python              127\n",
       "JavaScript          118\n",
       "Jupyter Notebook     35\n",
       "HTML                 28\n",
       "C++                  26\n",
       "C#                   22\n",
       "C                    22\n",
       "Go                   21\n",
       "Ruby                 19\n",
       "Java                 18\n",
       "Shell                17\n",
       "TypeScript           17\n",
       "PHP                  16\n",
       "CSS                  13\n",
       "Rust                  8\n",
       "Kotlin                6\n",
       "R                     6\n",
       "Swift                 6\n",
       "Clojure               5\n",
       "Objective-C           5\n",
       "Haskell               4\n",
       "Vue                   4\n",
       "Lua                   4\n",
       "Dart                  4\n",
       "Perl                  3\n",
       "PowerShell            3\n",
       "TeX                   2\n",
       "CoffeeScript          2\n",
       "Assembly              2\n",
       "MATLAB                2\n",
       "Emacs Lisp            2\n",
       "Dockerfile            1\n",
       "Mathematica           1\n",
       "Solidity              1\n",
       "Makefile              1\n",
       "EJS                   1\n",
       "SystemVerilog         1\n",
       "Matlab                1\n",
       "Vala                  1\n",
       "Pascal                1\n",
       "Agda                  1\n",
       "CLIPS                 1\n",
       "VimL                  1\n",
       "Stata                 1\n",
       "Roff                  1\n",
       "GDScript              1\n",
       "SCSS                  1\n",
       "Sage                  1\n",
       "Svelte                1\n",
       "Batchfile             1\n",
       "Vim script            1\n",
       "OCaml                 1\n",
       "Reason                1\n",
       "SourcePawn            1\n",
       "Arduino               1\n",
       "TSQL                  1\n",
       "Common Lisp           1\n",
       "ASP                   1\n",
       "KiCad                 1\n",
       "Name: language, dtype: int64"
      ]
     },
     "execution_count": 141,
     "metadata": {},
     "output_type": "execute_result"
    }
   ],
   "source": [
    "df_working.language.value_counts()"
   ]
  },
  {
   "cell_type": "code",
   "execution_count": 140,
   "id": "74546fe7",
   "metadata": {},
   "outputs": [
    {
     "data": {
      "text/plain": [
       "70"
      ]
     },
     "execution_count": 140,
     "metadata": {},
     "output_type": "execute_result"
    }
   ],
   "source": [
    "df_working.language.value_counts()[df_working.language.value_counts()<6].sum()"
   ]
  }
 ],
 "metadata": {
  "kernelspec": {
   "display_name": "Python 3 (ipykernel)",
   "language": "python",
   "name": "python3"
  },
  "language_info": {
   "codemirror_mode": {
    "name": "ipython",
    "version": 3
   },
   "file_extension": ".py",
   "mimetype": "text/x-python",
   "name": "python",
   "nbconvert_exporter": "python",
   "pygments_lexer": "ipython3",
   "version": "3.9.7"
  }
 },
 "nbformat": 4,
 "nbformat_minor": 5
}
