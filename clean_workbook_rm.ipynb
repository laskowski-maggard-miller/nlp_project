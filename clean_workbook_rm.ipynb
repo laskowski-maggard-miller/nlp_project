{
 "cells": [
  {
   "cell_type": "code",
   "execution_count": 1,
   "id": "98379b74",
   "metadata": {},
   "outputs": [
    {
     "name": "stderr",
     "output_type": "stream",
     "text": [
      "/opt/homebrew/anaconda3/lib/python3.9/site-packages/scipy/__init__.py:146: UserWarning: A NumPy version >=1.16.5 and <1.23.0 is required for this version of SciPy (detected version 1.23.0\n",
      "  warnings.warn(f\"A NumPy version >={np_minversion} and <{np_maxversion}\"\n"
     ]
    }
   ],
   "source": [
    "import unicodedata\n",
    "import re\n",
    "import json\n",
    "\n",
    "import nltk\n",
    "from nltk.tokenize.toktok import ToktokTokenizer\n",
    "from nltk.corpus import stopwords\n",
    "\n",
    "import pandas as pd\n",
    "\n",
    "import acquire\n",
    "import prepare\n",
    "\n",
    "from bs4 import BeautifulSoup as bs"
   ]
  },
  {
   "cell_type": "markdown",
   "id": "114dea1d",
   "metadata": {},
   "source": [
    "## Step 1: Use repo list to acquire repo information"
   ]
  },
  {
   "cell_type": "code",
   "execution_count": 2,
   "id": "d48a8063",
   "metadata": {},
   "outputs": [
    {
     "data": {
      "text/html": [
       "<div>\n",
       "<style scoped>\n",
       "    .dataframe tbody tr th:only-of-type {\n",
       "        vertical-align: middle;\n",
       "    }\n",
       "\n",
       "    .dataframe tbody tr th {\n",
       "        vertical-align: top;\n",
       "    }\n",
       "\n",
       "    .dataframe thead th {\n",
       "        text-align: right;\n",
       "    }\n",
       "</style>\n",
       "<table border=\"1\" class=\"dataframe\">\n",
       "  <thead>\n",
       "    <tr style=\"text-align: right;\">\n",
       "      <th></th>\n",
       "      <th>Unnamed: 0</th>\n",
       "      <th>0</th>\n",
       "    </tr>\n",
       "  </thead>\n",
       "  <tbody>\n",
       "    <tr>\n",
       "      <th>0</th>\n",
       "      <td>0</td>\n",
       "      <td>typelevel/cats</td>\n",
       "    </tr>\n",
       "    <tr>\n",
       "      <th>1</th>\n",
       "      <td>1</td>\n",
       "      <td>nyaadevs/nyaa</td>\n",
       "    </tr>\n",
       "    <tr>\n",
       "      <th>2</th>\n",
       "      <td>2</td>\n",
       "      <td>httpcats/http.cat</td>\n",
       "    </tr>\n",
       "    <tr>\n",
       "      <th>3</th>\n",
       "      <td>3</td>\n",
       "      <td>AlexiaJM/Deep-learning-with-cats</td>\n",
       "    </tr>\n",
       "    <tr>\n",
       "      <th>4</th>\n",
       "      <td>4</td>\n",
       "      <td>sharkdp/bat</td>\n",
       "    </tr>\n",
       "    <tr>\n",
       "      <th>...</th>\n",
       "      <td>...</td>\n",
       "      <td>...</td>\n",
       "    </tr>\n",
       "    <tr>\n",
       "      <th>995</th>\n",
       "      <td>995</td>\n",
       "      <td>RomanKornev/dogs-vs-cats-redux</td>\n",
       "    </tr>\n",
       "    <tr>\n",
       "      <th>996</th>\n",
       "      <td>996</td>\n",
       "      <td>snap-research/CAT</td>\n",
       "    </tr>\n",
       "    <tr>\n",
       "      <th>997</th>\n",
       "      <td>997</td>\n",
       "      <td>datitran/Dogs-vs-Cats</td>\n",
       "    </tr>\n",
       "    <tr>\n",
       "      <th>998</th>\n",
       "      <td>998</td>\n",
       "      <td>bastakka/popcatindicator</td>\n",
       "    </tr>\n",
       "    <tr>\n",
       "      <th>999</th>\n",
       "      <td>999</td>\n",
       "      <td>siahtek/Throwdown_bot</td>\n",
       "    </tr>\n",
       "  </tbody>\n",
       "</table>\n",
       "<p>1000 rows × 2 columns</p>\n",
       "</div>"
      ],
      "text/plain": [
       "     Unnamed: 0                                 0\n",
       "0             0                    typelevel/cats\n",
       "1             1                     nyaadevs/nyaa\n",
       "2             2                 httpcats/http.cat\n",
       "3             3  AlexiaJM/Deep-learning-with-cats\n",
       "4             4                       sharkdp/bat\n",
       "..          ...                               ...\n",
       "995         995    RomanKornev/dogs-vs-cats-redux\n",
       "996         996                 snap-research/CAT\n",
       "997         997             datitran/Dogs-vs-Cats\n",
       "998         998          bastakka/popcatindicator\n",
       "999         999             siahtek/Throwdown_bot\n",
       "\n",
       "[1000 rows x 2 columns]"
      ]
     },
     "execution_count": 2,
     "metadata": {},
     "output_type": "execute_result"
    }
   ],
   "source": [
    "df = pd.read_csv('repo_list.csv')\n",
    "df"
   ]
  },
  {
   "cell_type": "markdown",
   "id": "315dd0ac",
   "metadata": {},
   "source": [
    "### *Executed acquire in the terminal.*"
   ]
  },
  {
   "cell_type": "markdown",
   "id": "f41dd18f",
   "metadata": {},
   "source": [
    "## Step 2: Convert json file to dataframe"
   ]
  },
  {
   "cell_type": "code",
   "execution_count": 3,
   "id": "2af1db2b",
   "metadata": {},
   "outputs": [],
   "source": [
    "f = open('data.json')\n",
    "\n",
    "data = json.load(f)\n",
    "\n",
    "df_repos_raw = pd.DataFrame(data)"
   ]
  },
  {
   "cell_type": "code",
   "execution_count": 4,
   "id": "f9132cfa",
   "metadata": {},
   "outputs": [
    {
     "name": "stdout",
     "output_type": "stream",
     "text": [
      "<class 'pandas.core.frame.DataFrame'>\n",
      "RangeIndex: 1000 entries, 0 to 999\n",
      "Data columns (total 3 columns):\n",
      " #   Column           Non-Null Count  Dtype \n",
      "---  ------           --------------  ----- \n",
      " 0   repo             1000 non-null   object\n",
      " 1   language         940 non-null    object\n",
      " 2   readme_contents  1000 non-null   object\n",
      "dtypes: object(3)\n",
      "memory usage: 23.6+ KB\n"
     ]
    }
   ],
   "source": [
    "df_repos_raw.info()"
   ]
  },
  {
   "cell_type": "markdown",
   "id": "f20c4290",
   "metadata": {},
   "source": [
    "## Step 3: Prepare and clean"
   ]
  },
  {
   "cell_type": "markdown",
   "id": "15e89c03",
   "metadata": {},
   "source": [
    "#### Check out structure or repos raw:"
   ]
  },
  {
   "cell_type": "code",
   "execution_count": 5,
   "id": "5327a692",
   "metadata": {},
   "outputs": [
    {
     "data": {
      "text/plain": [
       "'Scala'"
      ]
     },
     "execution_count": 5,
     "metadata": {},
     "output_type": "execute_result"
    }
   ],
   "source": [
    "df_repos_raw.iloc[5][1]    \n",
    "#0 is repo\n",
    "#1 is language\n",
    "#2 is readme_contents"
   ]
  },
  {
   "cell_type": "markdown",
   "id": "aea31223",
   "metadata": {},
   "source": [
    "#### Pull an observation from the raw repos to examine in depth and run all cleaning steps on:"
   ]
  },
  {
   "cell_type": "code",
   "execution_count": 6,
   "id": "df4e714a",
   "metadata": {},
   "outputs": [
    {
     "data": {
      "text/plain": [
       "'<p align=\"center\">\\n  <img src=\"doc/logo-header.svg\" alt=\"bat - a cat clone with wings\"><br>\\n  <a href=\"https://github.com/sharkdp/bat/actions?query=workflow%3ACICD\"><img src=\"https://github.com/sharkdp/bat/workflows/CICD/badge.svg\" alt=\"Build Status\"></a>\\n  <img src=\"https://img.shields.io/crates/l/bat.svg\" alt=\"license\">\\n  <a href=\"https://crates.io/crates/bat\"><img src=\"https://img.shields.io/crates/v/bat.svg?colorB=319e8c\" alt=\"Version info\"></a><br>\\n  A <i>cat(1)</i> clone with syntax highlighting and Git integration.\\n</p>\\n\\n<p align=\"center\">\\n  <a href=\"#syntax-highlighting\">Key Features</a> •\\n  <a href=\"#how-to-use\">How To Use</a> •\\n  <a href=\"#installation\">Installation</a> •\\n  <a href=\"#customization\">Customization</a> •\\n  <a href=\"#project-goals-and-alternatives\">Project goals, alternatives</a><br>\\n  [English]\\n  [<a href=\"doc/README-zh.md\">中文</a>]\\n  [<a href=\"doc/README-ja.md\">日本語</a>]\\n  [<a href=\"doc/README-ko.md\">한국어</a>]\\n  [<a href=\"doc/README-ru.md\">Русский</a>]\\n</p>\\n\\n### Sponsors\\n\\nA special *thank you* goes to our biggest <a href=\"doc/sponsors.md\">sponsors</a>:<br>\\n<a href=\"https://workos.com/?utm_campaign=github_repo&utm_medium=referral&utm_content=bat&utm_source=github\">\\n  <img src=\"doc/sponsors/workos-logo-white-bg.svg\" width=\"200\" alt=\"WorkOS\">\\n  <br>\\n  <strong>Your app, enterprise-ready.</strong>\\n  <br>\\n  <sub>Start selling to enterprise customers with just a few lines of code.</sub>\\n  <br>\\n  <sup>Add Single Sign-On (and more) in minutes instead of months.</sup>\\n</a>\\n\\n### Syntax highlighting\\n\\n`bat` supports syntax highlighting for a large number of programming and markup\\nlanguages:\\n\\n![Syntax highlighting example](https://imgur.com/rGsdnDe.png)\\n\\n### Git integration\\n\\n`bat` communicates with `git` to show modifications with respect to the index\\n(see left side bar):\\n\\n![Git integration example](https://i.imgur.com/2lSW4RE.png)\\n\\n### Show non-printable characters\\n\\nYou can use the `-A`/`--show-all` option to show and highlight non-printable\\ncharacters:\\n\\n![Non-printable character example](https://i.imgur.com/WndGp9H.png)\\n\\n### Automatic paging\\n\\nBy default, `bat` pipes its own output to a pager (e.g. `less`) if the output is too large for one screen.\\nIf you would rather `bat` work like `cat` all the time (never page output), you can set `--paging=never` as an option, either on the command line or in your configuration file.\\nIf you intend to alias `cat` to `bat` in your shell configuration, you can use `alias cat=\\'bat --paging=never\\'` to preserve the default behavior.\\n\\n#### File concatenation\\n\\nEven with a pager set, you can still use `bat` to concatenate files :wink:.\\nWhenever `bat` detects a non-interactive terminal (i.e. when you pipe into another process or into a file), `bat` will act as a drop-in replacement for `cat` and fall back to printing the plain file contents, regardless of the `--pager` option\\'s value.\\n\\n## How to use\\n\\nDisplay a single file on the terminal\\n\\n```bash\\n> bat README.md\\n```\\n\\nDisplay multiple files at once\\n\\n```bash\\n> bat src/*.rs\\n```\\n\\nRead from stdin, determine the syntax automatically (note, highlighting will\\nonly work if the syntax can be determined from the first line of the file,\\nusually through a shebang such as `#!/bin/sh`)\\n\\n```bash\\n> curl -s https://sh.rustup.rs | bat\\n```\\n\\nRead from stdin, specify the language explicitly\\n\\n```bash\\n> yaml2json .travis.yml | json_pp | bat -l json\\n```\\n\\nShow and highlight non-printable characters:\\n```bash\\n> bat -A /etc/hosts\\n```\\n\\nUse it as a `cat` replacement:\\n\\n```bash\\nbat > note.md  # quickly create a new file\\n\\nbat header.md content.md footer.md > document.md\\n\\nbat -n main.rs  # show line numbers (only)\\n\\nbat f - g  # output \\'f\\', then stdin, then \\'g\\'.\\n```\\n\\n### Integration with other tools\\n\\n#### `fzf`\\n\\nYou can use `bat` as a previewer for [`fzf`](https://github.com/junegunn/fzf). To do this,\\nuse `bat`s `--color=always` option to force colorized output. You can also use `--line-range`\\noption to restrict the load times for long files:\\n\\n```bash\\nfzf --preview \\'bat --color=always --style=numbers --line-range=:500 {}\\'\\n```\\n\\nFor more information, see [`fzf`\\'s `README`](https://github.com/junegunn/fzf#preview-window).\\n\\n#### `find` or `fd`\\n\\nYou can use the `-exec` option of `find` to preview all search results with `bat`:\\n\\n```bash\\nfind … -exec bat {} +\\n```\\n\\nIf you happen to use [`fd`](https://github.com/sharkdp/fd), you can use the `-X`/`--exec-batch` option to do the same:\\n\\n```bash\\nfd … -X bat\\n```\\n\\n#### `ripgrep`\\n\\nWith [`batgrep`](https://github.com/eth-p/bat-extras/blob/master/doc/batgrep.md), `bat` can be used as the printer for [`ripgrep`](https://github.com/BurntSushi/ripgrep) search results.\\n\\n```bash\\nbatgrep needle src/\\n```\\n\\n#### `tail -f`\\n\\n`bat` can be combined with `tail -f` to continuously monitor a given file with syntax highlighting.\\n\\n```bash\\ntail -f /var/log/pacman.log | bat --paging=never -l log\\n```\\n\\nNote that we have to switch off paging in order for this to work. We have also specified the syntax\\nexplicitly (`-l log`), as it can not be auto-detected in this case.\\n\\n#### `git`\\n\\nYou can combine `bat` with `git show` to view an older version of a given file with proper syntax\\nhighlighting:\\n\\n```bash\\ngit show v0.6.0:src/main.rs | bat -l rs\\n```\\n\\n#### `git diff`\\n\\nYou can combine `bat` with `git diff` to view lines around code changes with proper syntax\\nhighlighting:\\n```bash\\nbatdiff() {\\n    git diff --name-only --relative --diff-filter=d | xargs bat --diff\\n}\\n```\\nIf you prefer to use this as a separate tool, check out `batdiff` in [`bat-extras`](https://github.com/eth-p/bat-extras).\\n\\nIf you are looking for more support for git and diff operations, check out [`delta`](https://github.com/dandavison/delta).\\n\\n#### `xclip`\\n\\nThe line numbers and Git modification markers in the output of `bat` can make it hard to copy\\nthe contents of a file. To prevent this, you can call `bat` with the `-p`/`--plain` option or\\nsimply pipe the output into `xclip`:\\n```bash\\nbat main.cpp | xclip\\n```\\n`bat` will detect that the output is being redirected and print the plain file contents.\\n\\n#### `man`\\n\\n`bat` can be used as a colorizing pager for `man`, by setting the\\n`MANPAGER` environment variable:\\n\\n```bash\\nexport MANPAGER=\"sh -c \\'col -bx | bat -l man -p\\'\"\\nman 2 select\\n```\\n(replace `bat` with `batcat` if you are on Debian or Ubuntu)\\n\\nIt might also be necessary to set `MANROFFOPT=\"-c\"` if you experience\\nformatting problems.\\n\\nIf you prefer to have this bundled in a new command, you can also use [`batman`](https://github.com/eth-p/bat-extras/blob/master/doc/batman.md).\\n\\nNote that the [Manpage syntax](assets/syntaxes/02_Extra/Manpage.sublime-syntax) is developed in this repository and still needs some work.\\n\\nAlso, note that this will [not work](https://github.com/sharkdp/bat/issues/1145) with Mandocs `man` implementation.\\n\\n#### `prettier` / `shfmt` / `rustfmt`\\n\\nThe [`prettybat`](https://github.com/eth-p/bat-extras/blob/master/doc/prettybat.md) script is a wrapper that will format code and print it with `bat`.\\n\\n#### Highlighting `--help` messages\\n\\nYou can use `bat` to colorize help text: `$ cp --help | bat -plhelp`\\n\\nYou can also use a wrapper around this:\\n\\n```bash\\n# in your .bashrc/.zshrc/*rc\\nalias bathelp=\\'bat --plain --language=help\\'\\nhelp() {\\n    \"$@\" --help 2>&1 | bathelp\\n}\\n```\\n\\nThen you can do `$ help cp` or `$ help git commit`.\\n\\nPlease report any issues with the help syntax in [this repository](https://github.com/victor-gp/cmd-help-sublime-syntax).\\n\\n\\n## Installation\\n\\n[![Packaging status](https://repology.org/badge/vertical-allrepos/bat-cat.svg)](https://repology.org/project/bat-cat/versions)\\n\\n### On Ubuntu (using `apt`)\\n*... and other Debian-based Linux distributions.*\\n\\n`bat` is available on [Ubuntu since 20.04 (\"Focal\")](https://packages.ubuntu.com/search?keywords=bat&exact=1) and [Debian since August 2021 (Debian 11 - \"Bullseye\")](https://packages.debian.org/bullseye/bat).\\n\\nIf your Ubuntu/Debian installation is new enough you can simply run:\\n\\n```bash\\nsudo apt install bat\\n```\\n\\n**Important**: If you install `bat` this way, please note that the executable may be installed as `batcat` instead of `bat` (due to [a name\\nclash with another package](https://github.com/sharkdp/bat/issues/982)). You can set up a `bat -> batcat` symlink or alias to prevent any issues that may come up because of this and to be consistent with other distributions:\\n``` bash\\nmkdir -p ~/.local/bin\\nln -s /usr/bin/batcat ~/.local/bin/bat\\n```\\n\\n### On Ubuntu (using most recent `.deb` packages)\\n*... and other Debian-based Linux distributions.*\\n\\nIf the package has not yet been promoted to your Ubuntu/Debian installation, or you want\\nthe most recent release of `bat`, download the latest `.deb` package from the\\n[release page](https://github.com/sharkdp/bat/releases) and install it via:\\n\\n```bash\\nsudo dpkg -i bat_0.18.3_amd64.deb  # adapt version number and architecture\\n```\\n\\n### On Alpine Linux\\n\\nYou can install [the `bat` package](https://pkgs.alpinelinux.org/packages?name=bat)\\nfrom the official sources, provided you have the appropriate repository enabled:\\n\\n```bash\\napk add bat\\n```\\n\\n### On Arch Linux\\n\\nYou can install [the `bat` package](https://www.archlinux.org/packages/community/x86_64/bat/)\\nfrom the official sources:\\n\\n```bash\\npacman -S bat\\n```\\n\\n### On Fedora\\n\\nYou can install [the `bat` package](https://koji.fedoraproject.org/koji/packageinfo?packageID=27506) from the official [Fedora Modular](https://docs.fedoraproject.org/en-US/modularity/using-modules/) repository.\\n\\n```bash\\ndnf install bat\\n```\\n\\n### On Funtoo Linux\\n\\nYou can install [the `bat` package](https://github.com/funtoo/dev-kit/tree/1.4-release/sys-apps/bat) from dev-kit.\\n\\n```bash\\nemerge sys-apps/bat\\n```\\n\\n### On Gentoo Linux\\n\\nYou can install [the `bat` package](https://packages.gentoo.org/packages/sys-apps/bat)\\nfrom the official sources:\\n\\n```bash\\nemerge sys-apps/bat\\n```\\n\\n### On Void Linux\\n\\nYou can install `bat` via xbps-install:\\n```bash\\nxbps-install -S bat\\n```\\n\\n### On Termux\\n\\nYou can install `bat` via pkg:\\n```bash\\npkg install bat\\n```\\n\\n### On FreeBSD\\n\\nYou can install a precompiled [`bat` package](https://www.freshports.org/textproc/bat) with pkg:\\n\\n```bash\\npkg install bat\\n```\\n\\nor build it on your own from the FreeBSD ports:\\n\\n```bash\\ncd /usr/ports/textproc/bat\\nmake install\\n```\\n\\n### On OpenBSD\\n\\nYou can install `bat` package using [`pkg_add(1)`](https://man.openbsd.org/pkg_add.1):\\n\\n```bash\\npkg_add bat\\n```\\n\\n### Via nix\\n\\nYou can install `bat` using the [nix package manager](https://nixos.org/nix):\\n\\n```bash\\nnix-env -i bat\\n```\\n\\n### On openSUSE\\n\\nYou can install `bat` with zypper:\\n\\n```bash\\nzypper install bat\\n```\\n\\n### Via snap package\\n\\nThere is currently no recommended snap package available.\\nExisting packages may be available, but are not officially supported and may contain [issues](https://github.com/sharkdp/bat/issues/1519).\\n\\n### On macOS (or Linux) via Homebrew\\n\\nYou can install `bat` with [Homebrew on MacOS](https://formulae.brew.sh/formula/bat) or [Homebrew on Linux](https://formulae.brew.sh/formula-linux/bat):\\n\\n```bash\\nbrew install bat\\n```\\n\\n### On macOS via MacPorts\\n\\nOr install `bat` with [MacPorts](https://ports.macports.org/port/bat/summary):\\n\\n```bash\\nport install bat\\n```\\n\\n### On Windows\\n\\nThere are a few options to install `bat` on Windows. Once you have installed `bat`,\\ntake a look at the [\"Using `bat` on Windows\"](#using-bat-on-windows) section.\\n\\n#### Prerequisites\\n\\nYou will need to install the [Visual C++ Redistributable](https://support.microsoft.com/en-us/help/2977003/the-latest-supported-visual-c-downloads) package.\\n\\n#### With Chocolatey\\n\\nYou can install `bat` via [Chocolatey](https://chocolatey.org/packages/Bat):\\n```bash\\nchoco install bat\\n```\\n\\n#### With Scoop\\n\\nYou can install `bat` via [scoop](https://scoop.sh/):\\n```bash\\nscoop install bat\\n```\\n\\n#### From prebuilt binaries:\\n\\nYou can download prebuilt binaries from the [Release page](https://github.com/sharkdp/bat/releases),\\n\\nYou will need to install the [Visual C++ Redistributable](https://support.microsoft.com/en-us/help/2977003/the-latest-supported-visual-c-downloads) package.\\n\\n### From binaries\\n\\nCheck out the [Release page](https://github.com/sharkdp/bat/releases) for\\nprebuilt versions of `bat` for many different architectures. Statically-linked\\nbinaries are also available: look for archives with `musl` in the file name.\\n\\n### From source\\n\\nIf you want to build `bat` from source, you need Rust 1.51 or\\nhigher. You can then use `cargo` to build everything:\\n\\n```bash\\ncargo install --locked bat\\n```\\n\\nNote that additional files like the man page or shell completion\\nfiles can not be installed in this way. They will be generated by `cargo` and should be available in the cargo target folder (under `build`).\\n\\n## Customization\\n\\n### Highlighting theme\\n\\nUse `bat --list-themes` to get a list of all available themes for syntax\\nhighlighting. To select the `TwoDark` theme, call `bat` with the\\n`--theme=TwoDark` option or set the `BAT_THEME` environment variable to\\n`TwoDark`. Use `export BAT_THEME=\"TwoDark\"` in your shell\\'s startup file to\\nmake the change permanent. Alternatively, use `bat`s\\n[configuration file](https://github.com/sharkdp/bat#configuration-file).\\n\\nIf you want to preview the different themes on a custom file, you can use\\nthe following command (you need [`fzf`](https://github.com/junegunn/fzf) for this):\\n```bash\\nbat --list-themes | fzf --preview=\"bat --theme={} --color=always /path/to/file\"\\n```\\n\\n`bat` looks good on a dark background by default. However, if your terminal uses a\\nlight background, some themes like `GitHub` or `OneHalfLight` will work better for you.\\nYou can also use a custom theme by following the\\n[\\'Adding new themes\\' section below](https://github.com/sharkdp/bat#adding-new-themes).\\n\\n### 8-bit themes\\n\\n`bat` has three themes that always use [8-bit colors](https://en.wikipedia.org/wiki/ANSI_escape_code#Colors),\\neven when truecolor support is available:\\n\\n- `ansi` looks decent on any terminal. It uses 3-bit colors: black, red, green,\\n  yellow, blue, magenta, cyan, and white.\\n- `base16` is designed for [base16](https://github.com/chriskempson/base16) terminal themes. It uses\\n  4-bit colors (3-bit colors plus bright variants) in accordance with the\\n  [base16 styling guidelines](https://github.com/chriskempson/base16/blob/master/styling.md).\\n- `base16-256` is designed for [base16-shell](https://github.com/chriskempson/base16-shell).\\n  It replaces certain bright colors with 8-bit colors from 16 to 21. **Do not** use this simply\\n  because you have a 256-color terminal but are not using base16-shell.\\n\\nAlthough these themes are more restricted, they have three advantages over truecolor themes. They:\\n\\n- Enjoy maximum compatibility. Some terminal utilities do not support more than 3-bit colors.\\n- Adapt to terminal theme changes. Even for already printed output.\\n- Visually harmonize better with other terminal software.\\n\\n### Output style\\n\\nYou can use the `--style` option to control the appearance of `bat`s output.\\nYou can use `--style=numbers,changes`, for example, to show only Git changes\\nand line numbers but no grid and no file header. Set the `BAT_STYLE` environment\\nvariable to make these changes permanent or use `bat`s\\n[configuration file](https://github.com/sharkdp/bat#configuration-file).\\n\\n### Adding new syntaxes / language definitions\\n\\nShould you find that a particular syntax is not available within `bat`, you can follow these\\ninstructions to easily add new syntaxes to your current `bat` installation.\\n\\n`bat` uses the excellent [`syntect`](https://github.com/trishume/syntect/)\\nlibrary for syntax highlighting. `syntect` can read any\\n[Sublime Text `.sublime-syntax` file](https://www.sublimetext.com/docs/3/syntax.html)\\nand theme.\\n\\nA good resource for finding Sublime Syntax packages is [Package Control](https://packagecontrol.io/). Once you found a\\nsyntax:\\n\\n1. Create a folder with syntax definition files:\\n\\n   ```bash\\n   mkdir -p \"$(bat --config-dir)/syntaxes\"\\n   cd \"$(bat --config-dir)/syntaxes\"\\n\\n   # Put new \\'.sublime-syntax\\' language definition files\\n   # in this folder (or its subdirectories), for example:\\n   git clone https://github.com/tellnobody1/sublime-purescript-syntax\\n   ```\\n\\n2. Now use the following command to parse these files into a binary cache:\\n\\n   ```bash\\n   bat cache --build\\n   ```\\n\\n3. Finally, use `bat --list-languages` to check if the new languages are available.\\n\\n   If you ever want to go back to the default settings, call:\\n\\n   ```bash\\n   bat cache --clear\\n   ```\\n\\n4. If you think that a specific syntax should be included in `bat` by default, please\\n   consider opening a \"syntax request\" ticket after reading the policies and\\n   instructions [here](doc/assets.md): [Open Syntax Request](https://github.com/sharkdp/bat/issues/new?labels=syntax-request&template=syntax_request.md).\\n\\n### Adding new themes\\n\\nThis works very similar to how we add new syntax definitions.\\n\\nFirst, create a folder with the new syntax highlighting themes:\\n```bash\\nmkdir -p \"$(bat --config-dir)/themes\"\\ncd \"$(bat --config-dir)/themes\"\\n\\n# Download a theme in \\'.tmTheme\\' format, for example:\\ngit clone https://github.com/greggb/sublime-snazzy\\n\\n# Update the binary cache\\nbat cache --build\\n```\\n\\nFinally, use `bat --list-themes` to check if the new themes are available.\\n\\n### Adding or changing file type associations\\n\\nYou can add new (or change existing) file name patterns using the `--map-syntax`\\ncommand line option. The option takes an argument of the form `pattern:syntax` where\\n`pattern` is a glob pattern that is matched against the file name and\\nthe absolute file path. The `syntax` part is the full name of a supported language\\n(use `bat --list-languages` for an overview).\\n\\n**Note:** You probably want to use this option as [an entry in `bat`\\'s configuration file](#configuration-file)\\nfor persistence instead of passing it on the command line as a one-off. Generally\\nyou\\'d just use `-l` if you want to manually specify a language for a file.\\n\\nExample: To use \"INI\" syntax highlighting for all files with a `.conf` file extension, use\\n```bash\\n--map-syntax=\\'*.conf:INI\\'\\n```\\n\\nExample: To open all files called `.ignore` (exact match) with the \"Git Ignore\" syntax, use:\\n```bash\\n--map-syntax=\\'.ignore:Git Ignore\\'\\n```\\n\\nExample: To open all `.conf` files in subfolders of `/etc/apache2` with the \"Apache Conf\"\\nsyntax, use (this mapping is already built in):\\n```bash\\n--map-syntax=\\'/etc/apache2/**/*.conf:Apache Conf\\'\\n```\\n\\n### Using a different pager\\n\\n`bat` uses the pager that is specified in the `PAGER` environment variable. If this variable is not\\nset, `less` is used by default. If you want to use a different pager, you can either modify the\\n`PAGER` variable or set the `BAT_PAGER` environment variable to override what is specified in\\n`PAGER`.\\n\\n**Note**: If `PAGER` is `more` or `most`, `bat` will silently use `less` instead to ensure support for colors.\\n\\nIf you want to pass command-line arguments to the pager, you can also set them via the\\n`PAGER`/`BAT_PAGER` variables:\\n\\n```bash\\nexport BAT_PAGER=\"less -RF\"\\n```\\n\\nInstead of using environment variables, you can also use `bat`s [configuration file](https://github.com/sharkdp/bat#configuration-file) to configure the pager (`--pager` option).\\n\\n**Note**: By default, if the pager is set to `less` (and no command-line options are specified),\\n`bat` will pass the following command line options to the pager: `-R`/`--RAW-CONTROL-CHARS`,\\n`-F`/`--quit-if-one-screen` and `-X`/`--no-init`. The last option (`-X`) is only used for `less`\\nversions older than 530.\\n\\nThe `-R` option is needed to interpret ANSI colors correctly. The second option (`-F`) instructs\\nless to exit immediately if the output size is smaller than the vertical size of the terminal.\\nThis is convenient for small files because you do not have to press `q` to quit the pager. The\\nthird option (`-X`) is needed to fix a bug with the `--quit-if-one-screen` feature in old versions\\nof `less`. Unfortunately, it also breaks mouse-wheel support in `less`.\\n\\nIf you want to enable mouse-wheel scrolling on older versions of `less`, you can pass just `-R` (as\\nin the example above, this will disable the quit-if-one-screen feature). For less 530 or newer,\\nit should work out of the box.\\n\\n### Indentation\\n\\n`bat` expands tabs to 4 spaces by itself, not relying on the pager. To change this, simply add the\\n`--tabs` argument with the number of spaces you want to be displayed.\\n\\n**Note**: Defining tab stops for the pager (via the `--pager` argument by `bat`, or via the `LESS`\\nenvironment variable for `less`) won\\'t be taken into account because the pager will already get\\nexpanded spaces instead of tabs. This behaviour is added to avoid indentation issues caused by the\\nsidebar. Calling `bat` with `--tabs=0` will override it and let tabs be consumed by the pager.\\n\\n### Dark mode\\n\\nIf you make use of the dark mode feature in macOS, you might want to configure `bat` to use a different\\ntheme based on the OS theme. The following snippet uses the `default` theme when in the _dark mode_\\nand the `GitHub` theme when in the _light mode_.\\n\\n```bash\\nalias cat=\"bat --theme=\\\\$(defaults read -globalDomain AppleInterfaceStyle &> /dev/null && echo default || echo GitHub)\"\\n```\\n\\n\\n## Configuration file\\n\\n`bat` can also be customized with a configuration file. The location of the file is dependent\\non your operating system. To get the default path for your system, call\\n```bash\\nbat --config-file\\n```\\n\\nAlternatively, you can use the `BAT_CONFIG_PATH` environment variable to point `bat` to a\\nnon-default location of the configuration file:\\n```bash\\nexport BAT_CONFIG_PATH=\"/path/to/bat.conf\"\\n```\\n\\nA default configuration file can be created with the `--generate-config-file` option.\\n```bash\\nbat --generate-config-file\\n```\\n\\n### Format\\n\\nThe configuration file is a simple list of command line arguments. Use `bat --help` to see a full list of possible options and values. In addition, you can add comments by prepending a line with the `#` character.\\n\\nExample configuration file:\\n```bash\\n# Set the theme to \"TwoDark\"\\n--theme=\"TwoDark\"\\n\\n# Show line numbers, Git modifications and file header (but no grid)\\n--style=\"numbers,changes,header\"\\n\\n# Use italic text on the terminal (not supported on all terminals)\\n--italic-text=always\\n\\n# Use C++ syntax for Arduino .ino files\\n--map-syntax \"*.ino:C++\"\\n```\\n\\n## Using `bat` on Windows\\n\\n`bat` mostly works out-of-the-box on Windows, but a few features may need extra configuration.\\n\\n### Prerequisites\\n\\nYou will need to install the [Visual C++ Redistributable](https://support.microsoft.com/en-us/help/2977003/the-latest-supported-visual-c-downloads) package.\\n\\n### Paging\\n\\nWindows only includes a very limited pager in the form of `more`. You can download a Windows binary\\nfor `less` [from its homepage](http://www.greenwoodsoftware.com/less/download.html) or [through\\nChocolatey](https://chocolatey.org/packages/Less). To use it, place the binary in a directory in\\nyour `PATH` or [define an environment variable](#using-a-different-pager). The [Chocolatey package](#on-windows) installs `less` automatically.\\n\\n### Colors\\n\\nWindows 10 natively supports colors in both `conhost.exe` (Command Prompt) and PowerShell since\\n[v1511](https://en.wikipedia.org/wiki/Windows_10_version_history#Version_1511_(November_Update)), as\\nwell as in newer versions of bash. On earlier versions of Windows, you can use\\n[Cmder](http://cmder.net/), which includes [ConEmu](https://conemu.github.io/).\\n\\n**Note:** The Git and MSYS versions of `less` do not correctly interpret colors on Windows. If you\\ndon’t have any other pagers installed, you can disable paging entirely by passing `--paging=never`\\nor by setting `BAT_PAGER` to an empty string.\\n\\n### Cygwin\\n\\n`bat` on Windows does not natively support Cygwin\\'s unix-style paths (`/cygdrive/*`). When passed an absolute cygwin path as an argument, `bat` will encounter the following error: `The system cannot find the path specified. (os error 3)`\\n\\nThis can be solved by creating a wrapper or adding the following function to your `.bash_profile` file:\\n\\n```bash\\nbat() {\\n    local index\\n    local args=(\"$@\")\\n    for index in $(seq 0 ${#args[@]}) ; do\\n        case \"${args[index]}\" in\\n        -*) continue;;\\n        *)  [ -e \"${args[index]}\" ] && args[index]=\"$(cygpath --windows \"${args[index]}\")\";;\\n        esac\\n    done\\n    command bat \"${args[@]}\"\\n}\\n```\\n\\n## Troubleshooting\\n\\n### Garbled output\\n\\nIf an input file contains color codes or other ANSI escape sequences or control characters, `bat` will have problems\\nperforming syntax highlighting and text wrapping, and thus the output can become garbled.\\nWhen displaying such files it is recommended to disable both syntax highlighting and wrapping by\\npassing the `--color=never --wrap=never` options to `bat`.\\n\\n### Terminals & colors\\n\\n`bat` handles terminals *with* and *without* truecolor support. However, the colors in most syntax\\nhighlighting themes are not optimized for 8-bit colors. It is therefore strongly recommended\\nthat you use a terminal with 24-bit truecolor support (`terminator`, `konsole`, `iTerm2`, ...),\\nor use one of the basic [8-bit themes](#8-bit-themes) designed for a restricted set of colors.\\nSee [this article](https://gist.github.com/XVilka/8346728) for more details and a full list of\\nterminals with truecolor support.\\n\\nMake sure that your truecolor terminal sets the `COLORTERM` variable to either `truecolor` or\\n`24bit`. Otherwise, `bat` will not be able to determine whether or not 24-bit escape sequences\\nare supported (and fall back to 8-bit colors).\\n\\n### Line numbers and grid are hardly visible\\n\\nPlease try a different theme (see `bat --list-themes` for a list). The `OneHalfDark` and\\n`OneHalfLight` themes provide grid and line colors that are brighter.\\n\\n### File encodings\\n\\n`bat` natively supports UTF-8 as well as UTF-16. For every other file encoding, you may need to\\nconvert to UTF-8 first because the encodings can typically not be auto-detected. You can `iconv`\\nto do so.\\nExample: if you have a PHP file in Latin-1 (ISO-8859-1) encoding, you can call:\\n``` bash\\niconv -f ISO-8859-1 -t UTF-8 my-file.php | bat\\n```\\nNote: you might have to use the `-l`/`--language` option if the syntax can not be auto-detected\\nby `bat`.\\n\\n## Development\\n\\n```bash\\n# Recursive clone to retrieve all submodules\\ngit clone --recursive https://github.com/sharkdp/bat\\n\\n# Build (debug version)\\ncd bat\\ncargo build --bins\\n\\n# Run unit tests and integration tests\\ncargo test\\n\\n# Install (release version)\\ncargo install --path . --locked\\n\\n# Build a bat binary with modified syntaxes and themes\\nbash assets/create.sh\\ncargo install --path . --locked --force\\n```\\n\\nIf you want to build an application that uses `bat`s pretty-printing\\nfeatures as a library, check out the [the API documentation](https://docs.rs/bat/).\\nNote that you have to use either `regex-onig` or `regex-fancy` as a feature\\nwhen you depend on `bat` as a library.\\n\\n## Contributing\\n\\nTake a look at the [`CONTRIBUTING.md`](CONTRIBUTING.md) guide.\\n\\n## Maintainers\\n\\n- [sharkdp](https://github.com/sharkdp)\\n- [eth-p](https://github.com/eth-p)\\n- [keith-hall](https://github.com/keith-hall)\\n- [Enselic](https://github.com/Enselic)\\n\\n## Security vulnerabilities\\n\\nPlease contact [David Peter](https://david-peter.de/) via email if you want to report a vulnerability in `bat`.\\n\\n## Project goals and alternatives\\n\\n`bat` tries to achieve the following goals:\\n\\n- Provide beautiful, advanced syntax highlighting\\n- Integrate with Git to show file modifications\\n- Be a drop-in replacement for (POSIX) `cat`\\n- Offer a user-friendly command-line interface\\n\\nThere are a lot of alternatives, if you are looking for similar programs. See\\n[this document](doc/alternatives.md) for a comparison.\\n\\n## License\\nCopyright (c) 2018-2021 [bat-developers](https://github.com/sharkdp/bat).\\n\\n`bat` is made available under the terms of either the MIT License or the Apache License 2.0, at your option.\\n\\nSee the [LICENSE-APACHE](LICENSE-APACHE) and [LICENSE-MIT](LICENSE-MIT) files for license details.\\n'"
      ]
     },
     "execution_count": 6,
     "metadata": {},
     "output_type": "execute_result"
    }
   ],
   "source": [
    "string_test = df_repos_raw.iloc[4][2]\n",
    "string_test"
   ]
  },
  {
   "cell_type": "markdown",
   "id": "9c8f8d74",
   "metadata": {},
   "source": [
    "#### Create soup from the string object."
   ]
  },
  {
   "cell_type": "code",
   "execution_count": 7,
   "id": "4a40d4f0",
   "metadata": {},
   "outputs": [],
   "source": [
    "from bs4 import BeautifulSoup as bs\n",
    "soup = bs(string_test, 'lxml').text"
   ]
  },
  {
   "cell_type": "code",
   "execution_count": 8,
   "id": "665a3398",
   "metadata": {},
   "outputs": [
    {
     "data": {
      "text/plain": [
       "'\\n\\n\\n\\n\\n  A cat(1) clone with syntax highlighting and Git integration.\\n\\n\\nKey Features •\\n  How To Use •\\n  Installation •\\n  Customization •\\n  Project goals, alternatives\\n  [English]\\n  [中文]\\n  [日本語]\\n  [한국어]\\n  [Русский]\\n\\n\\n### Sponsors\\n\\nA special *thank you* goes to our biggest sponsors:\\n\\n\\n\\nYour app, enterprise-ready.\\n\\nStart selling to enterprise customers with just a few lines of code.\\n\\nAdd Single Sign-On (and more) in minutes instead of months.\\n\\n\\n### Syntax highlighting\\n\\n`bat` supports syntax highlighting for a large number of programming and markup\\nlanguages:\\n\\n![Syntax highlighting example](https://imgur.com/rGsdnDe.png)\\n\\n### Git integration\\n\\n`bat` communicates with `git` to show modifications with respect to the index\\n(see left side bar):\\n\\n![Git integration example](https://i.imgur.com/2lSW4RE.png)\\n\\n### Show non-printable characters\\n\\nYou can use the `-A`/`--show-all` option to show and highlight non-printable\\ncharacters:\\n\\n![Non-printable character example](https://i.imgur.com/WndGp9H.png)\\n\\n### Automatic paging\\n\\nBy default, `bat` pipes its own output to a pager (e.g. `less`) if the output is too large for one screen.\\nIf you would rather `bat` work like `cat` all the time (never page output), you can set `--paging=never` as an option, either on the command line or in your configuration file.\\nIf you intend to alias `cat` to `bat` in your shell configuration, you can use `alias cat=\\'bat --paging=never\\'` to preserve the default behavior.\\n\\n#### File concatenation\\n\\nEven with a pager set, you can still use `bat` to concatenate files :wink:.\\nWhenever `bat` detects a non-interactive terminal (i.e. when you pipe into another process or into a file), `bat` will act as a drop-in replacement for `cat` and fall back to printing the plain file contents, regardless of the `--pager` option\\'s value.\\n\\n## How to use\\n\\nDisplay a single file on the terminal\\n\\n```bash\\n> bat README.md\\n```\\n\\nDisplay multiple files at once\\n\\n```bash\\n> bat src/*.rs\\n```\\n\\nRead from stdin, determine the syntax automatically (note, highlighting will\\nonly work if the syntax can be determined from the first line of the file,\\nusually through a shebang such as `#!/bin/sh`)\\n\\n```bash\\n> curl -s https://sh.rustup.rs | bat\\n```\\n\\nRead from stdin, specify the language explicitly\\n\\n```bash\\n> yaml2json .travis.yml | json_pp | bat -l json\\n```\\n\\nShow and highlight non-printable characters:\\n```bash\\n> bat -A /etc/hosts\\n```\\n\\nUse it as a `cat` replacement:\\n\\n```bash\\nbat > note.md  # quickly create a new file\\n\\nbat header.md content.md footer.md > document.md\\n\\nbat -n main.rs  # show line numbers (only)\\n\\nbat f - g  # output \\'f\\', then stdin, then \\'g\\'.\\n```\\n\\n### Integration with other tools\\n\\n#### `fzf`\\n\\nYou can use `bat` as a previewer for [`fzf`](https://github.com/junegunn/fzf). To do this,\\nuse `bat`s `--color=always` option to force colorized output. You can also use `--line-range`\\noption to restrict the load times for long files:\\n\\n```bash\\nfzf --preview \\'bat --color=always --style=numbers --line-range=:500 {}\\'\\n```\\n\\nFor more information, see [`fzf`\\'s `README`](https://github.com/junegunn/fzf#preview-window).\\n\\n#### `find` or `fd`\\n\\nYou can use the `-exec` option of `find` to preview all search results with `bat`:\\n\\n```bash\\nfind … -exec bat {} +\\n```\\n\\nIf you happen to use [`fd`](https://github.com/sharkdp/fd), you can use the `-X`/`--exec-batch` option to do the same:\\n\\n```bash\\nfd … -X bat\\n```\\n\\n#### `ripgrep`\\n\\nWith [`batgrep`](https://github.com/eth-p/bat-extras/blob/master/doc/batgrep.md), `bat` can be used as the printer for [`ripgrep`](https://github.com/BurntSushi/ripgrep) search results.\\n\\n```bash\\nbatgrep needle src/\\n```\\n\\n#### `tail -f`\\n\\n`bat` can be combined with `tail -f` to continuously monitor a given file with syntax highlighting.\\n\\n```bash\\ntail -f /var/log/pacman.log | bat --paging=never -l log\\n```\\n\\nNote that we have to switch off paging in order for this to work. We have also specified the syntax\\nexplicitly (`-l log`), as it can not be auto-detected in this case.\\n\\n#### `git`\\n\\nYou can combine `bat` with `git show` to view an older version of a given file with proper syntax\\nhighlighting:\\n\\n```bash\\ngit show v0.6.0:src/main.rs | bat -l rs\\n```\\n\\n#### `git diff`\\n\\nYou can combine `bat` with `git diff` to view lines around code changes with proper syntax\\nhighlighting:\\n```bash\\nbatdiff() {\\n    git diff --name-only --relative --diff-filter=d | xargs bat --diff\\n}\\n```\\nIf you prefer to use this as a separate tool, check out `batdiff` in [`bat-extras`](https://github.com/eth-p/bat-extras).\\n\\nIf you are looking for more support for git and diff operations, check out [`delta`](https://github.com/dandavison/delta).\\n\\n#### `xclip`\\n\\nThe line numbers and Git modification markers in the output of `bat` can make it hard to copy\\nthe contents of a file. To prevent this, you can call `bat` with the `-p`/`--plain` option or\\nsimply pipe the output into `xclip`:\\n```bash\\nbat main.cpp | xclip\\n```\\n`bat` will detect that the output is being redirected and print the plain file contents.\\n\\n#### `man`\\n\\n`bat` can be used as a colorizing pager for `man`, by setting the\\n`MANPAGER` environment variable:\\n\\n```bash\\nexport MANPAGER=\"sh -c \\'col -bx | bat -l man -p\\'\"\\nman 2 select\\n```\\n(replace `bat` with `batcat` if you are on Debian or Ubuntu)\\n\\nIt might also be necessary to set `MANROFFOPT=\"-c\"` if you experience\\nformatting problems.\\n\\nIf you prefer to have this bundled in a new command, you can also use [`batman`](https://github.com/eth-p/bat-extras/blob/master/doc/batman.md).\\n\\nNote that the [Manpage syntax](assets/syntaxes/02_Extra/Manpage.sublime-syntax) is developed in this repository and still needs some work.\\n\\nAlso, note that this will [not work](https://github.com/sharkdp/bat/issues/1145) with Mandocs `man` implementation.\\n\\n#### `prettier` / `shfmt` / `rustfmt`\\n\\nThe [`prettybat`](https://github.com/eth-p/bat-extras/blob/master/doc/prettybat.md) script is a wrapper that will format code and print it with `bat`.\\n\\n#### Highlighting `--help` messages\\n\\nYou can use `bat` to colorize help text: `$ cp --help | bat -plhelp`\\n\\nYou can also use a wrapper around this:\\n\\n```bash\\n# in your .bashrc/.zshrc/*rc\\nalias bathelp=\\'bat --plain --language=help\\'\\nhelp() {\\n    \"$@\" --help 2>&1 | bathelp\\n}\\n```\\n\\nThen you can do `$ help cp` or `$ help git commit`.\\n\\nPlease report any issues with the help syntax in [this repository](https://github.com/victor-gp/cmd-help-sublime-syntax).\\n\\n\\n## Installation\\n\\n[![Packaging status](https://repology.org/badge/vertical-allrepos/bat-cat.svg)](https://repology.org/project/bat-cat/versions)\\n\\n### On Ubuntu (using `apt`)\\n*... and other Debian-based Linux distributions.*\\n\\n`bat` is available on [Ubuntu since 20.04 (\"Focal\")](https://packages.ubuntu.com/search?keywords=bat&exact=1) and [Debian since August 2021 (Debian 11 - \"Bullseye\")](https://packages.debian.org/bullseye/bat).\\n\\nIf your Ubuntu/Debian installation is new enough you can simply run:\\n\\n```bash\\nsudo apt install bat\\n```\\n\\n**Important**: If you install `bat` this way, please note that the executable may be installed as `batcat` instead of `bat` (due to [a name\\nclash with another package](https://github.com/sharkdp/bat/issues/982)). You can set up a `bat -> batcat` symlink or alias to prevent any issues that may come up because of this and to be consistent with other distributions:\\n``` bash\\nmkdir -p ~/.local/bin\\nln -s /usr/bin/batcat ~/.local/bin/bat\\n```\\n\\n### On Ubuntu (using most recent `.deb` packages)\\n*... and other Debian-based Linux distributions.*\\n\\nIf the package has not yet been promoted to your Ubuntu/Debian installation, or you want\\nthe most recent release of `bat`, download the latest `.deb` package from the\\n[release page](https://github.com/sharkdp/bat/releases) and install it via:\\n\\n```bash\\nsudo dpkg -i bat_0.18.3_amd64.deb  # adapt version number and architecture\\n```\\n\\n### On Alpine Linux\\n\\nYou can install [the `bat` package](https://pkgs.alpinelinux.org/packages?name=bat)\\nfrom the official sources, provided you have the appropriate repository enabled:\\n\\n```bash\\napk add bat\\n```\\n\\n### On Arch Linux\\n\\nYou can install [the `bat` package](https://www.archlinux.org/packages/community/x86_64/bat/)\\nfrom the official sources:\\n\\n```bash\\npacman -S bat\\n```\\n\\n### On Fedora\\n\\nYou can install [the `bat` package](https://koji.fedoraproject.org/koji/packageinfo?packageID=27506) from the official [Fedora Modular](https://docs.fedoraproject.org/en-US/modularity/using-modules/) repository.\\n\\n```bash\\ndnf install bat\\n```\\n\\n### On Funtoo Linux\\n\\nYou can install [the `bat` package](https://github.com/funtoo/dev-kit/tree/1.4-release/sys-apps/bat) from dev-kit.\\n\\n```bash\\nemerge sys-apps/bat\\n```\\n\\n### On Gentoo Linux\\n\\nYou can install [the `bat` package](https://packages.gentoo.org/packages/sys-apps/bat)\\nfrom the official sources:\\n\\n```bash\\nemerge sys-apps/bat\\n```\\n\\n### On Void Linux\\n\\nYou can install `bat` via xbps-install:\\n```bash\\nxbps-install -S bat\\n```\\n\\n### On Termux\\n\\nYou can install `bat` via pkg:\\n```bash\\npkg install bat\\n```\\n\\n### On FreeBSD\\n\\nYou can install a precompiled [`bat` package](https://www.freshports.org/textproc/bat) with pkg:\\n\\n```bash\\npkg install bat\\n```\\n\\nor build it on your own from the FreeBSD ports:\\n\\n```bash\\ncd /usr/ports/textproc/bat\\nmake install\\n```\\n\\n### On OpenBSD\\n\\nYou can install `bat` package using [`pkg_add(1)`](https://man.openbsd.org/pkg_add.1):\\n\\n```bash\\npkg_add bat\\n```\\n\\n### Via nix\\n\\nYou can install `bat` using the [nix package manager](https://nixos.org/nix):\\n\\n```bash\\nnix-env -i bat\\n```\\n\\n### On openSUSE\\n\\nYou can install `bat` with zypper:\\n\\n```bash\\nzypper install bat\\n```\\n\\n### Via snap package\\n\\nThere is currently no recommended snap package available.\\nExisting packages may be available, but are not officially supported and may contain [issues](https://github.com/sharkdp/bat/issues/1519).\\n\\n### On macOS (or Linux) via Homebrew\\n\\nYou can install `bat` with [Homebrew on MacOS](https://formulae.brew.sh/formula/bat) or [Homebrew on Linux](https://formulae.brew.sh/formula-linux/bat):\\n\\n```bash\\nbrew install bat\\n```\\n\\n### On macOS via MacPorts\\n\\nOr install `bat` with [MacPorts](https://ports.macports.org/port/bat/summary):\\n\\n```bash\\nport install bat\\n```\\n\\n### On Windows\\n\\nThere are a few options to install `bat` on Windows. Once you have installed `bat`,\\ntake a look at the [\"Using `bat` on Windows\"](#using-bat-on-windows) section.\\n\\n#### Prerequisites\\n\\nYou will need to install the [Visual C++ Redistributable](https://support.microsoft.com/en-us/help/2977003/the-latest-supported-visual-c-downloads) package.\\n\\n#### With Chocolatey\\n\\nYou can install `bat` via [Chocolatey](https://chocolatey.org/packages/Bat):\\n```bash\\nchoco install bat\\n```\\n\\n#### With Scoop\\n\\nYou can install `bat` via [scoop](https://scoop.sh/):\\n```bash\\nscoop install bat\\n```\\n\\n#### From prebuilt binaries:\\n\\nYou can download prebuilt binaries from the [Release page](https://github.com/sharkdp/bat/releases),\\n\\nYou will need to install the [Visual C++ Redistributable](https://support.microsoft.com/en-us/help/2977003/the-latest-supported-visual-c-downloads) package.\\n\\n### From binaries\\n\\nCheck out the [Release page](https://github.com/sharkdp/bat/releases) for\\nprebuilt versions of `bat` for many different architectures. Statically-linked\\nbinaries are also available: look for archives with `musl` in the file name.\\n\\n### From source\\n\\nIf you want to build `bat` from source, you need Rust 1.51 or\\nhigher. You can then use `cargo` to build everything:\\n\\n```bash\\ncargo install --locked bat\\n```\\n\\nNote that additional files like the man page or shell completion\\nfiles can not be installed in this way. They will be generated by `cargo` and should be available in the cargo target folder (under `build`).\\n\\n## Customization\\n\\n### Highlighting theme\\n\\nUse `bat --list-themes` to get a list of all available themes for syntax\\nhighlighting. To select the `TwoDark` theme, call `bat` with the\\n`--theme=TwoDark` option or set the `BAT_THEME` environment variable to\\n`TwoDark`. Use `export BAT_THEME=\"TwoDark\"` in your shell\\'s startup file to\\nmake the change permanent. Alternatively, use `bat`s\\n[configuration file](https://github.com/sharkdp/bat#configuration-file).\\n\\nIf you want to preview the different themes on a custom file, you can use\\nthe following command (you need [`fzf`](https://github.com/junegunn/fzf) for this):\\n```bash\\nbat --list-themes | fzf --preview=\"bat --theme={} --color=always /path/to/file\"\\n```\\n\\n`bat` looks good on a dark background by default. However, if your terminal uses a\\nlight background, some themes like `GitHub` or `OneHalfLight` will work better for you.\\nYou can also use a custom theme by following the\\n[\\'Adding new themes\\' section below](https://github.com/sharkdp/bat#adding-new-themes).\\n\\n### 8-bit themes\\n\\n`bat` has three themes that always use [8-bit colors](https://en.wikipedia.org/wiki/ANSI_escape_code#Colors),\\neven when truecolor support is available:\\n\\n- `ansi` looks decent on any terminal. It uses 3-bit colors: black, red, green,\\n  yellow, blue, magenta, cyan, and white.\\n- `base16` is designed for [base16](https://github.com/chriskempson/base16) terminal themes. It uses\\n  4-bit colors (3-bit colors plus bright variants) in accordance with the\\n  [base16 styling guidelines](https://github.com/chriskempson/base16/blob/master/styling.md).\\n- `base16-256` is designed for [base16-shell](https://github.com/chriskempson/base16-shell).\\n  It replaces certain bright colors with 8-bit colors from 16 to 21. **Do not** use this simply\\n  because you have a 256-color terminal but are not using base16-shell.\\n\\nAlthough these themes are more restricted, they have three advantages over truecolor themes. They:\\n\\n- Enjoy maximum compatibility. Some terminal utilities do not support more than 3-bit colors.\\n- Adapt to terminal theme changes. Even for already printed output.\\n- Visually harmonize better with other terminal software.\\n\\n### Output style\\n\\nYou can use the `--style` option to control the appearance of `bat`s output.\\nYou can use `--style=numbers,changes`, for example, to show only Git changes\\nand line numbers but no grid and no file header. Set the `BAT_STYLE` environment\\nvariable to make these changes permanent or use `bat`s\\n[configuration file](https://github.com/sharkdp/bat#configuration-file).\\n\\n### Adding new syntaxes / language definitions\\n\\nShould you find that a particular syntax is not available within `bat`, you can follow these\\ninstructions to easily add new syntaxes to your current `bat` installation.\\n\\n`bat` uses the excellent [`syntect`](https://github.com/trishume/syntect/)\\nlibrary for syntax highlighting. `syntect` can read any\\n[Sublime Text `.sublime-syntax` file](https://www.sublimetext.com/docs/3/syntax.html)\\nand theme.\\n\\nA good resource for finding Sublime Syntax packages is [Package Control](https://packagecontrol.io/). Once you found a\\nsyntax:\\n\\n1. Create a folder with syntax definition files:\\n\\n   ```bash\\n   mkdir -p \"$(bat --config-dir)/syntaxes\"\\n   cd \"$(bat --config-dir)/syntaxes\"\\n\\n   # Put new \\'.sublime-syntax\\' language definition files\\n   # in this folder (or its subdirectories), for example:\\n   git clone https://github.com/tellnobody1/sublime-purescript-syntax\\n   ```\\n\\n2. Now use the following command to parse these files into a binary cache:\\n\\n   ```bash\\n   bat cache --build\\n   ```\\n\\n3. Finally, use `bat --list-languages` to check if the new languages are available.\\n\\n   If you ever want to go back to the default settings, call:\\n\\n   ```bash\\n   bat cache --clear\\n   ```\\n\\n4. If you think that a specific syntax should be included in `bat` by default, please\\n   consider opening a \"syntax request\" ticket after reading the policies and\\n   instructions [here](doc/assets.md): [Open Syntax Request](https://github.com/sharkdp/bat/issues/new?labels=syntax-request&template=syntax_request.md).\\n\\n### Adding new themes\\n\\nThis works very similar to how we add new syntax definitions.\\n\\nFirst, create a folder with the new syntax highlighting themes:\\n```bash\\nmkdir -p \"$(bat --config-dir)/themes\"\\ncd \"$(bat --config-dir)/themes\"\\n\\n# Download a theme in \\'.tmTheme\\' format, for example:\\ngit clone https://github.com/greggb/sublime-snazzy\\n\\n# Update the binary cache\\nbat cache --build\\n```\\n\\nFinally, use `bat --list-themes` to check if the new themes are available.\\n\\n### Adding or changing file type associations\\n\\nYou can add new (or change existing) file name patterns using the `--map-syntax`\\ncommand line option. The option takes an argument of the form `pattern:syntax` where\\n`pattern` is a glob pattern that is matched against the file name and\\nthe absolute file path. The `syntax` part is the full name of a supported language\\n(use `bat --list-languages` for an overview).\\n\\n**Note:** You probably want to use this option as [an entry in `bat`\\'s configuration file](#configuration-file)\\nfor persistence instead of passing it on the command line as a one-off. Generally\\nyou\\'d just use `-l` if you want to manually specify a language for a file.\\n\\nExample: To use \"INI\" syntax highlighting for all files with a `.conf` file extension, use\\n```bash\\n--map-syntax=\\'*.conf:INI\\'\\n```\\n\\nExample: To open all files called `.ignore` (exact match) with the \"Git Ignore\" syntax, use:\\n```bash\\n--map-syntax=\\'.ignore:Git Ignore\\'\\n```\\n\\nExample: To open all `.conf` files in subfolders of `/etc/apache2` with the \"Apache Conf\"\\nsyntax, use (this mapping is already built in):\\n```bash\\n--map-syntax=\\'/etc/apache2/**/*.conf:Apache Conf\\'\\n```\\n\\n### Using a different pager\\n\\n`bat` uses the pager that is specified in the `PAGER` environment variable. If this variable is not\\nset, `less` is used by default. If you want to use a different pager, you can either modify the\\n`PAGER` variable or set the `BAT_PAGER` environment variable to override what is specified in\\n`PAGER`.\\n\\n**Note**: If `PAGER` is `more` or `most`, `bat` will silently use `less` instead to ensure support for colors.\\n\\nIf you want to pass command-line arguments to the pager, you can also set them via the\\n`PAGER`/`BAT_PAGER` variables:\\n\\n```bash\\nexport BAT_PAGER=\"less -RF\"\\n```\\n\\nInstead of using environment variables, you can also use `bat`s [configuration file](https://github.com/sharkdp/bat#configuration-file) to configure the pager (`--pager` option).\\n\\n**Note**: By default, if the pager is set to `less` (and no command-line options are specified),\\n`bat` will pass the following command line options to the pager: `-R`/`--RAW-CONTROL-CHARS`,\\n`-F`/`--quit-if-one-screen` and `-X`/`--no-init`. The last option (`-X`) is only used for `less`\\nversions older than 530.\\n\\nThe `-R` option is needed to interpret ANSI colors correctly. The second option (`-F`) instructs\\nless to exit immediately if the output size is smaller than the vertical size of the terminal.\\nThis is convenient for small files because you do not have to press `q` to quit the pager. The\\nthird option (`-X`) is needed to fix a bug with the `--quit-if-one-screen` feature in old versions\\nof `less`. Unfortunately, it also breaks mouse-wheel support in `less`.\\n\\nIf you want to enable mouse-wheel scrolling on older versions of `less`, you can pass just `-R` (as\\nin the example above, this will disable the quit-if-one-screen feature). For less 530 or newer,\\nit should work out of the box.\\n\\n### Indentation\\n\\n`bat` expands tabs to 4 spaces by itself, not relying on the pager. To change this, simply add the\\n`--tabs` argument with the number of spaces you want to be displayed.\\n\\n**Note**: Defining tab stops for the pager (via the `--pager` argument by `bat`, or via the `LESS`\\nenvironment variable for `less`) won\\'t be taken into account because the pager will already get\\nexpanded spaces instead of tabs. This behaviour is added to avoid indentation issues caused by the\\nsidebar. Calling `bat` with `--tabs=0` will override it and let tabs be consumed by the pager.\\n\\n### Dark mode\\n\\nIf you make use of the dark mode feature in macOS, you might want to configure `bat` to use a different\\ntheme based on the OS theme. The following snippet uses the `default` theme when in the _dark mode_\\nand the `GitHub` theme when in the _light mode_.\\n\\n```bash\\nalias cat=\"bat --theme=\\\\$(defaults read -globalDomain AppleInterfaceStyle &> /dev/null && echo default || echo GitHub)\"\\n```\\n\\n\\n## Configuration file\\n\\n`bat` can also be customized with a configuration file. The location of the file is dependent\\non your operating system. To get the default path for your system, call\\n```bash\\nbat --config-file\\n```\\n\\nAlternatively, you can use the `BAT_CONFIG_PATH` environment variable to point `bat` to a\\nnon-default location of the configuration file:\\n```bash\\nexport BAT_CONFIG_PATH=\"/path/to/bat.conf\"\\n```\\n\\nA default configuration file can be created with the `--generate-config-file` option.\\n```bash\\nbat --generate-config-file\\n```\\n\\n### Format\\n\\nThe configuration file is a simple list of command line arguments. Use `bat --help` to see a full list of possible options and values. In addition, you can add comments by prepending a line with the `#` character.\\n\\nExample configuration file:\\n```bash\\n# Set the theme to \"TwoDark\"\\n--theme=\"TwoDark\"\\n\\n# Show line numbers, Git modifications and file header (but no grid)\\n--style=\"numbers,changes,header\"\\n\\n# Use italic text on the terminal (not supported on all terminals)\\n--italic-text=always\\n\\n# Use C++ syntax for Arduino .ino files\\n--map-syntax \"*.ino:C++\"\\n```\\n\\n## Using `bat` on Windows\\n\\n`bat` mostly works out-of-the-box on Windows, but a few features may need extra configuration.\\n\\n### Prerequisites\\n\\nYou will need to install the [Visual C++ Redistributable](https://support.microsoft.com/en-us/help/2977003/the-latest-supported-visual-c-downloads) package.\\n\\n### Paging\\n\\nWindows only includes a very limited pager in the form of `more`. You can download a Windows binary\\nfor `less` [from its homepage](http://www.greenwoodsoftware.com/less/download.html) or [through\\nChocolatey](https://chocolatey.org/packages/Less). To use it, place the binary in a directory in\\nyour `PATH` or [define an environment variable](#using-a-different-pager). The [Chocolatey package](#on-windows) installs `less` automatically.\\n\\n### Colors\\n\\nWindows 10 natively supports colors in both `conhost.exe` (Command Prompt) and PowerShell since\\n[v1511](https://en.wikipedia.org/wiki/Windows_10_version_history#Version_1511_(November_Update)), as\\nwell as in newer versions of bash. On earlier versions of Windows, you can use\\n[Cmder](http://cmder.net/), which includes [ConEmu](https://conemu.github.io/).\\n\\n**Note:** The Git and MSYS versions of `less` do not correctly interpret colors on Windows. If you\\ndon’t have any other pagers installed, you can disable paging entirely by passing `--paging=never`\\nor by setting `BAT_PAGER` to an empty string.\\n\\n### Cygwin\\n\\n`bat` on Windows does not natively support Cygwin\\'s unix-style paths (`/cygdrive/*`). When passed an absolute cygwin path as an argument, `bat` will encounter the following error: `The system cannot find the path specified. (os error 3)`\\n\\nThis can be solved by creating a wrapper or adding the following function to your `.bash_profile` file:\\n\\n```bash\\nbat() {\\n    local index\\n    local args=(\"$@\")\\n    for index in $(seq 0 ${#args[@]}) ; do\\n        case \"${args[index]}\" in\\n        -*) continue;;\\n        *)  [ -e \"${args[index]}\" ] && args[index]=\"$(cygpath --windows \"${args[index]}\")\";;\\n        esac\\n    done\\n    command bat \"${args[@]}\"\\n}\\n```\\n\\n## Troubleshooting\\n\\n### Garbled output\\n\\nIf an input file contains color codes or other ANSI escape sequences or control characters, `bat` will have problems\\nperforming syntax highlighting and text wrapping, and thus the output can become garbled.\\nWhen displaying such files it is recommended to disable both syntax highlighting and wrapping by\\npassing the `--color=never --wrap=never` options to `bat`.\\n\\n### Terminals & colors\\n\\n`bat` handles terminals *with* and *without* truecolor support. However, the colors in most syntax\\nhighlighting themes are not optimized for 8-bit colors. It is therefore strongly recommended\\nthat you use a terminal with 24-bit truecolor support (`terminator`, `konsole`, `iTerm2`, ...),\\nor use one of the basic [8-bit themes](#8-bit-themes) designed for a restricted set of colors.\\nSee [this article](https://gist.github.com/XVilka/8346728) for more details and a full list of\\nterminals with truecolor support.\\n\\nMake sure that your truecolor terminal sets the `COLORTERM` variable to either `truecolor` or\\n`24bit`. Otherwise, `bat` will not be able to determine whether or not 24-bit escape sequences\\nare supported (and fall back to 8-bit colors).\\n\\n### Line numbers and grid are hardly visible\\n\\nPlease try a different theme (see `bat --list-themes` for a list). The `OneHalfDark` and\\n`OneHalfLight` themes provide grid and line colors that are brighter.\\n\\n### File encodings\\n\\n`bat` natively supports UTF-8 as well as UTF-16. For every other file encoding, you may need to\\nconvert to UTF-8 first because the encodings can typically not be auto-detected. You can `iconv`\\nto do so.\\nExample: if you have a PHP file in Latin-1 (ISO-8859-1) encoding, you can call:\\n``` bash\\niconv -f ISO-8859-1 -t UTF-8 my-file.php | bat\\n```\\nNote: you might have to use the `-l`/`--language` option if the syntax can not be auto-detected\\nby `bat`.\\n\\n## Development\\n\\n```bash\\n# Recursive clone to retrieve all submodules\\ngit clone --recursive https://github.com/sharkdp/bat\\n\\n# Build (debug version)\\ncd bat\\ncargo build --bins\\n\\n# Run unit tests and integration tests\\ncargo test\\n\\n# Install (release version)\\ncargo install --path . --locked\\n\\n# Build a bat binary with modified syntaxes and themes\\nbash assets/create.sh\\ncargo install --path . --locked --force\\n```\\n\\nIf you want to build an application that uses `bat`s pretty-printing\\nfeatures as a library, check out the [the API documentation](https://docs.rs/bat/).\\nNote that you have to use either `regex-onig` or `regex-fancy` as a feature\\nwhen you depend on `bat` as a library.\\n\\n## Contributing\\n\\nTake a look at the [`CONTRIBUTING.md`](CONTRIBUTING.md) guide.\\n\\n## Maintainers\\n\\n- [sharkdp](https://github.com/sharkdp)\\n- [eth-p](https://github.com/eth-p)\\n- [keith-hall](https://github.com/keith-hall)\\n- [Enselic](https://github.com/Enselic)\\n\\n## Security vulnerabilities\\n\\nPlease contact [David Peter](https://david-peter.de/) via email if you want to report a vulnerability in `bat`.\\n\\n## Project goals and alternatives\\n\\n`bat` tries to achieve the following goals:\\n\\n- Provide beautiful, advanced syntax highlighting\\n- Integrate with Git to show file modifications\\n- Be a drop-in replacement for (POSIX) `cat`\\n- Offer a user-friendly command-line interface\\n\\nThere are a lot of alternatives, if you are looking for similar programs. See\\n[this document](doc/alternatives.md) for a comparison.\\n\\n## License\\nCopyright (c) 2018-2021 [bat-developers](https://github.com/sharkdp/bat).\\n\\n`bat` is made available under the terms of either the MIT License or the Apache License 2.0, at your option.\\n\\nSee the [LICENSE-APACHE](LICENSE-APACHE) and [LICENSE-MIT](LICENSE-MIT) files for license details.\\n'"
      ]
     },
     "execution_count": 8,
     "metadata": {},
     "output_type": "execute_result"
    }
   ],
   "source": [
    "soup"
   ]
  },
  {
   "cell_type": "markdown",
   "id": "d1a8f0a2",
   "metadata": {},
   "source": [
    "#### First perform an initial scrubbing to remove pseky newline characters and embedded urls"
   ]
  },
  {
   "cell_type": "code",
   "execution_count": 9,
   "id": "947ff840",
   "metadata": {},
   "outputs": [],
   "source": [
    "# Remove r'(\\n)+'\n",
    "# Remove all https:\n",
    "# remove all words longer than 14 characters (5 stds over normal)"
   ]
  },
  {
   "cell_type": "code",
   "execution_count": 10,
   "id": "d2b4ae35",
   "metadata": {},
   "outputs": [],
   "source": [
    "#split the string into words\n",
    "split_soup = soup.split(' ')\n",
    "word_list = []\n",
    "\n",
    "for word in split_soup:\n",
    "    if re.search(r\"\\n\", word):\n",
    "        continue\n",
    "    if re.match(r'https:', word):\n",
    "        continue\n",
    "    if len(word) > 14:\n",
    "        continue\n",
    "    else:\n",
    "        word_list.append(word)\n",
    "\n",
    "scrubbed = ' '.join(word_list)"
   ]
  },
  {
   "cell_type": "code",
   "execution_count": 11,
   "id": "4e68ba5f",
   "metadata": {
    "scrolled": true
   },
   "outputs": [
    {
     "data": {
      "text/plain": [
       "' A cat(1) clone with syntax highlighting and Git Features  How To Use  Installation  Customization  Project goals,      special *thank you* goes to our biggest app, selling to enterprise customers with just a few lines of Single Sign-On (and more) in minutes instead of Syntax supports syntax highlighting for a large number of programming and highlighting Git communicates with `git` to show modifications with respect to the left side integration Show non-printable can use the option to show and highlight character Automatic default, `bat` pipes its own output to a pager (e.g. `less`) if the output is too large for one you would rather `bat` work like `cat` all the time (never page output), you can set as an option, either on the command line or in your configuration you intend to alias `cat` to `bat` in your shell configuration, you can use `alias cat=\\'bat to preserve the default File with a pager set, you can still use `bat` to concatenate files `bat` detects a terminal (i.e. when you pipe into another process or into a file), `bat` will act as a drop-in replacement for `cat` and fall back to printing the plain file contents, regardless of the `--pager` option\\'s How to a single file on the bat multiple files at bat from stdin, determine the syntax automatically (note, highlighting work if the syntax can be determined from the first line of the through a shebang such as curl -s | from stdin, specify the language yaml2json .travis.yml | json_pp | bat -l and highlight non-printable bat -A it as a `cat` > note.md  # quickly create a new header.md content.md footer.md > -n main.rs  # show line numbers f - g  # output \\'f\\', then stdin, then Integration with other can use `bat` as a previewer for To do `bat`s option to force colorized output. You can also use to restrict the load times for long --preview \\'bat --color=always more information, see [`fzf`\\'s `find` or can use the `-exec` option of `find` to preview all search results with … -exec bat {} you happen to use you can use the option to do the … -X `bat` can be used as the printer for search needle `tail can be combined with `tail -f` to continuously monitor a given file with syntax -f | bat --paging=never -l that we have to switch off paging in order for this to work. We have also specified the (`-l log`), as it can not be auto-detected in this can combine `bat` with `git show` to view an older version of a given file with proper show | bat -l `git can combine `bat` with `git diff` to view lines around code changes with proper    git diff --name-only --relative | xargs bat you prefer to use this as a separate tool, check out `batdiff` in you are looking for more support for git and diff operations, check out line numbers and Git modification markers in the output of `bat` can make it hard to contents of a file. To prevent this, you can call `bat` with the `-p`/`--plain` option pipe the output into main.cpp | will detect that the output is being redirected and print the plain file can be used as a colorizing pager for `man`, by setting environment MANPAGER=\"sh -c \\'col -bx | bat -l man 2 `bat` with `batcat` if you are on Debian or might also be necessary to set if you you prefer to have this bundled in a new command, you can also use that the [Manpage is developed in this repository and still needs some note that this will [not with Mandocs `man` `prettier` / `shfmt` / script is a wrapper that will format code and print it with Highlighting `--help` can use `bat` to colorize help text: `$ cp --help | bat can also use a wrapper around in your bathelp=\\'bat --plain    \"$@\" --help 2>&1 | you can do `$ help cp` or `$ help git report any issues with the help syntax in [this On Ubuntu (using and other Debian-based Linux is available on [Ubuntu since 20.04 and [Debian since August 2021 (Debian 11 - your Ubuntu/Debian installation is new enough you can simply apt install If you install `bat` this way, please note that the executable may be installed as `batcat` instead of `bat` (due to [a with another You can set up a `bat -> batcat` symlink or alias to prevent any issues that may come up because of this and to be consistent with other -p -s On Ubuntu (using most recent `.deb` and other Debian-based Linux the package has not yet been promoted to your Ubuntu/Debian installation, or you most recent release of `bat`, download the latest `.deb` package from and install it dpkg -i  # adapt version number and On Alpine can install [the `bat` the official sources, provided you have the appropriate repository add On Arch can install [the `bat` the official -S On can install [the `bat` from the official [Fedora install On Funtoo can install [the `bat` from On Gentoo can install [the `bat` the official On Void can install `bat` via -S On can install `bat` via install On can install a precompiled [`bat` with install build it on your own from the FreeBSD On can install `bat` package using Via can install `bat` using the [nix package -i On can install `bat` with install Via snap is currently no recommended snap package packages may be available, but are not officially supported and may contain On macOS (or Linux) via can install `bat` with [Homebrew on or [Homebrew on install On macOS via install `bat` with install On are a few options to install `bat` on Windows. Once you have installed a look at the [\"Using `bat` on will need to install the [Visual C++ With can install `bat` via install With can install `bat` via install From prebuilt can download prebuilt binaries from the [Release will need to install the [Visual C++ From out the [Release versions of `bat` for many different architectures. are also available: look for archives with `musl` in the file From you want to build `bat` from source, you need Rust 1.51 You can then use `cargo` to build install --locked that additional files like the man page or shell can not be installed in this way. They will be generated by `cargo` and should be available in the cargo target folder (under Highlighting `bat --list-themes` to get a list of all available themes for To select the `TwoDark` theme, call `bat` with option or set the `BAT_THEME` environment variable Use `export in your shell\\'s startup file the change permanent. Alternatively, use you want to preview the different themes on a custom file, you can following command (you need for --list-themes | fzf --preview=\"bat --theme={} --color=always looks good on a dark background by default. However, if your terminal uses background, some themes like `GitHub` or `OneHalfLight` will work better for can also use a custom theme by following new themes\\' section 8-bit has three themes that always use [8-bit when truecolor support is `ansi` looks decent on any terminal. It uses 3-bit colors: black, red,  yellow, blue, magenta, cyan, and `base16` is designed for terminal themes. It  4-bit colors (3-bit colors plus bright variants) in accordance with  [base16 styling `base16-256` is designed for  It replaces certain bright colors with 8-bit colors from 16 to 21. **Do not** use this  because you have a 256-color terminal but are not using these themes are more restricted, they have three advantages over truecolor themes. Enjoy maximum compatibility. Some terminal utilities do not support more than 3-bit Adapt to terminal theme changes. Even for already printed Visually harmonize better with other terminal Output can use the `--style` option to control the appearance of `bat`s can use for example, to show only Git line numbers but no grid and no file header. Set the `BAT_STYLE` to make these changes permanent or use Adding new syntaxes / language you find that a particular syntax is not available within `bat`, you can follow to easily add new syntaxes to your current `bat` uses the excellent for syntax highlighting. `syntect` can read Text good resource for finding Sublime Syntax packages is [Package Once you found Create a folder with syntax definition     mkdir -p \"$(bat   cd \"$(bat   # Put new language definition   # in this folder (or its for   git clone   Now use the following command to parse these files into a binary     bat cache   Finally, use `bat to check if the new languages are   If you ever want to go back to the default settings,     bat cache   If you think that a specific syntax should be included in `bat` by default,   consider opening a \"syntax request\" ticket after reading the policies   instructions [Open Syntax Adding new works very similar to how we add new syntax create a folder with the new syntax highlighting -p \"$(bat \"$(bat Download a theme in \\'.tmTheme\\' format, for clone Update the binary cache use `bat --list-themes` to check if the new themes are Adding or changing file type can add new (or change existing) file name patterns using the line option. The option takes an argument of the form is a glob pattern that is matched against the file name absolute file path. The `syntax` part is the full name of a supported `bat for an You probably want to use this option as [an entry in `bat`\\'s configuration persistence instead of passing it on the command line as a one-off. just use `-l` if you want to manually specify a language for a To use \"INI\" syntax highlighting for all files with a `.conf` file extension, To open all files called `.ignore` (exact match) with the \"Git Ignore\" syntax, To open all `.conf` files in subfolders of `/etc/apache2` with the \"Apache use (this mapping is already built Using a different uses the pager that is specified in the `PAGER` environment variable. If this variable is `less` is used by default. If you want to use a different pager, you can either modify variable or set the `BAT_PAGER` environment variable to override what is specified If `PAGER` is `more` or `most`, `bat` will silently use `less` instead to ensure support for you want to pass command-line arguments to the pager, you can also set them via of using environment variables, you can also use `bat`s [configuration to configure the pager (`--pager` By default, if the pager is set to `less` (and no command-line options are will pass the following command line options to the pager: and The last option (`-X`) is only used for older than `-R` option is needed to interpret ANSI colors correctly. The second option (`-F`) to exit immediately if the output size is smaller than the vertical size of the is convenient for small files because you do not have to press `q` to quit the pager. option (`-X`) is needed to fix a bug with the feature in old `less`. Unfortunately, it also breaks mouse-wheel support in you want to enable mouse-wheel scrolling on older versions of `less`, you can pass just `-R` the example above, this will disable the feature). For less 530 or should work out of the expands tabs to 4 spaces by itself, not relying on the pager. To change this, simply add argument with the number of spaces you want to be Defining tab stops for the pager (via the `--pager` argument by `bat`, or via the variable for `less`) won\\'t be taken into account because the pager will already spaces instead of tabs. This behaviour is added to avoid indentation issues caused by Calling `bat` with `--tabs=0` will override it and let tabs be consumed by the Dark you make use of the dark mode feature in macOS, you might want to configure `bat` to use a based on the OS theme. The following snippet uses the `default` theme when in the _dark the `GitHub` theme when in the _light cat=\"bat read -globalDomain &> /dev/null && echo default || echo Configuration can also be customized with a configuration file. The location of the file is your operating system. To get the default path for your system, you can use the environment variable to point `bat` to location of the configuration default configuration file can be created with the configuration file is a simple list of command line arguments. Use `bat --help` to see a full list of possible options and values. In addition, you can add comments by prepending a line with the `#` configuration Set the theme to Show line numbers, Git modifications and file header (but no Use italic text on the terminal (not supported on all Use C++ syntax for Arduino .ino Using `bat` on mostly works out-of-the-box on Windows, but a few features may need extra will need to install the [Visual C++ only includes a very limited pager in the form of `more`. You can download a Windows `less` [from its or To use it, place the binary in a directory `PATH` or [define an environment The [Chocolatey installs `less` 10 natively supports colors in both `conhost.exe` (Command Prompt) and PowerShell as in newer versions of bash. On earlier versions of Windows, you can which includes The Git and MSYS versions of `less` do not correctly interpret colors on Windows. If have any other pagers installed, you can disable paging entirely by passing by setting `BAT_PAGER` to an empty on Windows does not natively support Cygwin\\'s unix-style paths When passed an absolute cygwin path as an argument, `bat` will encounter the following error: `The system cannot find the path specified. (os error can be solved by creating a wrapper or adding the following function to your    local    local    for index in $(seq 0 ${#args[@]}) ;        case        -*)        *)  [ -e ] && --windows              command bat Garbled an input file contains color codes or other ANSI escape sequences or control characters, `bat` will have syntax highlighting and text wrapping, and thus the output can become displaying such files it is recommended to disable both syntax highlighting and wrapping the `--color=never --wrap=never` options to Terminals & handles terminals *with* and *without* truecolor support. However, the colors in most themes are not optimized for 8-bit colors. It is therefore strongly you use a terminal with 24-bit truecolor support (`terminator`, `konsole`, `iTerm2`, use one of the basic [8-bit designed for a restricted set of [this for more details and a full list with truecolor sure that your truecolor terminal sets the `COLORTERM` variable to either `truecolor` Otherwise, `bat` will not be able to determine whether or not 24-bit escape supported (and fall back to 8-bit Line numbers and grid are hardly try a different theme (see `bat --list-themes` for a list). The `OneHalfDark` themes provide grid and line colors that are File natively supports UTF-8 as well as UTF-16. For every other file encoding, you may need to UTF-8 first because the encodings can typically not be auto-detected. You can do if you have a PHP file in Latin-1 (ISO-8859-1) encoding, you can -f ISO-8859-1 -t UTF-8 my-file.php | you might have to use the option if the syntax can not be Recursive clone to retrieve all clone --recursive Build (debug build Run unit tests and integration Install (release install --path . Build a bat binary with modified syntaxes and install --path . --locked you want to build an application that uses `bat`s as a library, check out the [the API that you have to use either `regex-onig` or `regex-fancy` as a you depend on `bat` as a a look at the Security contact [David via email if you want to report a vulnerability in Project goals and tries to achieve the following Provide beautiful, advanced syntax Integrate with Git to show file Be a drop-in replacement for (POSIX) Offer a user-friendly command-line are a lot of alternatives, if you are looking for similar programs. for a (c) 2018-2021 is made available under the terms of either the MIT License or the Apache License 2.0, at your the and files for license'"
      ]
     },
     "execution_count": 11,
     "metadata": {},
     "output_type": "execute_result"
    }
   ],
   "source": [
    "scrubbed"
   ]
  },
  {
   "cell_type": "markdown",
   "id": "29b70ca3",
   "metadata": {},
   "source": [
    "#### Basic clean (lower case, remove weird characters)"
   ]
  },
  {
   "cell_type": "code",
   "execution_count": 12,
   "id": "1b08320f",
   "metadata": {},
   "outputs": [
    {
     "data": {
      "text/plain": [
       "\" a cat1 clone with syntax highlighting and git features  how to use  installation  customization  project goals      special thank you goes to our biggest app selling to enterprise customers with just a few lines of single signon and more in minutes instead of syntax supports syntax highlighting for a large number of programming and highlighting git communicates with git to show modifications with respect to the left side integration show nonprintable can use the option to show and highlight character automatic default bat pipes its own output to a pager eg less if the output is too large for one you would rather bat work like cat all the time never page output you can set as an option either on the command line or in your configuration you intend to alias cat to bat in your shell configuration you can use alias cat'bat to preserve the default file with a pager set you can still use bat to concatenate files bat detects a terminal ie when you pipe into another process or into a file bat will act as a dropin replacement for cat and fall back to printing the plain file contents regardless of the pager option's how to a single file on the bat multiple files at bat from stdin determine the syntax automatically note highlighting work if the syntax can be determined from the first line of the through a shebang such as curl s  from stdin specify the language yaml2json travisyml  jsonpp  bat l and highlight nonprintable bat a it as a cat  notemd   quickly create a new headermd contentmd footermd  n mainrs   show line numbers f  g   output 'f' then stdin then integration with other can use bat as a previewer for to do bats option to force colorized output you can also use to restrict the load times for long preview 'bat coloralways more information see fzf's find or can use the exec option of find to preview all search results with  exec bat  you happen to use you can use the option to do the  x bat can be used as the printer for search needle tail can be combined with tail f to continuously monitor a given file with syntax f  bat pagingnever l that we have to switch off paging in order for this to work we have also specified the l log as it can not be autodetected in this can combine bat with git show to view an older version of a given file with proper show  bat l git can combine bat with git diff to view lines around code changes with proper    git diff nameonly relative  xargs bat you prefer to use this as a separate tool check out batdiff in you are looking for more support for git and diff operations check out line numbers and git modification markers in the output of bat can make it hard to contents of a file to prevent this you can call bat with the pplain option pipe the output into maincpp  will detect that the output is being redirected and print the plain file can be used as a colorizing pager for man by setting environment manpagersh c 'col bx  bat l man 2 bat with batcat if you are on debian or might also be necessary to set if you you prefer to have this bundled in a new command you can also use that the manpage is developed in this repository and still needs some note that this will not with mandocs man prettier  shfmt  script is a wrapper that will format code and print it with highlighting help can use bat to colorize help text  cp help  bat can also use a wrapper around in your bathelp'bat plain     help 21  you can do  help cp or  help git report any issues with the help syntax in this on ubuntu using and other debianbased linux is available on ubuntu since 2004 and debian since august 2021 debian 11  your ubuntudebian installation is new enough you can simply apt install if you install bat this way please note that the executable may be installed as batcat instead of bat due to a with another you can set up a bat  batcat symlink or alias to prevent any issues that may come up because of this and to be consistent with other p s on ubuntu using most recent deb and other debianbased linux the package has not yet been promoted to your ubuntudebian installation or you most recent release of bat download the latest deb package from and install it dpkg i   adapt version number and on alpine can install the bat the official sources provided you have the appropriate repository add on arch can install the bat the official s on can install the bat from the official fedora install on funtoo can install the bat from on gentoo can install the bat the official on void can install bat via s on can install bat via install on can install a precompiled bat with install build it on your own from the freebsd on can install bat package using via can install bat using the nix package i on can install bat with install via snap is currently no recommended snap package packages may be available but are not officially supported and may contain on macos or linux via can install bat with homebrew on or homebrew on install on macos via install bat with install on are a few options to install bat on windows once you have installed a look at the using bat on will need to install the visual c with can install bat via install with can install bat via install from prebuilt can download prebuilt binaries from the release will need to install the visual c from out the release versions of bat for many different architectures are also available look for archives with musl in the file from you want to build bat from source you need rust 151 you can then use cargo to build install locked that additional files like the man page or shell can not be installed in this way they will be generated by cargo and should be available in the cargo target folder under highlighting bat listthemes to get a list of all available themes for to select the twodark theme call bat with option or set the battheme environment variable use export in your shell's startup file the change permanent alternatively use you want to preview the different themes on a custom file you can following command you need for listthemes  fzf previewbat theme coloralways looks good on a dark background by default however if your terminal uses background some themes like github or onehalflight will work better for can also use a custom theme by following new themes' section 8bit has three themes that always use 8bit when truecolor support is ansi looks decent on any terminal it uses 3bit colors black red  yellow blue magenta cyan and base16 is designed for terminal themes it  4bit colors 3bit colors plus bright variants in accordance with  base16 styling base16256 is designed for  it replaces certain bright colors with 8bit colors from 16 to 21 do not use this  because you have a 256color terminal but are not using these themes are more restricted they have three advantages over truecolor themes enjoy maximum compatibility some terminal utilities do not support more than 3bit adapt to terminal theme changes even for already printed visually harmonize better with other terminal output can use the style option to control the appearance of bats can use for example to show only git line numbers but no grid and no file header set the batstyle to make these changes permanent or use adding new syntaxes  language you find that a particular syntax is not available within bat you can follow to easily add new syntaxes to your current bat uses the excellent for syntax highlighting syntect can read text good resource for finding sublime syntax packages is package once you found create a folder with syntax definition     mkdir p bat   cd bat    put new language definition    in this folder or its for   git clone   now use the following command to parse these files into a binary     bat cache   finally use bat to check if the new languages are   if you ever want to go back to the default settings     bat cache   if you think that a specific syntax should be included in bat by default   consider opening a syntax request ticket after reading the policies   instructions open syntax adding new works very similar to how we add new syntax create a folder with the new syntax highlighting p bat bat download a theme in 'tmtheme' format for clone update the binary cache use bat listthemes to check if the new themes are adding or changing file type can add new or change existing file name patterns using the line option the option takes an argument of the form is a glob pattern that is matched against the file name absolute file path the syntax part is the full name of a supported bat for an you probably want to use this option as an entry in bat's configuration persistence instead of passing it on the command line as a oneoff just use l if you want to manually specify a language for a to use ini syntax highlighting for all files with a conf file extension to open all files called ignore exact match with the git ignore syntax to open all conf files in subfolders of etcapache2 with the apache use this mapping is already built using a different uses the pager that is specified in the pager environment variable if this variable is less is used by default if you want to use a different pager you can either modify variable or set the batpager environment variable to override what is specified if pager is more or most bat will silently use less instead to ensure support for you want to pass commandline arguments to the pager you can also set them via of using environment variables you can also use bats configuration to configure the pager pager by default if the pager is set to less and no commandline options are will pass the following command line options to the pager and the last option x is only used for older than r option is needed to interpret ansi colors correctly the second option f to exit immediately if the output size is smaller than the vertical size of the is convenient for small files because you do not have to press q to quit the pager option x is needed to fix a bug with the feature in old less unfortunately it also breaks mousewheel support in you want to enable mousewheel scrolling on older versions of less you can pass just r the example above this will disable the feature for less 530 or should work out of the expands tabs to 4 spaces by itself not relying on the pager to change this simply add argument with the number of spaces you want to be defining tab stops for the pager via the pager argument by bat or via the variable for less won't be taken into account because the pager will already spaces instead of tabs this behaviour is added to avoid indentation issues caused by calling bat with tabs0 will override it and let tabs be consumed by the dark you make use of the dark mode feature in macos you might want to configure bat to use a based on the os theme the following snippet uses the default theme when in the dark the github theme when in the light catbat read globaldomain  devnull  echo default  echo configuration can also be customized with a configuration file the location of the file is your operating system to get the default path for your system you can use the environment variable to point bat to location of the configuration default configuration file can be created with the configuration file is a simple list of command line arguments use bat help to see a full list of possible options and values in addition you can add comments by prepending a line with the  configuration set the theme to show line numbers git modifications and file header but no use italic text on the terminal not supported on all use c syntax for arduino ino using bat on mostly works outofthebox on windows but a few features may need extra will need to install the visual c only includes a very limited pager in the form of more you can download a windows less from its or to use it place the binary in a directory path or define an environment the chocolatey installs less 10 natively supports colors in both conhostexe command prompt and powershell as in newer versions of bash on earlier versions of windows you can which includes the git and msys versions of less do not correctly interpret colors on windows if have any other pagers installed you can disable paging entirely by passing by setting batpager to an empty on windows does not natively support cygwin's unixstyle paths when passed an absolute cygwin path as an argument bat will encounter the following error the system cannot find the path specified os error can be solved by creating a wrapper or adding the following function to your    local    local    for index in seq 0 args         case                   e   windows              command bat garbled an input file contains color codes or other ansi escape sequences or control characters bat will have syntax highlighting and text wrapping and thus the output can become displaying such files it is recommended to disable both syntax highlighting and wrapping the colornever wrapnever options to terminals  handles terminals with and without truecolor support however the colors in most themes are not optimized for 8bit colors it is therefore strongly you use a terminal with 24bit truecolor support terminator konsole iterm2 use one of the basic 8bit designed for a restricted set of this for more details and a full list with truecolor sure that your truecolor terminal sets the colorterm variable to either truecolor otherwise bat will not be able to determine whether or not 24bit escape supported and fall back to 8bit line numbers and grid are hardly try a different theme see bat listthemes for a list the onehalfdark themes provide grid and line colors that are file natively supports utf8 as well as utf16 for every other file encoding you may need to utf8 first because the encodings can typically not be autodetected you can do if you have a php file in latin1 iso88591 encoding you can f iso88591 t utf8 myfilephp  you might have to use the option if the syntax can not be recursive clone to retrieve all clone recursive build debug build run unit tests and integration install release install path  build a bat binary with modified syntaxes and install path  locked you want to build an application that uses bats as a library check out the the api that you have to use either regexonig or regexfancy as a you depend on bat as a a look at the security contact david via email if you want to report a vulnerability in project goals and tries to achieve the following provide beautiful advanced syntax integrate with git to show file be a dropin replacement for posix offer a userfriendly commandline are a lot of alternatives if you are looking for similar programs for a c 20182021 is made available under the terms of either the mit license or the apache license 20 at your the and files for license\""
      ]
     },
     "execution_count": 12,
     "metadata": {},
     "output_type": "execute_result"
    }
   ],
   "source": [
    "bc = prepare.basic_clean(scrubbed)\n",
    "bc"
   ]
  },
  {
   "cell_type": "markdown",
   "id": "e65e0762",
   "metadata": {},
   "source": [
    "#### Tokenize"
   ]
  },
  {
   "cell_type": "code",
   "execution_count": 13,
   "id": "b724f915",
   "metadata": {
    "scrolled": true
   },
   "outputs": [
    {
     "data": {
      "text/plain": [
       "\"a cat1 clone with syntax highlighting and git features how to use installation customization project goals special thank you goes to our biggest app selling to enterprise customers with just a few lines of single signon and more in minutes instead of syntax supports syntax highlighting for a large number of programming and highlighting git communicates with git to show modifications with respect to the left side integration show nonprintable can use the option to show and highlight character automatic default bat pipes its own output to a pager eg less if the output is too large for one you would rather bat work like cat all the time never page output you can set as an option either on the command line or in your configuration you intend to alias cat to bat in your shell configuration you can use alias cat ' bat to preserve the default file with a pager set you can still use bat to concatenate files bat detects a terminal ie when you pipe into another process or into a file bat will act as a dropin replacement for cat and fall back to printing the plain file contents regardless of the pager option ' s how to a single file on the bat multiple files at bat from stdin determine the syntax automatically note highlighting work if the syntax can be determined from the first line of the through a shebang such as curl s from stdin specify the language yaml2json travisyml jsonpp bat l and highlight nonprintable bat a it as a cat notemd quickly create a new headermd contentmd footermd n mainrs show line numbers f g output ' f ' then stdin then integration with other can use bat as a previewer for to do bats option to force colorized output you can also use to restrict the load times for long preview ' bat coloralways more information see fzf ' s find or can use the exec option of find to preview all search results with exec bat you happen to use you can use the option to do the x bat can be used as the printer for search needle tail can be combined with tail f to continuously monitor a given file with syntax f bat pagingnever l that we have to switch off paging in order for this to work we have also specified the l log as it can not be autodetected in this can combine bat with git show to view an older version of a given file with proper show bat l git can combine bat with git diff to view lines around code changes with proper git diff nameonly relative xargs bat you prefer to use this as a separate tool check out batdiff in you are looking for more support for git and diff operations check out line numbers and git modification markers in the output of bat can make it hard to contents of a file to prevent this you can call bat with the pplain option pipe the output into maincpp will detect that the output is being redirected and print the plain file can be used as a colorizing pager for man by setting environment manpagersh c ' col bx bat l man 2 bat with batcat if you are on debian or might also be necessary to set if you you prefer to have this bundled in a new command you can also use that the manpage is developed in this repository and still needs some note that this will not with mandocs man prettier shfmt script is a wrapper that will format code and print it with highlighting help can use bat to colorize help text cp help bat can also use a wrapper around in your bathelp ' bat plain help 21 you can do help cp or help git report any issues with the help syntax in this on ubuntu using and other debianbased linux is available on ubuntu since 2004 and debian since august 2021 debian 11 your ubuntudebian installation is new enough you can simply apt install if you install bat this way please note that the executable may be installed as batcat instead of bat due to a with another you can set up a bat batcat symlink or alias to prevent any issues that may come up because of this and to be consistent with other p s on ubuntu using most recent deb and other debianbased linux the package has not yet been promoted to your ubuntudebian installation or you most recent release of bat download the latest deb package from and install it dpkg i adapt version number and on alpine can install the bat the official sources provided you have the appropriate repository add on arch can install the bat the official s on can install the bat from the official fedora install on funtoo can install the bat from on gentoo can install the bat the official on void can install bat via s on can install bat via install on can install a precompiled bat with install build it on your own from the freebsd on can install bat package using via can install bat using the nix package i on can install bat with install via snap is currently no recommended snap package packages may be available but are not officially supported and may contain on macos or linux via can install bat with homebrew on or homebrew on install on macos via install bat with install on are a few options to install bat on windows once you have installed a look at the using bat on will need to install the visual c with can install bat via install with can install bat via install from prebuilt can download prebuilt binaries from the release will need to install the visual c from out the release versions of bat for many different architectures are also available look for archives with musl in the file from you want to build bat from source you need rust 151 you can then use cargo to build install locked that additional files like the man page or shell can not be installed in this way they will be generated by cargo and should be available in the cargo target folder under highlighting bat listthemes to get a list of all available themes for to select the twodark theme call bat with option or set the battheme environment variable use export in your shell ' s startup file the change permanent alternatively use you want to preview the different themes on a custom file you can following command you need for listthemes fzf previewbat theme coloralways looks good on a dark background by default however if your terminal uses background some themes like github or onehalflight will work better for can also use a custom theme by following new themes ' section 8bit has three themes that always use 8bit when truecolor support is ansi looks decent on any terminal it uses 3bit colors black red yellow blue magenta cyan and base16 is designed for terminal themes it 4bit colors 3bit colors plus bright variants in accordance with base16 styling base16256 is designed for it replaces certain bright colors with 8bit colors from 16 to 21 do not use this because you have a 256color terminal but are not using these themes are more restricted they have three advantages over truecolor themes enjoy maximum compatibility some terminal utilities do not support more than 3bit adapt to terminal theme changes even for already printed visually harmonize better with other terminal output can use the style option to control the appearance of bats can use for example to show only git line numbers but no grid and no file header set the batstyle to make these changes permanent or use adding new syntaxes language you find that a particular syntax is not available within bat you can follow to easily add new syntaxes to your current bat uses the excellent for syntax highlighting syntect can read text good resource for finding sublime syntax packages is package once you found create a folder with syntax definition mkdir p bat cd bat put new language definition in this folder or its for git clone now use the following command to parse these files into a binary bat cache finally use bat to check if the new languages are if you ever want to go back to the default settings bat cache if you think that a specific syntax should be included in bat by default consider opening a syntax request ticket after reading the policies instructions open syntax adding new works very similar to how we add new syntax create a folder with the new syntax highlighting p bat bat download a theme in ' tmtheme ' format for clone update the binary cache use bat listthemes to check if the new themes are adding or changing file type can add new or change existing file name patterns using the line option the option takes an argument of the form is a glob pattern that is matched against the file name absolute file path the syntax part is the full name of a supported bat for an you probably want to use this option as an entry in bat ' s configuration persistence instead of passing it on the command line as a oneoff just use l if you want to manually specify a language for a to use ini syntax highlighting for all files with a conf file extension to open all files called ignore exact match with the git ignore syntax to open all conf files in subfolders of etcapache2 with the apache use this mapping is already built using a different uses the pager that is specified in the pager environment variable if this variable is less is used by default if you want to use a different pager you can either modify variable or set the batpager environment variable to override what is specified if pager is more or most bat will silently use less instead to ensure support for you want to pass commandline arguments to the pager you can also set them via of using environment variables you can also use bats configuration to configure the pager pager by default if the pager is set to less and no commandline options are will pass the following command line options to the pager and the last option x is only used for older than r option is needed to interpret ansi colors correctly the second option f to exit immediately if the output size is smaller than the vertical size of the is convenient for small files because you do not have to press q to quit the pager option x is needed to fix a bug with the feature in old less unfortunately it also breaks mousewheel support in you want to enable mousewheel scrolling on older versions of less you can pass just r the example above this will disable the feature for less 530 or should work out of the expands tabs to 4 spaces by itself not relying on the pager to change this simply add argument with the number of spaces you want to be defining tab stops for the pager via the pager argument by bat or via the variable for less won ' t be taken into account because the pager will already spaces instead of tabs this behaviour is added to avoid indentation issues caused by calling bat with tabs0 will override it and let tabs be consumed by the dark you make use of the dark mode feature in macos you might want to configure bat to use a based on the os theme the following snippet uses the default theme when in the dark the github theme when in the light catbat read globaldomain devnull echo default echo configuration can also be customized with a configuration file the location of the file is your operating system to get the default path for your system you can use the environment variable to point bat to location of the configuration default configuration file can be created with the configuration file is a simple list of command line arguments use bat help to see a full list of possible options and values in addition you can add comments by prepending a line with the configuration set the theme to show line numbers git modifications and file header but no use italic text on the terminal not supported on all use c syntax for arduino ino using bat on mostly works outofthebox on windows but a few features may need extra will need to install the visual c only includes a very limited pager in the form of more you can download a windows less from its or to use it place the binary in a directory path or define an environment the chocolatey installs less 10 natively supports colors in both conhostexe command prompt and powershell as in newer versions of bash on earlier versions of windows you can which includes the git and msys versions of less do not correctly interpret colors on windows if have any other pagers installed you can disable paging entirely by passing by setting batpager to an empty on windows does not natively support cygwin ' s unixstyle paths when passed an absolute cygwin path as an argument bat will encounter the following error the system cannot find the path specified os error can be solved by creating a wrapper or adding the following function to your local local for index in seq 0 args case e windows command bat garbled an input file contains color codes or other ansi escape sequences or control characters bat will have syntax highlighting and text wrapping and thus the output can become displaying such files it is recommended to disable both syntax highlighting and wrapping the colornever wrapnever options to terminals handles terminals with and without truecolor support however the colors in most themes are not optimized for 8bit colors it is therefore strongly you use a terminal with 24bit truecolor support terminator konsole iterm2 use one of the basic 8bit designed for a restricted set of this for more details and a full list with truecolor sure that your truecolor terminal sets the colorterm variable to either truecolor otherwise bat will not be able to determine whether or not 24bit escape supported and fall back to 8bit line numbers and grid are hardly try a different theme see bat listthemes for a list the onehalfdark themes provide grid and line colors that are file natively supports utf8 as well as utf16 for every other file encoding you may need to utf8 first because the encodings can typically not be autodetected you can do if you have a php file in latin1 iso88591 encoding you can f iso88591 t utf8 myfilephp you might have to use the option if the syntax can not be recursive clone to retrieve all clone recursive build debug build run unit tests and integration install release install path build a bat binary with modified syntaxes and install path locked you want to build an application that uses bats as a library check out the the api that you have to use either regexonig or regexfancy as a you depend on bat as a a look at the security contact david via email if you want to report a vulnerability in project goals and tries to achieve the following provide beautiful advanced syntax integrate with git to show file be a dropin replacement for posix offer a userfriendly commandline are a lot of alternatives if you are looking for similar programs for a c 20182021 is made available under the terms of either the mit license or the apache license 20 at your the and files for license\""
      ]
     },
     "execution_count": 13,
     "metadata": {},
     "output_type": "execute_result"
    }
   ],
   "source": [
    "tokens = prepare.tokenize(bc)\n",
    "tokens"
   ]
  },
  {
   "cell_type": "markdown",
   "id": "ecc5da20",
   "metadata": {},
   "source": [
    "#### Lemmatize"
   ]
  },
  {
   "cell_type": "code",
   "execution_count": 14,
   "id": "f4590522",
   "metadata": {
    "scrolled": true
   },
   "outputs": [
    {
     "data": {
      "text/plain": [
       "\"a cat1 clone with syntax highlighting and git feature how to use installation customization project goal special thank you go to our biggest app selling to enterprise customer with just a few line of single signon and more in minute instead of syntax support syntax highlighting for a large number of programming and highlighting git communicates with git to show modification with respect to the left side integration show nonprintable can use the option to show and highlight character automatic default bat pipe it own output to a pager eg le if the output is too large for one you would rather bat work like cat all the time never page output you can set a an option either on the command line or in your configuration you intend to alias cat to bat in your shell configuration you can use alias cat ' bat to preserve the default file with a pager set you can still use bat to concatenate file bat detects a terminal ie when you pipe into another process or into a file bat will act a a dropin replacement for cat and fall back to printing the plain file content regardless of the pager option ' s how to a single file on the bat multiple file at bat from stdin determine the syntax automatically note highlighting work if the syntax can be determined from the first line of the through a shebang such a curl s from stdin specify the language yaml2json travisyml jsonpp bat l and highlight nonprintable bat a it a a cat notemd quickly create a new headermd contentmd footermd n mainrs show line number f g output ' f ' then stdin then integration with other can use bat a a previewer for to do bat option to force colorized output you can also use to restrict the load time for long preview ' bat coloralways more information see fzf ' s find or can use the exec option of find to preview all search result with exec bat you happen to use you can use the option to do the x bat can be used a the printer for search needle tail can be combined with tail f to continuously monitor a given file with syntax f bat pagingnever l that we have to switch off paging in order for this to work we have also specified the l log a it can not be autodetected in this can combine bat with git show to view an older version of a given file with proper show bat l git can combine bat with git diff to view line around code change with proper git diff nameonly relative xargs bat you prefer to use this a a separate tool check out batdiff in you are looking for more support for git and diff operation check out line number and git modification marker in the output of bat can make it hard to content of a file to prevent this you can call bat with the pplain option pipe the output into maincpp will detect that the output is being redirected and print the plain file can be used a a colorizing pager for man by setting environment manpagersh c ' col bx bat l man 2 bat with batcat if you are on debian or might also be necessary to set if you you prefer to have this bundled in a new command you can also use that the manpage is developed in this repository and still need some note that this will not with mandocs man prettier shfmt script is a wrapper that will format code and print it with highlighting help can use bat to colorize help text cp help bat can also use a wrapper around in your bathelp ' bat plain help 21 you can do help cp or help git report any issue with the help syntax in this on ubuntu using and other debianbased linux is available on ubuntu since 2004 and debian since august 2021 debian 11 your ubuntudebian installation is new enough you can simply apt install if you install bat this way please note that the executable may be installed a batcat instead of bat due to a with another you can set up a bat batcat symlink or alias to prevent any issue that may come up because of this and to be consistent with other p s on ubuntu using most recent deb and other debianbased linux the package ha not yet been promoted to your ubuntudebian installation or you most recent release of bat download the latest deb package from and install it dpkg i adapt version number and on alpine can install the bat the official source provided you have the appropriate repository add on arch can install the bat the official s on can install the bat from the official fedora install on funtoo can install the bat from on gentoo can install the bat the official on void can install bat via s on can install bat via install on can install a precompiled bat with install build it on your own from the freebsd on can install bat package using via can install bat using the nix package i on can install bat with install via snap is currently no recommended snap package package may be available but are not officially supported and may contain on macos or linux via can install bat with homebrew on or homebrew on install on macos via install bat with install on are a few option to install bat on window once you have installed a look at the using bat on will need to install the visual c with can install bat via install with can install bat via install from prebuilt can download prebuilt binary from the release will need to install the visual c from out the release version of bat for many different architecture are also available look for archive with musl in the file from you want to build bat from source you need rust 151 you can then use cargo to build install locked that additional file like the man page or shell can not be installed in this way they will be generated by cargo and should be available in the cargo target folder under highlighting bat listthemes to get a list of all available theme for to select the twodark theme call bat with option or set the battheme environment variable use export in your shell ' s startup file the change permanent alternatively use you want to preview the different theme on a custom file you can following command you need for listthemes fzf previewbat theme coloralways look good on a dark background by default however if your terminal us background some theme like github or onehalflight will work better for can also use a custom theme by following new theme ' section 8bit ha three theme that always use 8bit when truecolor support is ansi look decent on any terminal it us 3bit color black red yellow blue magenta cyan and base16 is designed for terminal theme it 4bit color 3bit color plus bright variant in accordance with base16 styling base16256 is designed for it replaces certain bright color with 8bit color from 16 to 21 do not use this because you have a 256color terminal but are not using these theme are more restricted they have three advantage over truecolor theme enjoy maximum compatibility some terminal utility do not support more than 3bit adapt to terminal theme change even for already printed visually harmonize better with other terminal output can use the style option to control the appearance of bat can use for example to show only git line number but no grid and no file header set the batstyle to make these change permanent or use adding new syntax language you find that a particular syntax is not available within bat you can follow to easily add new syntax to your current bat us the excellent for syntax highlighting syntect can read text good resource for finding sublime syntax package is package once you found create a folder with syntax definition mkdir p bat cd bat put new language definition in this folder or it for git clone now use the following command to parse these file into a binary bat cache finally use bat to check if the new language are if you ever want to go back to the default setting bat cache if you think that a specific syntax should be included in bat by default consider opening a syntax request ticket after reading the policy instruction open syntax adding new work very similar to how we add new syntax create a folder with the new syntax highlighting p bat bat download a theme in ' tmtheme ' format for clone update the binary cache use bat listthemes to check if the new theme are adding or changing file type can add new or change existing file name pattern using the line option the option take an argument of the form is a glob pattern that is matched against the file name absolute file path the syntax part is the full name of a supported bat for an you probably want to use this option a an entry in bat ' s configuration persistence instead of passing it on the command line a a oneoff just use l if you want to manually specify a language for a to use ini syntax highlighting for all file with a conf file extension to open all file called ignore exact match with the git ignore syntax to open all conf file in subfolders of etcapache2 with the apache use this mapping is already built using a different us the pager that is specified in the pager environment variable if this variable is le is used by default if you want to use a different pager you can either modify variable or set the batpager environment variable to override what is specified if pager is more or most bat will silently use le instead to ensure support for you want to pas commandline argument to the pager you can also set them via of using environment variable you can also use bat configuration to configure the pager pager by default if the pager is set to le and no commandline option are will pas the following command line option to the pager and the last option x is only used for older than r option is needed to interpret ansi color correctly the second option f to exit immediately if the output size is smaller than the vertical size of the is convenient for small file because you do not have to press q to quit the pager option x is needed to fix a bug with the feature in old le unfortunately it also break mousewheel support in you want to enable mousewheel scrolling on older version of le you can pas just r the example above this will disable the feature for le 530 or should work out of the expands tab to 4 space by itself not relying on the pager to change this simply add argument with the number of space you want to be defining tab stop for the pager via the pager argument by bat or via the variable for le won ' t be taken into account because the pager will already space instead of tab this behaviour is added to avoid indentation issue caused by calling bat with tabs0 will override it and let tab be consumed by the dark you make use of the dark mode feature in macos you might want to configure bat to use a based on the o theme the following snippet us the default theme when in the dark the github theme when in the light catbat read globaldomain devnull echo default echo configuration can also be customized with a configuration file the location of the file is your operating system to get the default path for your system you can use the environment variable to point bat to location of the configuration default configuration file can be created with the configuration file is a simple list of command line argument use bat help to see a full list of possible option and value in addition you can add comment by prepending a line with the configuration set the theme to show line number git modification and file header but no use italic text on the terminal not supported on all use c syntax for arduino ino using bat on mostly work outofthebox on window but a few feature may need extra will need to install the visual c only includes a very limited pager in the form of more you can download a window le from it or to use it place the binary in a directory path or define an environment the chocolatey installs le 10 natively support color in both conhostexe command prompt and powershell a in newer version of bash on earlier version of window you can which includes the git and msys version of le do not correctly interpret color on window if have any other pager installed you can disable paging entirely by passing by setting batpager to an empty on window doe not natively support cygwin ' s unixstyle path when passed an absolute cygwin path a an argument bat will encounter the following error the system cannot find the path specified o error can be solved by creating a wrapper or adding the following function to your local local for index in seq 0 args case e window command bat garbled an input file contains color code or other ansi escape sequence or control character bat will have syntax highlighting and text wrapping and thus the output can become displaying such file it is recommended to disable both syntax highlighting and wrapping the colornever wrapnever option to terminal handle terminal with and without truecolor support however the color in most theme are not optimized for 8bit color it is therefore strongly you use a terminal with 24bit truecolor support terminator konsole iterm2 use one of the basic 8bit designed for a restricted set of this for more detail and a full list with truecolor sure that your truecolor terminal set the colorterm variable to either truecolor otherwise bat will not be able to determine whether or not 24bit escape supported and fall back to 8bit line number and grid are hardly try a different theme see bat listthemes for a list the onehalfdark theme provide grid and line color that are file natively support utf8 a well a utf16 for every other file encoding you may need to utf8 first because the encoding can typically not be autodetected you can do if you have a php file in latin1 iso88591 encoding you can f iso88591 t utf8 myfilephp you might have to use the option if the syntax can not be recursive clone to retrieve all clone recursive build debug build run unit test and integration install release install path build a bat binary with modified syntax and install path locked you want to build an application that us bat a a library check out the the api that you have to use either regexonig or regexfancy a a you depend on bat a a a look at the security contact david via email if you want to report a vulnerability in project goal and try to achieve the following provide beautiful advanced syntax integrate with git to show file be a dropin replacement for posix offer a userfriendly commandline are a lot of alternative if you are looking for similar program for a c 20182021 is made available under the term of either the mit license or the apache license 20 at your the and file for license\""
      ]
     },
     "execution_count": 14,
     "metadata": {},
     "output_type": "execute_result"
    }
   ],
   "source": [
    "lemmaz = prepare.lemmatize(tokens)\n",
    "lemmaz"
   ]
  },
  {
   "cell_type": "markdown",
   "id": "c31cb5dd",
   "metadata": {},
   "source": [
    "#### Remove Stopwords"
   ]
  },
  {
   "cell_type": "code",
   "execution_count": 15,
   "id": "1242eb37",
   "metadata": {
    "scrolled": true
   },
   "outputs": [
    {
     "data": {
      "text/plain": [
       "\"cat1 clone syntax highlighting git feature use installation customization project goal special thank go biggest app selling enterprise customer line single signon minute instead syntax support syntax highlighting large number programming highlighting git communicates git show modification respect left side integration show nonprintable use option show highlight character automatic default bat pipe output pager eg le output large one would rather bat work like cat time never page output set option either command line configuration intend alias cat bat shell configuration use alias cat ' bat preserve default file pager set still use bat concatenate file bat detects terminal ie pipe another process file bat act dropin replacement cat fall back printing plain file content regardless pager option ' single file bat multiple file bat stdin determine syntax automatically note highlighting work syntax determined first line shebang curl stdin specify language yaml2json travisyml jsonpp bat l highlight nonprintable bat cat notemd quickly create new headermd contentmd footermd n mainrs show line number f g output ' f ' stdin integration use bat previewer bat option force colorized output also use restrict load time long preview ' bat coloralways information see fzf ' find use exec option find preview search result exec bat happen use use option x bat used printer search needle tail combined tail f continuously monitor given file syntax f bat pagingnever l switch paging order work also specified l log autodetected combine bat git show view older version given file proper show bat l git combine bat git diff view line around code change proper git diff nameonly relative xargs bat prefer use separate tool check batdiff looking support git diff operation check line number git modification marker output bat make hard content file prevent call bat pplain option pipe output maincpp detect output redirected print plain file used colorizing pager man setting environment manpagersh c ' col bx bat l man 2 bat batcat debian might also necessary set prefer bundled new command also use manpage developed repository still need note mandocs man prettier shfmt script wrapper format code print highlighting help use bat colorize help text cp help bat also use wrapper around bathelp ' bat plain help 21 help cp help git report issue help syntax ubuntu using debianbased linux available ubuntu since 2004 debian since august 2021 debian 11 ubuntudebian installation new enough simply apt install install bat way please note executable may installed batcat instead bat due another set bat batcat symlink alias prevent issue may come consistent p ubuntu using recent deb debianbased linux package ha yet promoted ubuntudebian installation recent release bat download latest deb package install dpkg adapt version number alpine install bat official source provided appropriate repository add arch install bat official install bat official fedora install funtoo install bat gentoo install bat official void install bat via install bat via install install precompiled bat install build freebsd install bat package using via install bat using nix package install bat install via snap currently recommended snap package package may available officially supported may contain macos linux via install bat homebrew homebrew install macos via install bat install option install bat window installed look using bat need install visual c install bat via install install bat via install prebuilt download prebuilt binary release need install visual c release version bat many different architecture also available look archive musl file want build bat source need rust 151 use cargo build install locked additional file like man page shell installed way generated cargo available cargo target folder highlighting bat listthemes get list available theme select twodark theme call bat option set battheme environment variable use export shell ' startup file change permanent alternatively use want preview different theme custom file following command need listthemes fzf previewbat theme coloralways look good dark background default however terminal us background theme like github onehalflight work better also use custom theme following new theme ' section 8bit ha three theme always use 8bit truecolor support ansi look decent terminal us 3bit color black red yellow blue magenta cyan base16 designed terminal theme 4bit color 3bit color plus bright variant accordance base16 styling base16256 designed replaces certain bright color 8bit color 16 21 use 256color terminal using theme restricted three advantage truecolor theme enjoy maximum compatibility terminal utility support 3bit adapt terminal theme change even already printed visually harmonize better terminal output use style option control appearance bat use example show git line number grid file header set batstyle make change permanent use adding new syntax language find particular syntax available within bat follow easily add new syntax current bat us excellent syntax highlighting syntect read text good resource finding sublime syntax package package found create folder syntax definition mkdir p bat cd bat put new language definition folder git clone use following command parse file binary bat cache finally use bat check new language ever want go back default setting bat cache think specific syntax included bat default consider opening syntax request ticket reading policy instruction open syntax adding new work similar add new syntax create folder new syntax highlighting p bat bat download theme ' tmtheme ' format clone update binary cache use bat listthemes check new theme adding changing file type add new change existing file name pattern using line option option take argument form glob pattern matched file name absolute file path syntax part full name supported bat probably want use option entry bat ' configuration persistence instead passing command line oneoff use l want manually specify language use ini syntax highlighting file conf file extension open file called ignore exact match git ignore syntax open conf file subfolders etcapache2 apache use mapping already built using different us pager specified pager environment variable variable le used default want use different pager either modify variable set batpager environment variable override specified pager bat silently use le instead ensure support want pas commandline argument pager also set via using environment variable also use bat configuration configure pager pager default pager set le commandline option pas following command line option pager last option x used older r option needed interpret ansi color correctly second option f exit immediately output size smaller vertical size convenient small file press q quit pager option x needed fix bug feature old le unfortunately also break mousewheel support want enable mousewheel scrolling older version le pas r example disable feature le 530 work expands tab 4 space relying pager change simply add argument number space want defining tab stop pager via pager argument bat via variable le ' taken account pager already space instead tab behaviour added avoid indentation issue caused calling bat tabs0 override let tab consumed dark make use dark mode feature macos might want configure bat use based theme following snippet us default theme dark github theme light catbat read globaldomain devnull echo default echo configuration also customized configuration file location file operating system get default path system use environment variable point bat location configuration default configuration file created configuration file simple list command line argument use bat help see full list possible option value addition add comment prepending line configuration set theme show line number git modification file header use italic text terminal supported use c syntax arduino ino using bat mostly work outofthebox window feature may need extra need install visual c includes limited pager form download window le use place binary directory path define environment chocolatey installs le 10 natively support color conhostexe command prompt powershell newer version bash earlier version window includes git msys version le correctly interpret color window pager installed disable paging entirely passing setting batpager empty window doe natively support cygwin ' unixstyle path passed absolute cygwin path argument bat encounter following error system cannot find path specified error solved creating wrapper adding following function local local index seq 0 args case e window command bat garbled input file contains color code ansi escape sequence control character bat syntax highlighting text wrapping thus output become displaying file recommended disable syntax highlighting wrapping colornever wrapnever option terminal handle terminal without truecolor support however color theme optimized 8bit color therefore strongly use terminal 24bit truecolor support terminator konsole iterm2 use one basic 8bit designed restricted set detail full list truecolor sure truecolor terminal set colorterm variable either truecolor otherwise bat able determine whether 24bit escape supported fall back 8bit line number grid hardly try different theme see bat listthemes list onehalfdark theme provide grid line color file natively support utf8 well utf16 every file encoding may need utf8 first encoding typically autodetected php file latin1 iso88591 encoding f iso88591 utf8 myfilephp might use option syntax recursive clone retrieve clone recursive build debug build run unit test integration install release install path build bat binary modified syntax install path locked want build application us bat library check api use either regexonig regexfancy depend bat look security contact david via email want report vulnerability project goal try achieve following provide beautiful advanced syntax integrate git show file dropin replacement posix offer userfriendly commandline lot alternative looking similar program c 20182021 made available term either mit license apache license 20 file license\""
      ]
     },
     "execution_count": 15,
     "metadata": {},
     "output_type": "execute_result"
    }
   ],
   "source": [
    "almost = prepare.remove_stopwords(lemmaz)\n",
    "almost"
   ]
  },
  {
   "cell_type": "markdown",
   "id": "fd7f8bf2",
   "metadata": {},
   "source": [
    "#### Remove single letter words\n",
    "- We noticed this was a problem and added this step in"
   ]
  },
  {
   "cell_type": "code",
   "execution_count": 16,
   "id": "122eb262",
   "metadata": {},
   "outputs": [
    {
     "data": {
      "text/plain": [
       "['go',\n",
       " 'eg',\n",
       " 'le',\n",
       " \"'\",\n",
       " 'ie',\n",
       " \"'\",\n",
       " 'l',\n",
       " 'n',\n",
       " 'f',\n",
       " 'g',\n",
       " \"'\",\n",
       " 'f',\n",
       " \"'\",\n",
       " \"'\",\n",
       " \"'\",\n",
       " 'x',\n",
       " 'f',\n",
       " 'f',\n",
       " 'l',\n",
       " 'l',\n",
       " 'l',\n",
       " 'c',\n",
       " \"'\",\n",
       " 'bx',\n",
       " 'l',\n",
       " '2',\n",
       " 'cp',\n",
       " \"'\",\n",
       " '21',\n",
       " 'cp',\n",
       " '11',\n",
       " 'p',\n",
       " 'ha',\n",
       " 'c',\n",
       " 'c',\n",
       " \"'\",\n",
       " 'us',\n",
       " \"'\",\n",
       " 'ha',\n",
       " 'us',\n",
       " '16',\n",
       " '21',\n",
       " 'us',\n",
       " 'p',\n",
       " 'cd',\n",
       " 'go',\n",
       " 'p',\n",
       " \"'\",\n",
       " \"'\",\n",
       " \"'\",\n",
       " 'l',\n",
       " 'us',\n",
       " 'le',\n",
       " 'le',\n",
       " 'le',\n",
       " 'x',\n",
       " 'r',\n",
       " 'f',\n",
       " 'q',\n",
       " 'x',\n",
       " 'le',\n",
       " 'le',\n",
       " 'r',\n",
       " 'le',\n",
       " '4',\n",
       " 'le',\n",
       " \"'\",\n",
       " 'us',\n",
       " 'c',\n",
       " 'c',\n",
       " 'le',\n",
       " 'le',\n",
       " '10',\n",
       " 'le',\n",
       " \"'\",\n",
       " '0',\n",
       " 'e',\n",
       " 'f',\n",
       " 'us',\n",
       " 'c',\n",
       " '20']"
      ]
     },
     "execution_count": 16,
     "metadata": {},
     "output_type": "execute_result"
    }
   ],
   "source": [
    "no_smalls = []\n",
    "for word in almost.split(' '):\n",
    "    if len(word) < 3:\n",
    "        no_smalls.append(word)\n",
    "no_smalls        "
   ]
  },
  {
   "cell_type": "code",
   "execution_count": 17,
   "id": "9f718de8",
   "metadata": {
    "scrolled": true
   },
   "outputs": [
    {
     "data": {
      "text/plain": [
       "'cat1 clone syntax highlighting git feature use installation customization project goal special thank biggest app selling enterprise customer line single signon minute instead syntax support syntax highlighting large number programming highlighting git communicates git show modification respect left side integration show nonprintable use option show highlight character automatic default bat pipe output pager output large one would rather bat work like cat time never page output set option either command line configuration intend alias cat bat shell configuration use alias cat bat preserve default file pager set still use bat concatenate file bat detects terminal pipe another process file bat act dropin replacement cat fall back printing plain file content regardless pager option single file bat multiple file bat stdin determine syntax automatically note highlighting work syntax determined first line shebang curl stdin specify language yaml2json travisyml jsonpp bat highlight nonprintable bat cat notemd quickly create new headermd contentmd footermd mainrs show line number output stdin integration use bat previewer bat option force colorized output also use restrict load time long preview bat coloralways information see fzf find use exec option find preview search result exec bat happen use use option bat used printer search needle tail combined tail continuously monitor given file syntax bat pagingnever switch paging order work also specified log autodetected combine bat git show view older version given file proper show bat git combine bat git diff view line around code change proper git diff nameonly relative xargs bat prefer use separate tool check batdiff looking support git diff operation check line number git modification marker output bat make hard content file prevent call bat pplain option pipe output maincpp detect output redirected print plain file used colorizing pager man setting environment manpagersh col bat man bat batcat debian might also necessary set prefer bundled new command also use manpage developed repository still need note mandocs man prettier shfmt script wrapper format code print highlighting help use bat colorize help text help bat also use wrapper around bathelp bat plain help help help git report issue help syntax ubuntu using debianbased linux available ubuntu since 2004 debian since august 2021 debian ubuntudebian installation new enough simply apt install install bat way please note executable may installed batcat instead bat due another set bat batcat symlink alias prevent issue may come consistent ubuntu using recent deb debianbased linux package yet promoted ubuntudebian installation recent release bat download latest deb package install dpkg adapt version number alpine install bat official source provided appropriate repository add arch install bat official install bat official fedora install funtoo install bat gentoo install bat official void install bat via install bat via install install precompiled bat install build freebsd install bat package using via install bat using nix package install bat install via snap currently recommended snap package package may available officially supported may contain macos linux via install bat homebrew homebrew install macos via install bat install option install bat window installed look using bat need install visual install bat via install install bat via install prebuilt download prebuilt binary release need install visual release version bat many different architecture also available look archive musl file want build bat source need rust 151 use cargo build install locked additional file like man page shell installed way generated cargo available cargo target folder highlighting bat listthemes get list available theme select twodark theme call bat option set battheme environment variable use export shell startup file change permanent alternatively use want preview different theme custom file following command need listthemes fzf previewbat theme coloralways look good dark background default however terminal background theme like github onehalflight work better also use custom theme following new theme section 8bit three theme always use 8bit truecolor support ansi look decent terminal 3bit color black red yellow blue magenta cyan base16 designed terminal theme 4bit color 3bit color plus bright variant accordance base16 styling base16256 designed replaces certain bright color 8bit color use 256color terminal using theme restricted three advantage truecolor theme enjoy maximum compatibility terminal utility support 3bit adapt terminal theme change even already printed visually harmonize better terminal output use style option control appearance bat use example show git line number grid file header set batstyle make change permanent use adding new syntax language find particular syntax available within bat follow easily add new syntax current bat excellent syntax highlighting syntect read text good resource finding sublime syntax package package found create folder syntax definition mkdir bat bat put new language definition folder git clone use following command parse file binary bat cache finally use bat check new language ever want back default setting bat cache think specific syntax included bat default consider opening syntax request ticket reading policy instruction open syntax adding new work similar add new syntax create folder new syntax highlighting bat bat download theme tmtheme format clone update binary cache use bat listthemes check new theme adding changing file type add new change existing file name pattern using line option option take argument form glob pattern matched file name absolute file path syntax part full name supported bat probably want use option entry bat configuration persistence instead passing command line oneoff use want manually specify language use ini syntax highlighting file conf file extension open file called ignore exact match git ignore syntax open conf file subfolders etcapache2 apache use mapping already built using different pager specified pager environment variable variable used default want use different pager either modify variable set batpager environment variable override specified pager bat silently use instead ensure support want pas commandline argument pager also set via using environment variable also use bat configuration configure pager pager default pager set commandline option pas following command line option pager last option used older option needed interpret ansi color correctly second option exit immediately output size smaller vertical size convenient small file press quit pager option needed fix bug feature old unfortunately also break mousewheel support want enable mousewheel scrolling older version pas example disable feature 530 work expands tab space relying pager change simply add argument number space want defining tab stop pager via pager argument bat via variable taken account pager already space instead tab behaviour added avoid indentation issue caused calling bat tabs0 override let tab consumed dark make use dark mode feature macos might want configure bat use based theme following snippet default theme dark github theme light catbat read globaldomain devnull echo default echo configuration also customized configuration file location file operating system get default path system use environment variable point bat location configuration default configuration file created configuration file simple list command line argument use bat help see full list possible option value addition add comment prepending line configuration set theme show line number git modification file header use italic text terminal supported use syntax arduino ino using bat mostly work outofthebox window feature may need extra need install visual includes limited pager form download window use place binary directory path define environment chocolatey installs natively support color conhostexe command prompt powershell newer version bash earlier version window includes git msys version correctly interpret color window pager installed disable paging entirely passing setting batpager empty window doe natively support cygwin unixstyle path passed absolute cygwin path argument bat encounter following error system cannot find path specified error solved creating wrapper adding following function local local index seq args case window command bat garbled input file contains color code ansi escape sequence control character bat syntax highlighting text wrapping thus output become displaying file recommended disable syntax highlighting wrapping colornever wrapnever option terminal handle terminal without truecolor support however color theme optimized 8bit color therefore strongly use terminal 24bit truecolor support terminator konsole iterm2 use one basic 8bit designed restricted set detail full list truecolor sure truecolor terminal set colorterm variable either truecolor otherwise bat able determine whether 24bit escape supported fall back 8bit line number grid hardly try different theme see bat listthemes list onehalfdark theme provide grid line color file natively support utf8 well utf16 every file encoding may need utf8 first encoding typically autodetected php file latin1 iso88591 encoding iso88591 utf8 myfilephp might use option syntax recursive clone retrieve clone recursive build debug build run unit test integration install release install path build bat binary modified syntax install path locked want build application bat library check api use either regexonig regexfancy depend bat look security contact david via email want report vulnerability project goal try achieve following provide beautiful advanced syntax integrate git show file dropin replacement posix offer userfriendly commandline lot alternative looking similar program 20182021 made available term either mit license apache license file license'"
      ]
     },
     "execution_count": 17,
     "metadata": {},
     "output_type": "execute_result"
    }
   ],
   "source": [
    "cleaned = prepare.remove_smalls(almost)\n",
    "cleaned"
   ]
  },
  {
   "cell_type": "markdown",
   "id": "d6315eeb",
   "metadata": {},
   "source": [
    "#### Bringing it altogether on a single string"
   ]
  },
  {
   "cell_type": "code",
   "execution_count": 18,
   "id": "203181c8",
   "metadata": {
    "scrolled": true
   },
   "outputs": [
    {
     "data": {
      "text/plain": [
       "'cat1 clone syntax highlighting git feature use installation customization project goal special thank biggest app selling enterprise customer line single signon minute instead syntax support syntax highlighting large number programming highlighting git communicates git show modification respect left side integration show nonprintable use option show highlight character automatic default bat pipe output pager output large one would rather bat work like cat time never page output set option either command line configuration intend alias cat bat shell configuration use alias cat bat preserve default file pager set still use bat concatenate file bat detects terminal pipe another process file bat act dropin replacement cat fall back printing plain file content regardless pager option single file bat multiple file bat stdin determine syntax automatically note highlighting work syntax determined first line shebang curl stdin specify language yaml2json travisyml jsonpp bat highlight nonprintable bat cat notemd quickly create new headermd contentmd footermd mainrs show line number output stdin integration use bat previewer bat option force colorized output also use restrict load time long preview bat coloralways information see fzf find use exec option find preview search result exec bat happen use use option bat used printer search needle tail combined tail continuously monitor given file syntax bat pagingnever switch paging order work also specified log autodetected combine bat git show view older version given file proper show bat git combine bat git diff view line around code change proper git diff nameonly relative xargs bat prefer use separate tool check batdiff looking support git diff operation check line number git modification marker output bat make hard content file prevent call bat pplain option pipe output maincpp detect output redirected print plain file used colorizing pager man setting environment manpagersh col bat man bat batcat debian might also necessary set prefer bundled new command also use manpage developed repository still need note mandocs man prettier shfmt script wrapper format code print highlighting help use bat colorize help text help bat also use wrapper around bathelp bat plain help help help git report issue help syntax ubuntu using debianbased linux available ubuntu since 2004 debian since august 2021 debian ubuntudebian installation new enough simply apt install install bat way please note executable may installed batcat instead bat due another set bat batcat symlink alias prevent issue may come consistent ubuntu using recent deb debianbased linux package yet promoted ubuntudebian installation recent release bat download latest deb package install dpkg adapt version number alpine install bat official source provided appropriate repository add arch install bat official install bat official fedora install funtoo install bat gentoo install bat official void install bat via install bat via install install precompiled bat install build freebsd install bat package using via install bat using nix package install bat install via snap currently recommended snap package package may available officially supported may contain macos linux via install bat homebrew homebrew install macos via install bat install option install bat window installed look using bat need install visual install bat via install install bat via install prebuilt download prebuilt binary release need install visual release version bat many different architecture also available look archive musl file want build bat source need rust 151 use cargo build install locked additional file like man page shell installed way generated cargo available cargo target folder highlighting bat listthemes get list available theme select twodark theme call bat option set battheme environment variable use export shell startup file change permanent alternatively use want preview different theme custom file following command need listthemes fzf previewbat theme coloralways look good dark background default however terminal background theme like github onehalflight work better also use custom theme following new theme section 8bit three theme always use 8bit truecolor support ansi look decent terminal 3bit color black red yellow blue magenta cyan base16 designed terminal theme 4bit color 3bit color plus bright variant accordance base16 styling base16256 designed replaces certain bright color 8bit color use 256color terminal using theme restricted three advantage truecolor theme enjoy maximum compatibility terminal utility support 3bit adapt terminal theme change even already printed visually harmonize better terminal output use style option control appearance bat use example show git line number grid file header set batstyle make change permanent use adding new syntax language find particular syntax available within bat follow easily add new syntax current bat excellent syntax highlighting syntect read text good resource finding sublime syntax package package found create folder syntax definition mkdir bat bat put new language definition folder git clone use following command parse file binary bat cache finally use bat check new language ever want back default setting bat cache think specific syntax included bat default consider opening syntax request ticket reading policy instruction open syntax adding new work similar add new syntax create folder new syntax highlighting bat bat download theme tmtheme format clone update binary cache use bat listthemes check new theme adding changing file type add new change existing file name pattern using line option option take argument form glob pattern matched file name absolute file path syntax part full name supported bat probably want use option entry bat configuration persistence instead passing command line oneoff use want manually specify language use ini syntax highlighting file conf file extension open file called ignore exact match git ignore syntax open conf file subfolders etcapache2 apache use mapping already built using different pager specified pager environment variable variable used default want use different pager either modify variable set batpager environment variable override specified pager bat silently use instead ensure support want pas commandline argument pager also set via using environment variable also use bat configuration configure pager pager default pager set commandline option pas following command line option pager last option used older option needed interpret ansi color correctly second option exit immediately output size smaller vertical size convenient small file press quit pager option needed fix bug feature old unfortunately also break mousewheel support want enable mousewheel scrolling older version pas example disable feature 530 work expands tab space relying pager change simply add argument number space want defining tab stop pager via pager argument bat via variable taken account pager already space instead tab behaviour added avoid indentation issue caused calling bat tabs0 override let tab consumed dark make use dark mode feature macos might want configure bat use based theme following snippet default theme dark github theme light catbat read globaldomain devnull echo default echo configuration also customized configuration file location file operating system get default path system use environment variable point bat location configuration default configuration file created configuration file simple list command line argument use bat help see full list possible option value addition add comment prepending line configuration set theme show line number git modification file header use italic text terminal supported use syntax arduino ino using bat mostly work outofthebox window feature may need extra need install visual includes limited pager form download window use place binary directory path define environment chocolatey installs natively support color conhostexe command prompt powershell newer version bash earlier version window includes git msys version correctly interpret color window pager installed disable paging entirely passing setting batpager empty window doe natively support cygwin unixstyle path passed absolute cygwin path argument bat encounter following error system cannot find path specified error solved creating wrapper adding following function local local index seq args case window command bat garbled input file contains color code ansi escape sequence control character bat syntax highlighting text wrapping thus output become displaying file recommended disable syntax highlighting wrapping colornever wrapnever option terminal handle terminal without truecolor support however color theme optimized 8bit color therefore strongly use terminal 24bit truecolor support terminator konsole iterm2 use one basic 8bit designed restricted set detail full list truecolor sure truecolor terminal set colorterm variable either truecolor otherwise bat able determine whether 24bit escape supported fall back 8bit line number grid hardly try different theme see bat listthemes list onehalfdark theme provide grid line color file natively support utf8 well utf16 every file encoding may need utf8 first encoding typically autodetected php file latin1 iso88591 encoding iso88591 utf8 myfilephp might use option syntax recursive clone retrieve clone recursive build debug build run unit test integration install release install path build bat binary modified syntax install path locked want build application bat library check api use either regexonig regexfancy depend bat look security contact david via email want report vulnerability project goal try achieve following provide beautiful advanced syntax integrate git show file dropin replacement posix offer userfriendly commandline lot alternative looking similar program 20182021 made available term either mit license apache license file license'"
      ]
     },
     "execution_count": 18,
     "metadata": {},
     "output_type": "execute_result"
    }
   ],
   "source": [
    "full_clean = prepare.full_clean(string_test)\n",
    "full_clean"
   ]
  },
  {
   "cell_type": "markdown",
   "id": "79bd419a",
   "metadata": {},
   "source": [
    "#### Brining it all together on the entire df"
   ]
  },
  {
   "cell_type": "code",
   "execution_count": 19,
   "id": "31bf07f9",
   "metadata": {},
   "outputs": [],
   "source": [
    "df_cleaned = prepare.df_cleaner(df_repos_raw)"
   ]
  },
  {
   "cell_type": "code",
   "execution_count": 20,
   "id": "8fe70a8f",
   "metadata": {},
   "outputs": [
    {
     "data": {
      "text/html": [
       "<div>\n",
       "<style scoped>\n",
       "    .dataframe tbody tr th:only-of-type {\n",
       "        vertical-align: middle;\n",
       "    }\n",
       "\n",
       "    .dataframe tbody tr th {\n",
       "        vertical-align: top;\n",
       "    }\n",
       "\n",
       "    .dataframe thead th {\n",
       "        text-align: right;\n",
       "    }\n",
       "</style>\n",
       "<table border=\"1\" class=\"dataframe\">\n",
       "  <thead>\n",
       "    <tr style=\"text-align: right;\">\n",
       "      <th></th>\n",
       "      <th>repo</th>\n",
       "      <th>language</th>\n",
       "      <th>readme_contents</th>\n",
       "      <th>cleaned</th>\n",
       "    </tr>\n",
       "  </thead>\n",
       "  <tbody>\n",
       "    <tr>\n",
       "      <th>0</th>\n",
       "      <td>typelevel/cats</td>\n",
       "      <td>Scala</td>\n",
       "      <td>## Cats\\n\\n![Cats graphic](https://typelevel.o...</td>\n",
       "      <td>scala version continuous contributor open libr...</td>\n",
       "    </tr>\n",
       "    <tr>\n",
       "      <th>1</th>\n",
       "      <td>nyaadevs/nyaa</td>\n",
       "      <td>Python</td>\n",
       "      <td># NyaaV2 [![Build Status](https://travis-ci.or...</td>\n",
       "      <td>nyaav2 build setting project python feature us...</td>\n",
       "    </tr>\n",
       "    <tr>\n",
       "      <th>2</th>\n",
       "      <td>httpcats/http.cat</td>\n",
       "      <td>JavaScript</td>\n",
       "      <td>#  http.cat [![Build Status](https://travis-ci...</td>\n",
       "      <td>httpcat build cat website hosted code older ve...</td>\n",
       "    </tr>\n",
       "    <tr>\n",
       "      <th>3</th>\n",
       "      <td>AlexiaJM/Deep-learning-with-cats</td>\n",
       "      <td>Python</td>\n",
       "      <td># Deep-learning-with-cats\\n\\nThis repository i...</td>\n",
       "      <td>repository toy project gain experience buildin...</td>\n",
       "    </tr>\n",
       "    <tr>\n",
       "      <th>4</th>\n",
       "      <td>sharkdp/bat</td>\n",
       "      <td>Rust</td>\n",
       "      <td>&lt;p align=\"center\"&gt;\\n  &lt;img src=\"doc/logo-heade...</td>\n",
       "      <td>cat1 clone syntax highlighting git feature use...</td>\n",
       "    </tr>\n",
       "    <tr>\n",
       "      <th>...</th>\n",
       "      <td>...</td>\n",
       "      <td>...</td>\n",
       "      <td>...</td>\n",
       "      <td>...</td>\n",
       "    </tr>\n",
       "    <tr>\n",
       "      <th>995</th>\n",
       "      <td>RomanKornev/dogs-vs-cats-redux</td>\n",
       "      <td>Jupyter Notebook</td>\n",
       "      <td># Dogs vs Cats\\nPredict whether a given image ...</td>\n",
       "      <td>dog whether given image cat dog 997 accuracy b...</td>\n",
       "    </tr>\n",
       "    <tr>\n",
       "      <th>996</th>\n",
       "      <td>snap-research/CAT</td>\n",
       "      <td>Python</td>\n",
       "      <td># CAT\\n[CVPR](https://openaccess.thecvf.com/co...</td>\n",
       "      <td>tutorial method used mobile implementation met...</td>\n",
       "    </tr>\n",
       "    <tr>\n",
       "      <th>997</th>\n",
       "      <td>datitran/Dogs-vs-Cats</td>\n",
       "      <td>Jupyter Notebook</td>\n",
       "      <td># Dogs-vs-Cats\\n\\nA fun project to differentia...</td>\n",
       "      <td>fun project differentiate dog kaggle create da...</td>\n",
       "    </tr>\n",
       "    <tr>\n",
       "      <th>998</th>\n",
       "      <td>bastakka/popcatindicator</td>\n",
       "      <td>Shell</td>\n",
       "      <td># popcatindicator\\nVolume indicator with Cat p...</td>\n",
       "      <td>indicator cat pop theme step one clone step tw...</td>\n",
       "    </tr>\n",
       "    <tr>\n",
       "      <th>999</th>\n",
       "      <td>siahtek/Throwdown_bot</td>\n",
       "      <td>JavaScript</td>\n",
       "      <td># Throwdown_bot\\nCloud Animation Throwdown (CA...</td>\n",
       "      <td>animation throwdown cat bot</td>\n",
       "    </tr>\n",
       "  </tbody>\n",
       "</table>\n",
       "<p>1000 rows × 4 columns</p>\n",
       "</div>"
      ],
      "text/plain": [
       "                                 repo          language  \\\n",
       "0                      typelevel/cats             Scala   \n",
       "1                       nyaadevs/nyaa            Python   \n",
       "2                   httpcats/http.cat        JavaScript   \n",
       "3    AlexiaJM/Deep-learning-with-cats            Python   \n",
       "4                         sharkdp/bat              Rust   \n",
       "..                                ...               ...   \n",
       "995    RomanKornev/dogs-vs-cats-redux  Jupyter Notebook   \n",
       "996                 snap-research/CAT            Python   \n",
       "997             datitran/Dogs-vs-Cats  Jupyter Notebook   \n",
       "998          bastakka/popcatindicator             Shell   \n",
       "999             siahtek/Throwdown_bot        JavaScript   \n",
       "\n",
       "                                       readme_contents  \\\n",
       "0    ## Cats\\n\\n![Cats graphic](https://typelevel.o...   \n",
       "1    # NyaaV2 [![Build Status](https://travis-ci.or...   \n",
       "2    #  http.cat [![Build Status](https://travis-ci...   \n",
       "3    # Deep-learning-with-cats\\n\\nThis repository i...   \n",
       "4    <p align=\"center\">\\n  <img src=\"doc/logo-heade...   \n",
       "..                                                 ...   \n",
       "995  # Dogs vs Cats\\nPredict whether a given image ...   \n",
       "996  # CAT\\n[CVPR](https://openaccess.thecvf.com/co...   \n",
       "997  # Dogs-vs-Cats\\n\\nA fun project to differentia...   \n",
       "998  # popcatindicator\\nVolume indicator with Cat p...   \n",
       "999  # Throwdown_bot\\nCloud Animation Throwdown (CA...   \n",
       "\n",
       "                                               cleaned  \n",
       "0    scala version continuous contributor open libr...  \n",
       "1    nyaav2 build setting project python feature us...  \n",
       "2    httpcat build cat website hosted code older ve...  \n",
       "3    repository toy project gain experience buildin...  \n",
       "4    cat1 clone syntax highlighting git feature use...  \n",
       "..                                                 ...  \n",
       "995  dog whether given image cat dog 997 accuracy b...  \n",
       "996  tutorial method used mobile implementation met...  \n",
       "997  fun project differentiate dog kaggle create da...  \n",
       "998  indicator cat pop theme step one clone step tw...  \n",
       "999                        animation throwdown cat bot  \n",
       "\n",
       "[1000 rows x 4 columns]"
      ]
     },
     "execution_count": 20,
     "metadata": {},
     "output_type": "execute_result"
    }
   ],
   "source": [
    "df_cleaned"
   ]
  },
  {
   "cell_type": "markdown",
   "id": "b629ebb7",
   "metadata": {},
   "source": [
    "---"
   ]
  },
  {
   "cell_type": "markdown",
   "id": "387b002e",
   "metadata": {},
   "source": [
    "# Additional Dataframe Prep and Cleaning"
   ]
  },
  {
   "cell_type": "markdown",
   "id": "a02346af",
   "metadata": {},
   "source": [
    "##### Step 1: Loaded libraries at the top"
   ]
  },
  {
   "cell_type": "markdown",
   "id": "f00983e4",
   "metadata": {},
   "source": [
    "##### Step 2: Run acquire on repo list:"
   ]
  },
  {
   "cell_type": "markdown",
   "id": "649a8633",
   "metadata": {},
   "source": [
    "*Run this in the terminal, then run the following:*"
   ]
  },
  {
   "cell_type": "code",
   "execution_count": 21,
   "id": "bc0c5233",
   "metadata": {},
   "outputs": [],
   "source": [
    "df = acquire.json_to_df()"
   ]
  },
  {
   "cell_type": "markdown",
   "id": "3709a37d",
   "metadata": {},
   "source": [
    "##### Step 3: Prepare!"
   ]
  },
  {
   "cell_type": "code",
   "execution_count": 22,
   "id": "d770887d",
   "metadata": {},
   "outputs": [],
   "source": [
    "df_cleaned = prepare.df_cleaner(df)"
   ]
  },
  {
   "cell_type": "markdown",
   "id": "c14c60a5",
   "metadata": {},
   "source": [
    "## Examine Data"
   ]
  },
  {
   "cell_type": "code",
   "execution_count": 23,
   "id": "57361f65",
   "metadata": {},
   "outputs": [],
   "source": [
    "import matplotlib.pyplot as plt\n",
    "import seaborn as sns"
   ]
  },
  {
   "cell_type": "code",
   "execution_count": 24,
   "id": "7c359c20",
   "metadata": {},
   "outputs": [
    {
     "name": "stdout",
     "output_type": "stream",
     "text": [
      "<class 'pandas.core.frame.DataFrame'>\n",
      "RangeIndex: 1000 entries, 0 to 999\n",
      "Data columns (total 4 columns):\n",
      " #   Column           Non-Null Count  Dtype \n",
      "---  ------           --------------  ----- \n",
      " 0   repo             1000 non-null   object\n",
      " 1   language         940 non-null    object\n",
      " 2   readme_contents  1000 non-null   object\n",
      " 3   cleaned          1000 non-null   object\n",
      "dtypes: object(4)\n",
      "memory usage: 31.4+ KB\n"
     ]
    }
   ],
   "source": [
    "df_cleaned.info()"
   ]
  },
  {
   "cell_type": "markdown",
   "id": "42e6da41",
   "metadata": {},
   "source": [
    "Check on the nulls."
   ]
  },
  {
   "cell_type": "code",
   "execution_count": 25,
   "id": "a0aeb115",
   "metadata": {},
   "outputs": [
    {
     "data": {
      "text/html": [
       "<div>\n",
       "<style scoped>\n",
       "    .dataframe tbody tr th:only-of-type {\n",
       "        vertical-align: middle;\n",
       "    }\n",
       "\n",
       "    .dataframe tbody tr th {\n",
       "        vertical-align: top;\n",
       "    }\n",
       "\n",
       "    .dataframe thead th {\n",
       "        text-align: right;\n",
       "    }\n",
       "</style>\n",
       "<table border=\"1\" class=\"dataframe\">\n",
       "  <thead>\n",
       "    <tr style=\"text-align: right;\">\n",
       "      <th></th>\n",
       "      <th>repo</th>\n",
       "      <th>language</th>\n",
       "      <th>readme_contents</th>\n",
       "      <th>cleaned</th>\n",
       "    </tr>\n",
       "  </thead>\n",
       "  <tbody>\n",
       "    <tr>\n",
       "      <th>0</th>\n",
       "      <td>typelevel/cats</td>\n",
       "      <td>Scala</td>\n",
       "      <td>## Cats\\n\\n![Cats graphic](https://typelevel.o...</td>\n",
       "      <td>scala version continuous contributor open libr...</td>\n",
       "    </tr>\n",
       "    <tr>\n",
       "      <th>1</th>\n",
       "      <td>nyaadevs/nyaa</td>\n",
       "      <td>Python</td>\n",
       "      <td># NyaaV2 [![Build Status](https://travis-ci.or...</td>\n",
       "      <td>nyaav2 build setting project python feature us...</td>\n",
       "    </tr>\n",
       "    <tr>\n",
       "      <th>2</th>\n",
       "      <td>httpcats/http.cat</td>\n",
       "      <td>JavaScript</td>\n",
       "      <td>#  http.cat [![Build Status](https://travis-ci...</td>\n",
       "      <td>httpcat build cat website hosted code older ve...</td>\n",
       "    </tr>\n",
       "    <tr>\n",
       "      <th>3</th>\n",
       "      <td>AlexiaJM/Deep-learning-with-cats</td>\n",
       "      <td>Python</td>\n",
       "      <td># Deep-learning-with-cats\\n\\nThis repository i...</td>\n",
       "      <td>repository toy project gain experience buildin...</td>\n",
       "    </tr>\n",
       "    <tr>\n",
       "      <th>4</th>\n",
       "      <td>sharkdp/bat</td>\n",
       "      <td>Rust</td>\n",
       "      <td>&lt;p align=\"center\"&gt;\\n  &lt;img src=\"doc/logo-heade...</td>\n",
       "      <td>cat1 clone syntax highlighting git feature use...</td>\n",
       "    </tr>\n",
       "    <tr>\n",
       "      <th>...</th>\n",
       "      <td>...</td>\n",
       "      <td>...</td>\n",
       "      <td>...</td>\n",
       "      <td>...</td>\n",
       "    </tr>\n",
       "    <tr>\n",
       "      <th>995</th>\n",
       "      <td>RomanKornev/dogs-vs-cats-redux</td>\n",
       "      <td>Jupyter Notebook</td>\n",
       "      <td># Dogs vs Cats\\nPredict whether a given image ...</td>\n",
       "      <td>dog whether given image cat dog 997 accuracy b...</td>\n",
       "    </tr>\n",
       "    <tr>\n",
       "      <th>996</th>\n",
       "      <td>snap-research/CAT</td>\n",
       "      <td>Python</td>\n",
       "      <td># CAT\\n[CVPR](https://openaccess.thecvf.com/co...</td>\n",
       "      <td>tutorial method used mobile implementation met...</td>\n",
       "    </tr>\n",
       "    <tr>\n",
       "      <th>997</th>\n",
       "      <td>datitran/Dogs-vs-Cats</td>\n",
       "      <td>Jupyter Notebook</td>\n",
       "      <td># Dogs-vs-Cats\\n\\nA fun project to differentia...</td>\n",
       "      <td>fun project differentiate dog kaggle create da...</td>\n",
       "    </tr>\n",
       "    <tr>\n",
       "      <th>998</th>\n",
       "      <td>bastakka/popcatindicator</td>\n",
       "      <td>Shell</td>\n",
       "      <td># popcatindicator\\nVolume indicator with Cat p...</td>\n",
       "      <td>indicator cat pop theme step one clone step tw...</td>\n",
       "    </tr>\n",
       "    <tr>\n",
       "      <th>999</th>\n",
       "      <td>siahtek/Throwdown_bot</td>\n",
       "      <td>JavaScript</td>\n",
       "      <td># Throwdown_bot\\nCloud Animation Throwdown (CA...</td>\n",
       "      <td>animation throwdown cat bot</td>\n",
       "    </tr>\n",
       "  </tbody>\n",
       "</table>\n",
       "<p>940 rows × 4 columns</p>\n",
       "</div>"
      ],
      "text/plain": [
       "                                 repo          language  \\\n",
       "0                      typelevel/cats             Scala   \n",
       "1                       nyaadevs/nyaa            Python   \n",
       "2                   httpcats/http.cat        JavaScript   \n",
       "3    AlexiaJM/Deep-learning-with-cats            Python   \n",
       "4                         sharkdp/bat              Rust   \n",
       "..                                ...               ...   \n",
       "995    RomanKornev/dogs-vs-cats-redux  Jupyter Notebook   \n",
       "996                 snap-research/CAT            Python   \n",
       "997             datitran/Dogs-vs-Cats  Jupyter Notebook   \n",
       "998          bastakka/popcatindicator             Shell   \n",
       "999             siahtek/Throwdown_bot        JavaScript   \n",
       "\n",
       "                                       readme_contents  \\\n",
       "0    ## Cats\\n\\n![Cats graphic](https://typelevel.o...   \n",
       "1    # NyaaV2 [![Build Status](https://travis-ci.or...   \n",
       "2    #  http.cat [![Build Status](https://travis-ci...   \n",
       "3    # Deep-learning-with-cats\\n\\nThis repository i...   \n",
       "4    <p align=\"center\">\\n  <img src=\"doc/logo-heade...   \n",
       "..                                                 ...   \n",
       "995  # Dogs vs Cats\\nPredict whether a given image ...   \n",
       "996  # CAT\\n[CVPR](https://openaccess.thecvf.com/co...   \n",
       "997  # Dogs-vs-Cats\\n\\nA fun project to differentia...   \n",
       "998  # popcatindicator\\nVolume indicator with Cat p...   \n",
       "999  # Throwdown_bot\\nCloud Animation Throwdown (CA...   \n",
       "\n",
       "                                               cleaned  \n",
       "0    scala version continuous contributor open libr...  \n",
       "1    nyaav2 build setting project python feature us...  \n",
       "2    httpcat build cat website hosted code older ve...  \n",
       "3    repository toy project gain experience buildin...  \n",
       "4    cat1 clone syntax highlighting git feature use...  \n",
       "..                                                 ...  \n",
       "995  dog whether given image cat dog 997 accuracy b...  \n",
       "996  tutorial method used mobile implementation met...  \n",
       "997  fun project differentiate dog kaggle create da...  \n",
       "998  indicator cat pop theme step one clone step tw...  \n",
       "999                        animation throwdown cat bot  \n",
       "\n",
       "[940 rows x 4 columns]"
      ]
     },
     "execution_count": 25,
     "metadata": {},
     "output_type": "execute_result"
    }
   ],
   "source": [
    "df_cleaned_no_nulls = df_cleaned[~df_cleaned.language.isnull()]\n",
    "df_cleaned_no_nulls"
   ]
  },
  {
   "cell_type": "code",
   "execution_count": 26,
   "id": "2b616519",
   "metadata": {},
   "outputs": [
    {
     "data": {
      "text/plain": [
       "'# Throwdown_bot\\nCloud Animation Throwdown (CAT) Bot. \\n\\nsource from http://tiny.cc/AT_Beta\\n'"
      ]
     },
     "execution_count": 26,
     "metadata": {},
     "output_type": "execute_result"
    }
   ],
   "source": [
    "sample_unclean = df_cleaned_no_nulls.readme_contents[999]\n",
    "sample_unclean"
   ]
  },
  {
   "cell_type": "code",
   "execution_count": 27,
   "id": "4d00aeb5",
   "metadata": {},
   "outputs": [
    {
     "data": {
      "text/plain": [
       "90"
      ]
     },
     "execution_count": 27,
     "metadata": {},
     "output_type": "execute_result"
    }
   ],
   "source": [
    "len(sample_unclean)"
   ]
  },
  {
   "cell_type": "code",
   "execution_count": 28,
   "id": "a9414bbb",
   "metadata": {},
   "outputs": [
    {
     "data": {
      "text/plain": [
       "'animation throwdown cat bot'"
      ]
     },
     "execution_count": 28,
     "metadata": {},
     "output_type": "execute_result"
    }
   ],
   "source": [
    "sample_clean = df_cleaned_no_nulls.cleaned[999]\n",
    "sample_clean"
   ]
  },
  {
   "cell_type": "code",
   "execution_count": 29,
   "id": "2d20ddfc",
   "metadata": {},
   "outputs": [
    {
     "data": {
      "text/plain": [
       "27"
      ]
     },
     "execution_count": 29,
     "metadata": {},
     "output_type": "execute_result"
    }
   ],
   "source": [
    "len(sample_clean)"
   ]
  },
  {
   "cell_type": "code",
   "execution_count": 30,
   "id": "b5d5c250",
   "metadata": {},
   "outputs": [],
   "source": [
    "df = df_cleaned_no_nulls.copy()"
   ]
  },
  {
   "cell_type": "code",
   "execution_count": 31,
   "id": "b10c3944",
   "metadata": {},
   "outputs": [
    {
     "data": {
      "text/plain": [
       "Scala               164\n",
       "Python              162\n",
       "JavaScript          154\n",
       "Jupyter Notebook     47\n",
       "Java                 41\n",
       "                   ... \n",
       "Roff                  1\n",
       "Reason                1\n",
       "SourcePawn            1\n",
       "Haxe                  1\n",
       "KiCad                 1\n",
       "Name: language, Length: 62, dtype: int64"
      ]
     },
     "execution_count": 31,
     "metadata": {},
     "output_type": "execute_result"
    }
   ],
   "source": [
    "df.language.value_counts()"
   ]
  },
  {
   "cell_type": "code",
   "execution_count": 32,
   "id": "ed69a74d",
   "metadata": {},
   "outputs": [
    {
     "data": {
      "image/png": "[encoded data removed]",
      "text/plain": [
       "<Figure size 1728x576 with 1 Axes>"
      ]
     },
     "metadata": {
      "needs_background": "light"
     },
     "output_type": "display_data"
    }
   ],
   "source": [
    "plt.figure(figsize = (24,8))\n",
    "sns.barplot(x=df.language.value_counts().index, y = df.language.value_counts().values)\n",
    "plt.xticks(rotation=90)\n",
    "plt.show()"
   ]
  },
  {
   "cell_type": "code",
   "execution_count": 33,
   "id": "5c6c4d7f",
   "metadata": {},
   "outputs": [],
   "source": [
    "string_lengths = []\n",
    "for i in df.cleaned:\n",
    "    string_lengths.append(len(i))\n",
    "string_lengths.sort()"
   ]
  },
  {
   "cell_type": "code",
   "execution_count": 34,
   "id": "109b25fd",
   "metadata": {},
   "outputs": [
    {
     "data": {
      "text/html": [
       "<div>\n",
       "<style scoped>\n",
       "    .dataframe tbody tr th:only-of-type {\n",
       "        vertical-align: middle;\n",
       "    }\n",
       "\n",
       "    .dataframe tbody tr th {\n",
       "        vertical-align: top;\n",
       "    }\n",
       "\n",
       "    .dataframe thead th {\n",
       "        text-align: right;\n",
       "    }\n",
       "</style>\n",
       "<table border=\"1\" class=\"dataframe\">\n",
       "  <thead>\n",
       "    <tr style=\"text-align: right;\">\n",
       "      <th></th>\n",
       "      <th>repo</th>\n",
       "      <th>language</th>\n",
       "      <th>readme_contents</th>\n",
       "      <th>cleaned</th>\n",
       "    </tr>\n",
       "  </thead>\n",
       "  <tbody>\n",
       "    <tr>\n",
       "      <th>0</th>\n",
       "      <td>typelevel/cats</td>\n",
       "      <td>Scala</td>\n",
       "      <td>## Cats\\n\\n![Cats graphic](https://typelevel.o...</td>\n",
       "      <td>scala version continuous contributor open libr...</td>\n",
       "    </tr>\n",
       "    <tr>\n",
       "      <th>1</th>\n",
       "      <td>nyaadevs/nyaa</td>\n",
       "      <td>Python</td>\n",
       "      <td># NyaaV2 [![Build Status](https://travis-ci.or...</td>\n",
       "      <td>nyaav2 build setting project python feature us...</td>\n",
       "    </tr>\n",
       "    <tr>\n",
       "      <th>2</th>\n",
       "      <td>httpcats/http.cat</td>\n",
       "      <td>JavaScript</td>\n",
       "      <td>#  http.cat [![Build Status](https://travis-ci...</td>\n",
       "      <td>httpcat build cat website hosted code older ve...</td>\n",
       "    </tr>\n",
       "    <tr>\n",
       "      <th>3</th>\n",
       "      <td>AlexiaJM/Deep-learning-with-cats</td>\n",
       "      <td>Python</td>\n",
       "      <td># Deep-learning-with-cats\\n\\nThis repository i...</td>\n",
       "      <td>repository toy project gain experience buildin...</td>\n",
       "    </tr>\n",
       "    <tr>\n",
       "      <th>4</th>\n",
       "      <td>sharkdp/bat</td>\n",
       "      <td>Rust</td>\n",
       "      <td>&lt;p align=\"center\"&gt;\\n  &lt;img src=\"doc/logo-heade...</td>\n",
       "      <td>cat1 clone syntax highlighting git feature use...</td>\n",
       "    </tr>\n",
       "    <tr>\n",
       "      <th>...</th>\n",
       "      <td>...</td>\n",
       "      <td>...</td>\n",
       "      <td>...</td>\n",
       "      <td>...</td>\n",
       "    </tr>\n",
       "    <tr>\n",
       "      <th>995</th>\n",
       "      <td>RomanKornev/dogs-vs-cats-redux</td>\n",
       "      <td>Jupyter Notebook</td>\n",
       "      <td># Dogs vs Cats\\nPredict whether a given image ...</td>\n",
       "      <td>dog whether given image cat dog 997 accuracy b...</td>\n",
       "    </tr>\n",
       "    <tr>\n",
       "      <th>996</th>\n",
       "      <td>snap-research/CAT</td>\n",
       "      <td>Python</td>\n",
       "      <td># CAT\\n[CVPR](https://openaccess.thecvf.com/co...</td>\n",
       "      <td>tutorial method used mobile implementation met...</td>\n",
       "    </tr>\n",
       "    <tr>\n",
       "      <th>997</th>\n",
       "      <td>datitran/Dogs-vs-Cats</td>\n",
       "      <td>Jupyter Notebook</td>\n",
       "      <td># Dogs-vs-Cats\\n\\nA fun project to differentia...</td>\n",
       "      <td>fun project differentiate dog kaggle create da...</td>\n",
       "    </tr>\n",
       "    <tr>\n",
       "      <th>998</th>\n",
       "      <td>bastakka/popcatindicator</td>\n",
       "      <td>Shell</td>\n",
       "      <td># popcatindicator\\nVolume indicator with Cat p...</td>\n",
       "      <td>indicator cat pop theme step one clone step tw...</td>\n",
       "    </tr>\n",
       "    <tr>\n",
       "      <th>999</th>\n",
       "      <td>siahtek/Throwdown_bot</td>\n",
       "      <td>JavaScript</td>\n",
       "      <td># Throwdown_bot\\nCloud Animation Throwdown (CA...</td>\n",
       "      <td>animation throwdown cat bot</td>\n",
       "    </tr>\n",
       "  </tbody>\n",
       "</table>\n",
       "<p>940 rows × 4 columns</p>\n",
       "</div>"
      ],
      "text/plain": [
       "                                 repo          language  \\\n",
       "0                      typelevel/cats             Scala   \n",
       "1                       nyaadevs/nyaa            Python   \n",
       "2                   httpcats/http.cat        JavaScript   \n",
       "3    AlexiaJM/Deep-learning-with-cats            Python   \n",
       "4                         sharkdp/bat              Rust   \n",
       "..                                ...               ...   \n",
       "995    RomanKornev/dogs-vs-cats-redux  Jupyter Notebook   \n",
       "996                 snap-research/CAT            Python   \n",
       "997             datitran/Dogs-vs-Cats  Jupyter Notebook   \n",
       "998          bastakka/popcatindicator             Shell   \n",
       "999             siahtek/Throwdown_bot        JavaScript   \n",
       "\n",
       "                                       readme_contents  \\\n",
       "0    ## Cats\\n\\n![Cats graphic](https://typelevel.o...   \n",
       "1    # NyaaV2 [![Build Status](https://travis-ci.or...   \n",
       "2    #  http.cat [![Build Status](https://travis-ci...   \n",
       "3    # Deep-learning-with-cats\\n\\nThis repository i...   \n",
       "4    <p align=\"center\">\\n  <img src=\"doc/logo-heade...   \n",
       "..                                                 ...   \n",
       "995  # Dogs vs Cats\\nPredict whether a given image ...   \n",
       "996  # CAT\\n[CVPR](https://openaccess.thecvf.com/co...   \n",
       "997  # Dogs-vs-Cats\\n\\nA fun project to differentia...   \n",
       "998  # popcatindicator\\nVolume indicator with Cat p...   \n",
       "999  # Throwdown_bot\\nCloud Animation Throwdown (CA...   \n",
       "\n",
       "                                               cleaned  \n",
       "0    scala version continuous contributor open libr...  \n",
       "1    nyaav2 build setting project python feature us...  \n",
       "2    httpcat build cat website hosted code older ve...  \n",
       "3    repository toy project gain experience buildin...  \n",
       "4    cat1 clone syntax highlighting git feature use...  \n",
       "..                                                 ...  \n",
       "995  dog whether given image cat dog 997 accuracy b...  \n",
       "996  tutorial method used mobile implementation met...  \n",
       "997  fun project differentiate dog kaggle create da...  \n",
       "998  indicator cat pop theme step one clone step tw...  \n",
       "999                        animation throwdown cat bot  \n",
       "\n",
       "[940 rows x 4 columns]"
      ]
     },
     "execution_count": 34,
     "metadata": {},
     "output_type": "execute_result"
    }
   ],
   "source": [
    "df"
   ]
  },
  {
   "cell_type": "code",
   "execution_count": 35,
   "id": "0785f415",
   "metadata": {},
   "outputs": [],
   "source": [
    "df['cleaned_length'] = df.cleaned.str.split(' ').str.len()"
   ]
  },
  {
   "cell_type": "code",
   "execution_count": 36,
   "id": "e36c5438",
   "metadata": {},
   "outputs": [
    {
     "data": {
      "text/html": [
       "<div>\n",
       "<style scoped>\n",
       "    .dataframe tbody tr th:only-of-type {\n",
       "        vertical-align: middle;\n",
       "    }\n",
       "\n",
       "    .dataframe tbody tr th {\n",
       "        vertical-align: top;\n",
       "    }\n",
       "\n",
       "    .dataframe thead th {\n",
       "        text-align: right;\n",
       "    }\n",
       "</style>\n",
       "<table border=\"1\" class=\"dataframe\">\n",
       "  <thead>\n",
       "    <tr style=\"text-align: right;\">\n",
       "      <th></th>\n",
       "      <th>repo</th>\n",
       "      <th>language</th>\n",
       "      <th>readme_contents</th>\n",
       "      <th>cleaned</th>\n",
       "      <th>cleaned_length</th>\n",
       "    </tr>\n",
       "  </thead>\n",
       "  <tbody>\n",
       "    <tr>\n",
       "      <th>11</th>\n",
       "      <td>Luohuayu/CatServer</td>\n",
       "      <td>Java</td>\n",
       "      <td></td>\n",
       "      <td></td>\n",
       "      <td>1</td>\n",
       "    </tr>\n",
       "    <tr>\n",
       "      <th>40</th>\n",
       "      <td>typelevel/cats-parse</td>\n",
       "      <td>Scala</td>\n",
       "      <td>docs/index.md</td>\n",
       "      <td>docsindexmd</td>\n",
       "      <td>1</td>\n",
       "    </tr>\n",
       "    <tr>\n",
       "      <th>45</th>\n",
       "      <td>udacity/ud989-cat-clicker-ko-starter</td>\n",
       "      <td>HTML</td>\n",
       "      <td>ud989-cat-clicker-ko-starter\\n================...</td>\n",
       "      <td></td>\n",
       "      <td>1</td>\n",
       "    </tr>\n",
       "    <tr>\n",
       "      <th>49</th>\n",
       "      <td>kastnerkyle/kaggle-dogs-vs-cats</td>\n",
       "      <td>Python</td>\n",
       "      <td>kaggle-cifar10\\n==============\\n\\nCode for Kag...</td>\n",
       "      <td>kaggle dog cat</td>\n",
       "      <td>3</td>\n",
       "    </tr>\n",
       "    <tr>\n",
       "      <th>54</th>\n",
       "      <td>maples1993/Cats_vs_Dogs</td>\n",
       "      <td>Python</td>\n",
       "      <td># Cats_vs_Dogs\\n\\n运行train.py\\nLogs_1是我自己运行1万步的...</td>\n",
       "      <td></td>\n",
       "      <td>1</td>\n",
       "    </tr>\n",
       "    <tr>\n",
       "      <th>...</th>\n",
       "      <td>...</td>\n",
       "      <td>...</td>\n",
       "      <td>...</td>\n",
       "      <td>...</td>\n",
       "      <td>...</td>\n",
       "    </tr>\n",
       "    <tr>\n",
       "      <th>963</th>\n",
       "      <td>dcarriger/cat-repo</td>\n",
       "      <td>Python</td>\n",
       "      <td></td>\n",
       "      <td></td>\n",
       "      <td>1</td>\n",
       "    </tr>\n",
       "    <tr>\n",
       "      <th>978</th>\n",
       "      <td>wzyanqi/dogs-vs-cats</td>\n",
       "      <td>Jupyter Notebook</td>\n",
       "      <td># dogs-vs-cats\\n[猫狗大战](https://www.kaggle.com/...</td>\n",
       "      <td>file3csv modelpng 25pdf</td>\n",
       "      <td>3</td>\n",
       "    </tr>\n",
       "    <tr>\n",
       "      <th>980</th>\n",
       "      <td>hawkrai/CATSdesigner</td>\n",
       "      <td>C#</td>\n",
       "      <td># CATSdesigner\\n</td>\n",
       "      <td></td>\n",
       "      <td>1</td>\n",
       "    </tr>\n",
       "    <tr>\n",
       "      <th>984</th>\n",
       "      <td>kdszafranski/omicron_express_review</td>\n",
       "      <td>JavaScript</td>\n",
       "      <td># Node-Express with Cats!\\n</td>\n",
       "      <td>nodeexpress</td>\n",
       "      <td>1</td>\n",
       "    </tr>\n",
       "    <tr>\n",
       "      <th>999</th>\n",
       "      <td>siahtek/Throwdown_bot</td>\n",
       "      <td>JavaScript</td>\n",
       "      <td># Throwdown_bot\\nCloud Animation Throwdown (CA...</td>\n",
       "      <td>animation throwdown cat bot</td>\n",
       "      <td>4</td>\n",
       "    </tr>\n",
       "  </tbody>\n",
       "</table>\n",
       "<p>121 rows × 5 columns</p>\n",
       "</div>"
      ],
      "text/plain": [
       "                                     repo          language  \\\n",
       "11                     Luohuayu/CatServer              Java   \n",
       "40                   typelevel/cats-parse             Scala   \n",
       "45   udacity/ud989-cat-clicker-ko-starter              HTML   \n",
       "49        kastnerkyle/kaggle-dogs-vs-cats            Python   \n",
       "54                maples1993/Cats_vs_Dogs            Python   \n",
       "..                                    ...               ...   \n",
       "963                    dcarriger/cat-repo            Python   \n",
       "978                  wzyanqi/dogs-vs-cats  Jupyter Notebook   \n",
       "980                  hawkrai/CATSdesigner                C#   \n",
       "984   kdszafranski/omicron_express_review        JavaScript   \n",
       "999                 siahtek/Throwdown_bot        JavaScript   \n",
       "\n",
       "                                       readme_contents  \\\n",
       "11                                                       \n",
       "40                                       docs/index.md   \n",
       "45   ud989-cat-clicker-ko-starter\\n================...   \n",
       "49   kaggle-cifar10\\n==============\\n\\nCode for Kag...   \n",
       "54   # Cats_vs_Dogs\\n\\n运行train.py\\nLogs_1是我自己运行1万步的...   \n",
       "..                                                 ...   \n",
       "963                                                      \n",
       "978  # dogs-vs-cats\\n[猫狗大战](https://www.kaggle.com/...   \n",
       "980                                   # CATSdesigner\\n   \n",
       "984                        # Node-Express with Cats!\\n   \n",
       "999  # Throwdown_bot\\nCloud Animation Throwdown (CA...   \n",
       "\n",
       "                         cleaned  cleaned_length  \n",
       "11                                             1  \n",
       "40                   docsindexmd               1  \n",
       "45                                             1  \n",
       "49                kaggle dog cat               3  \n",
       "54                                             1  \n",
       "..                           ...             ...  \n",
       "963                                            1  \n",
       "978      file3csv modelpng 25pdf               3  \n",
       "980                                            1  \n",
       "984                  nodeexpress               1  \n",
       "999  animation throwdown cat bot               4  \n",
       "\n",
       "[121 rows x 5 columns]"
      ]
     },
     "execution_count": 36,
     "metadata": {},
     "output_type": "execute_result"
    }
   ],
   "source": [
    "df[df.cleaned_length < 5]"
   ]
  },
  {
   "cell_type": "code",
   "execution_count": 37,
   "id": "15d34a74",
   "metadata": {},
   "outputs": [
    {
     "data": {
      "text/plain": [
       "count     940.000000\n",
       "mean      151.524468\n",
       "std       431.049101\n",
       "min         1.000000\n",
       "25%        16.000000\n",
       "50%        57.000000\n",
       "75%       157.250000\n",
       "max      9911.000000\n",
       "Name: cleaned_length, dtype: float64"
      ]
     },
     "execution_count": 37,
     "metadata": {},
     "output_type": "execute_result"
    }
   ],
   "source": [
    "df.cleaned_length.describe()"
   ]
  },
  {
   "cell_type": "code",
   "execution_count": 38,
   "id": "4604e292",
   "metadata": {},
   "outputs": [],
   "source": [
    "cleaned_length = df.cleaned_length.values"
   ]
  },
  {
   "cell_type": "code",
   "execution_count": 39,
   "id": "ee6ca6ac",
   "metadata": {},
   "outputs": [
    {
     "ename": "NameError",
     "evalue": "name 'col' is not defined",
     "output_type": "error",
     "traceback": [
      "\u001b[0;31m---------------------------------------------------------------------------\u001b[0m",
      "\u001b[0;31mNameError\u001b[0m                                 Traceback (most recent call last)",
      "\u001b[0;32m/var/folders/nw/8yyyyp8n70vbplhdsylyqs8c0000gn/T/ipykernel_24858/1392326277.py\u001b[0m in \u001b[0;36m<module>\u001b[0;34m\u001b[0m\n\u001b[1;32m     12\u001b[0m \u001b[0;32melse\u001b[0m\u001b[0;34m:\u001b[0m\u001b[0;34m\u001b[0m\u001b[0;34m\u001b[0m\u001b[0m\n\u001b[1;32m     13\u001b[0m     \u001b[0mlow_outlier_cutoff\u001b[0m \u001b[0;34m=\u001b[0m \u001b[0;36m0\u001b[0m\u001b[0;34m\u001b[0m\u001b[0;34m\u001b[0m\u001b[0m\n\u001b[0;32m---> 14\u001b[0;31m \u001b[0mdict_list\u001b[0m\u001b[0;34m[\u001b[0m\u001b[0;34m'Variable'\u001b[0m\u001b[0;34m]\u001b[0m \u001b[0;34m=\u001b[0m \u001b[0mcol\u001b[0m\u001b[0;34m\u001b[0m\u001b[0;34m\u001b[0m\u001b[0m\n\u001b[0m\u001b[1;32m     15\u001b[0m \u001b[0mdict_list\u001b[0m\u001b[0;34m[\u001b[0m\u001b[0;34m'Low Outliers'\u001b[0m\u001b[0;34m]\u001b[0m \u001b[0;34m=\u001b[0m \u001b[0mlow_outlier_cutoff\u001b[0m\u001b[0;34m\u001b[0m\u001b[0;34m\u001b[0m\u001b[0m\n\u001b[1;32m     16\u001b[0m \u001b[0mdict_list\u001b[0m\u001b[0;34m[\u001b[0m\u001b[0;34m'25% Quantile'\u001b[0m\u001b[0;34m]\u001b[0m \u001b[0;34m=\u001b[0m \u001b[0mq1\u001b[0m\u001b[0;34m\u001b[0m\u001b[0;34m\u001b[0m\u001b[0m\n",
      "\u001b[0;31mNameError\u001b[0m: name 'col' is not defined"
     ]
    }
   ],
   "source": [
    "iqr_list = []\n",
    "k=3\n",
    "dict_list={}\n",
    "variable = df['cleaned_length']\n",
    "q1 = variable.quantile(.25)\n",
    "q2 = variable.median()\n",
    "q3 = variable.quantile(.75)\n",
    "irq = k * (q3 - q1)\n",
    "high_outlier_cutoff = q3 + irq\n",
    "if (q1 - irq) > 0:\n",
    "    low_outlier_cutoff = q1 - irq\n",
    "else:\n",
    "    low_outlier_cutoff = 0\n",
    "dict_list['Variable'] = col\n",
    "dict_list['Low Outliers'] = low_outlier_cutoff\n",
    "dict_list['25% Quantile'] = q1\n",
    "dict_list['Median'] = q2\n",
    "dict_list['75% Quantile'] = q3\n",
    "dict_list['High Outliers'] = high_outlier_cutoff\n",
    "iqr_list.append(dict_list)\n",
    "pd.DataFrame(iqr_list).set_index('Variable')"
   ]
  },
  {
   "cell_type": "code",
   "execution_count": 40,
   "id": "c0f1eaea",
   "metadata": {},
   "outputs": [
    {
     "data": {
      "text/html": [
       "<div>\n",
       "<style scoped>\n",
       "    .dataframe tbody tr th:only-of-type {\n",
       "        vertical-align: middle;\n",
       "    }\n",
       "\n",
       "    .dataframe tbody tr th {\n",
       "        vertical-align: top;\n",
       "    }\n",
       "\n",
       "    .dataframe thead th {\n",
       "        text-align: right;\n",
       "    }\n",
       "</style>\n",
       "<table border=\"1\" class=\"dataframe\">\n",
       "  <thead>\n",
       "    <tr style=\"text-align: right;\">\n",
       "      <th></th>\n",
       "      <th>repo</th>\n",
       "      <th>language</th>\n",
       "      <th>readme_contents</th>\n",
       "      <th>cleaned</th>\n",
       "      <th>cleaned_length</th>\n",
       "    </tr>\n",
       "  </thead>\n",
       "  <tbody>\n",
       "    <tr>\n",
       "      <th>11</th>\n",
       "      <td>Luohuayu/CatServer</td>\n",
       "      <td>Java</td>\n",
       "      <td></td>\n",
       "      <td></td>\n",
       "      <td>1</td>\n",
       "    </tr>\n",
       "    <tr>\n",
       "      <th>13</th>\n",
       "      <td>tpolecat/natchez</td>\n",
       "      <td>Scala</td>\n",
       "      <td># Natchez Trace\\n\\n[![Discord](https://img.shi...</td>\n",
       "      <td>natchez chat distributed tracing library proceed</td>\n",
       "      <td>6</td>\n",
       "    </tr>\n",
       "    <tr>\n",
       "      <th>31</th>\n",
       "      <td>chenyuntc/pytorch-best-practice</td>\n",
       "      <td>Python</td>\n",
       "      <td># PyTorch 实践指南 \\n\\n\\n\\n本文是文章[PyTorch实践指南](http...</td>\n",
       "      <td>pytorch pytorch install classifier mainpy trai...</td>\n",
       "      <td>9</td>\n",
       "    </tr>\n",
       "    <tr>\n",
       "      <th>40</th>\n",
       "      <td>typelevel/cats-parse</td>\n",
       "      <td>Scala</td>\n",
       "      <td>docs/index.md</td>\n",
       "      <td>docsindexmd</td>\n",
       "      <td>1</td>\n",
       "    </tr>\n",
       "    <tr>\n",
       "      <th>45</th>\n",
       "      <td>udacity/ud989-cat-clicker-ko-starter</td>\n",
       "      <td>HTML</td>\n",
       "      <td>ud989-cat-clicker-ko-starter\\n================...</td>\n",
       "      <td></td>\n",
       "      <td>1</td>\n",
       "    </tr>\n",
       "    <tr>\n",
       "      <th>...</th>\n",
       "      <td>...</td>\n",
       "      <td>...</td>\n",
       "      <td>...</td>\n",
       "      <td>...</td>\n",
       "      <td>...</td>\n",
       "    </tr>\n",
       "    <tr>\n",
       "      <th>978</th>\n",
       "      <td>wzyanqi/dogs-vs-cats</td>\n",
       "      <td>Jupyter Notebook</td>\n",
       "      <td># dogs-vs-cats\\n[猫狗大战](https://www.kaggle.com/...</td>\n",
       "      <td>file3csv modelpng 25pdf</td>\n",
       "      <td>3</td>\n",
       "    </tr>\n",
       "    <tr>\n",
       "      <th>980</th>\n",
       "      <td>hawkrai/CATSdesigner</td>\n",
       "      <td>C#</td>\n",
       "      <td># CATSdesigner\\n</td>\n",
       "      <td></td>\n",
       "      <td>1</td>\n",
       "    </tr>\n",
       "    <tr>\n",
       "      <th>984</th>\n",
       "      <td>kdszafranski/omicron_express_review</td>\n",
       "      <td>JavaScript</td>\n",
       "      <td># Node-Express with Cats!\\n</td>\n",
       "      <td>nodeexpress</td>\n",
       "      <td>1</td>\n",
       "    </tr>\n",
       "    <tr>\n",
       "      <th>989</th>\n",
       "      <td>wangdabaoqq/VueCnode</td>\n",
       "      <td>Vue</td>\n",
       "      <td># VueCnode\\n[![Build Status](https://www.travi...</td>\n",
       "      <td>promise http npm npm run npm run</td>\n",
       "      <td>7</td>\n",
       "    </tr>\n",
       "    <tr>\n",
       "      <th>999</th>\n",
       "      <td>siahtek/Throwdown_bot</td>\n",
       "      <td>JavaScript</td>\n",
       "      <td># Throwdown_bot\\nCloud Animation Throwdown (CA...</td>\n",
       "      <td>animation throwdown cat bot</td>\n",
       "      <td>4</td>\n",
       "    </tr>\n",
       "  </tbody>\n",
       "</table>\n",
       "<p>187 rows × 5 columns</p>\n",
       "</div>"
      ],
      "text/plain": [
       "                                     repo          language  \\\n",
       "11                     Luohuayu/CatServer              Java   \n",
       "13                       tpolecat/natchez             Scala   \n",
       "31        chenyuntc/pytorch-best-practice            Python   \n",
       "40                   typelevel/cats-parse             Scala   \n",
       "45   udacity/ud989-cat-clicker-ko-starter              HTML   \n",
       "..                                    ...               ...   \n",
       "978                  wzyanqi/dogs-vs-cats  Jupyter Notebook   \n",
       "980                  hawkrai/CATSdesigner                C#   \n",
       "984   kdszafranski/omicron_express_review        JavaScript   \n",
       "989                  wangdabaoqq/VueCnode               Vue   \n",
       "999                 siahtek/Throwdown_bot        JavaScript   \n",
       "\n",
       "                                       readme_contents  \\\n",
       "11                                                       \n",
       "13   # Natchez Trace\\n\\n[![Discord](https://img.shi...   \n",
       "31   # PyTorch 实践指南 \\n\\n\\n\\n本文是文章[PyTorch实践指南](http...   \n",
       "40                                       docs/index.md   \n",
       "45   ud989-cat-clicker-ko-starter\\n================...   \n",
       "..                                                 ...   \n",
       "978  # dogs-vs-cats\\n[猫狗大战](https://www.kaggle.com/...   \n",
       "980                                   # CATSdesigner\\n   \n",
       "984                        # Node-Express with Cats!\\n   \n",
       "989  # VueCnode\\n[![Build Status](https://www.travi...   \n",
       "999  # Throwdown_bot\\nCloud Animation Throwdown (CA...   \n",
       "\n",
       "                                               cleaned  cleaned_length  \n",
       "11                                                                   1  \n",
       "13    natchez chat distributed tracing library proceed               6  \n",
       "31   pytorch pytorch install classifier mainpy trai...               9  \n",
       "40                                         docsindexmd               1  \n",
       "45                                                                   1  \n",
       "..                                                 ...             ...  \n",
       "978                            file3csv modelpng 25pdf               3  \n",
       "980                                                                  1  \n",
       "984                                        nodeexpress               1  \n",
       "989                   promise http npm npm run npm run               7  \n",
       "999                        animation throwdown cat bot               4  \n",
       "\n",
       "[187 rows x 5 columns]"
      ]
     },
     "execution_count": 40,
     "metadata": {},
     "output_type": "execute_result"
    }
   ],
   "source": [
    "df[df.cleaned_length < 10]"
   ]
  },
  {
   "cell_type": "code",
   "execution_count": 41,
   "id": "05db4f17",
   "metadata": {},
   "outputs": [
    {
     "data": {
      "text/html": [
       "<div>\n",
       "<style scoped>\n",
       "    .dataframe tbody tr th:only-of-type {\n",
       "        vertical-align: middle;\n",
       "    }\n",
       "\n",
       "    .dataframe tbody tr th {\n",
       "        vertical-align: top;\n",
       "    }\n",
       "\n",
       "    .dataframe thead th {\n",
       "        text-align: right;\n",
       "    }\n",
       "</style>\n",
       "<table border=\"1\" class=\"dataframe\">\n",
       "  <thead>\n",
       "    <tr style=\"text-align: right;\">\n",
       "      <th></th>\n",
       "      <th>repo</th>\n",
       "      <th>language</th>\n",
       "      <th>readme_contents</th>\n",
       "      <th>cleaned</th>\n",
       "      <th>cleaned_length</th>\n",
       "    </tr>\n",
       "  </thead>\n",
       "  <tbody>\n",
       "    <tr>\n",
       "      <th>50</th>\n",
       "      <td>notwaldorf/cat-dns</td>\n",
       "      <td>JavaScript</td>\n",
       "      <td>cat-dns\\n=======\\n\\nThe Internet needs more ca...</td>\n",
       "      <td>internet need cat dns server authority thing i...</td>\n",
       "      <td>206</td>\n",
       "    </tr>\n",
       "  </tbody>\n",
       "</table>\n",
       "</div>"
      ],
      "text/plain": [
       "                  repo    language  \\\n",
       "50  notwaldorf/cat-dns  JavaScript   \n",
       "\n",
       "                                      readme_contents  \\\n",
       "50  cat-dns\\n=======\\n\\nThe Internet needs more ca...   \n",
       "\n",
       "                                              cleaned  cleaned_length  \n",
       "50  internet need cat dns server authority thing i...             206  "
      ]
     },
     "execution_count": 41,
     "metadata": {},
     "output_type": "execute_result"
    }
   ],
   "source": [
    "df[df.repo == 'notwaldorf/cat-dns']"
   ]
  },
  {
   "cell_type": "code",
   "execution_count": 42,
   "id": "3461431c",
   "metadata": {},
   "outputs": [
    {
     "data": {
      "text/plain": [
       "10.0"
      ]
     },
     "execution_count": 42,
     "metadata": {},
     "output_type": "execute_result"
    }
   ],
   "source": [
    "import numpy as np\n",
    "np.quantile(df.cleaned_length, .20)"
   ]
  },
  {
   "cell_type": "markdown",
   "id": "02b2c993",
   "metadata": {},
   "source": [
    "##### We are going to drop the bottom 20% and then use that."
   ]
  },
  {
   "cell_type": "code",
   "execution_count": 43,
   "id": "6384c46f",
   "metadata": {
    "scrolled": true
   },
   "outputs": [
    {
     "data": {
      "text/html": [
       "<div>\n",
       "<style scoped>\n",
       "    .dataframe tbody tr th:only-of-type {\n",
       "        vertical-align: middle;\n",
       "    }\n",
       "\n",
       "    .dataframe tbody tr th {\n",
       "        vertical-align: top;\n",
       "    }\n",
       "\n",
       "    .dataframe thead th {\n",
       "        text-align: right;\n",
       "    }\n",
       "</style>\n",
       "<table border=\"1\" class=\"dataframe\">\n",
       "  <thead>\n",
       "    <tr style=\"text-align: right;\">\n",
       "      <th></th>\n",
       "      <th>repo</th>\n",
       "      <th>language</th>\n",
       "      <th>readme_contents</th>\n",
       "      <th>cleaned</th>\n",
       "      <th>cleaned_length</th>\n",
       "    </tr>\n",
       "  </thead>\n",
       "  <tbody>\n",
       "    <tr>\n",
       "      <th>0</th>\n",
       "      <td>typelevel/cats</td>\n",
       "      <td>Scala</td>\n",
       "      <td>## Cats\\n\\n![Cats graphic](https://typelevel.o...</td>\n",
       "      <td>scala version continuous contributor open libr...</td>\n",
       "      <td>525</td>\n",
       "    </tr>\n",
       "    <tr>\n",
       "      <th>1</th>\n",
       "      <td>nyaadevs/nyaa</td>\n",
       "      <td>Python</td>\n",
       "      <td># NyaaV2 [![Build Status](https://travis-ci.or...</td>\n",
       "      <td>nyaav2 build setting project python feature us...</td>\n",
       "      <td>493</td>\n",
       "    </tr>\n",
       "    <tr>\n",
       "      <th>2</th>\n",
       "      <td>httpcats/http.cat</td>\n",
       "      <td>JavaScript</td>\n",
       "      <td>#  http.cat [![Build Status](https://travis-ci...</td>\n",
       "      <td>httpcat build cat website hosted code older ve...</td>\n",
       "      <td>85</td>\n",
       "    </tr>\n",
       "    <tr>\n",
       "      <th>3</th>\n",
       "      <td>AlexiaJM/Deep-learning-with-cats</td>\n",
       "      <td>Python</td>\n",
       "      <td># Deep-learning-with-cats\\n\\nThis repository i...</td>\n",
       "      <td>repository toy project gain experience buildin...</td>\n",
       "      <td>206</td>\n",
       "    </tr>\n",
       "    <tr>\n",
       "      <th>4</th>\n",
       "      <td>sharkdp/bat</td>\n",
       "      <td>Rust</td>\n",
       "      <td>&lt;p align=\"center\"&gt;\\n  &lt;img src=\"doc/logo-heade...</td>\n",
       "      <td>cat1 clone syntax highlighting git feature use...</td>\n",
       "      <td>1436</td>\n",
       "    </tr>\n",
       "    <tr>\n",
       "      <th>...</th>\n",
       "      <td>...</td>\n",
       "      <td>...</td>\n",
       "      <td>...</td>\n",
       "      <td>...</td>\n",
       "      <td>...</td>\n",
       "    </tr>\n",
       "    <tr>\n",
       "      <th>993</th>\n",
       "      <td>imfing/keras-flask-deploy-webapp</td>\n",
       "      <td>JavaScript</td>\n",
       "      <td># Deploy Keras Model with Flask as Web App in ...</td>\n",
       "      <td>deploy kera model flask web app pretty customi...</td>\n",
       "      <td>140</td>\n",
       "    </tr>\n",
       "    <tr>\n",
       "      <th>995</th>\n",
       "      <td>RomanKornev/dogs-vs-cats-redux</td>\n",
       "      <td>Jupyter Notebook</td>\n",
       "      <td># Dogs vs Cats\\nPredict whether a given image ...</td>\n",
       "      <td>dog whether given image cat dog 997 accuracy b...</td>\n",
       "      <td>96</td>\n",
       "    </tr>\n",
       "    <tr>\n",
       "      <th>996</th>\n",
       "      <td>snap-research/CAT</td>\n",
       "      <td>Python</td>\n",
       "      <td># CAT\\n[CVPR](https://openaccess.thecvf.com/co...</td>\n",
       "      <td>tutorial method used mobile implementation met...</td>\n",
       "      <td>441</td>\n",
       "    </tr>\n",
       "    <tr>\n",
       "      <th>997</th>\n",
       "      <td>datitran/Dogs-vs-Cats</td>\n",
       "      <td>Jupyter Notebook</td>\n",
       "      <td># Dogs-vs-Cats\\n\\nA fun project to differentia...</td>\n",
       "      <td>fun project differentiate dog kaggle create da...</td>\n",
       "      <td>28</td>\n",
       "    </tr>\n",
       "    <tr>\n",
       "      <th>998</th>\n",
       "      <td>bastakka/popcatindicator</td>\n",
       "      <td>Shell</td>\n",
       "      <td># popcatindicator\\nVolume indicator with Cat p...</td>\n",
       "      <td>indicator cat pop theme step one clone step tw...</td>\n",
       "      <td>87</td>\n",
       "    </tr>\n",
       "  </tbody>\n",
       "</table>\n",
       "<p>753 rows × 5 columns</p>\n",
       "</div>"
      ],
      "text/plain": [
       "                                 repo          language  \\\n",
       "0                      typelevel/cats             Scala   \n",
       "1                       nyaadevs/nyaa            Python   \n",
       "2                   httpcats/http.cat        JavaScript   \n",
       "3    AlexiaJM/Deep-learning-with-cats            Python   \n",
       "4                         sharkdp/bat              Rust   \n",
       "..                                ...               ...   \n",
       "993  imfing/keras-flask-deploy-webapp        JavaScript   \n",
       "995    RomanKornev/dogs-vs-cats-redux  Jupyter Notebook   \n",
       "996                 snap-research/CAT            Python   \n",
       "997             datitran/Dogs-vs-Cats  Jupyter Notebook   \n",
       "998          bastakka/popcatindicator             Shell   \n",
       "\n",
       "                                       readme_contents  \\\n",
       "0    ## Cats\\n\\n![Cats graphic](https://typelevel.o...   \n",
       "1    # NyaaV2 [![Build Status](https://travis-ci.or...   \n",
       "2    #  http.cat [![Build Status](https://travis-ci...   \n",
       "3    # Deep-learning-with-cats\\n\\nThis repository i...   \n",
       "4    <p align=\"center\">\\n  <img src=\"doc/logo-heade...   \n",
       "..                                                 ...   \n",
       "993  # Deploy Keras Model with Flask as Web App in ...   \n",
       "995  # Dogs vs Cats\\nPredict whether a given image ...   \n",
       "996  # CAT\\n[CVPR](https://openaccess.thecvf.com/co...   \n",
       "997  # Dogs-vs-Cats\\n\\nA fun project to differentia...   \n",
       "998  # popcatindicator\\nVolume indicator with Cat p...   \n",
       "\n",
       "                                               cleaned  cleaned_length  \n",
       "0    scala version continuous contributor open libr...             525  \n",
       "1    nyaav2 build setting project python feature us...             493  \n",
       "2    httpcat build cat website hosted code older ve...              85  \n",
       "3    repository toy project gain experience buildin...             206  \n",
       "4    cat1 clone syntax highlighting git feature use...            1436  \n",
       "..                                                 ...             ...  \n",
       "993  deploy kera model flask web app pretty customi...             140  \n",
       "995  dog whether given image cat dog 997 accuracy b...              96  \n",
       "996  tutorial method used mobile implementation met...             441  \n",
       "997  fun project differentiate dog kaggle create da...              28  \n",
       "998  indicator cat pop theme step one clone step tw...              87  \n",
       "\n",
       "[753 rows x 5 columns]"
      ]
     },
     "execution_count": 43,
     "metadata": {},
     "output_type": "execute_result"
    }
   ],
   "source": [
    "df_working = df[df.cleaned_length > 9]\n",
    "df_working"
   ]
  },
  {
   "cell_type": "code",
   "execution_count": 44,
   "id": "60424b66",
   "metadata": {},
   "outputs": [
    {
     "data": {
      "text/plain": [
       "<AxesSubplot:>"
      ]
     },
     "execution_count": 44,
     "metadata": {},
     "output_type": "execute_result"
    },
    {
     "data": {
      "image/png": "[encoded data removed]",
      "text/plain": [
       "<Figure size 432x288 with 1 Axes>"
      ]
     },
     "metadata": {
      "needs_background": "light"
     },
     "output_type": "display_data"
    }
   ],
   "source": [
    "df_working.cleaned_length.hist()"
   ]
  },
  {
   "cell_type": "markdown",
   "id": "b5dbe5d1",
   "metadata": {},
   "source": [
    "# UNIVARIATE EXPLORATION\n",
    "1. Remove Nulls\n",
    "2. Create word count column\n",
    "3. Run univariate stats on language (target) and word column"
   ]
  },
  {
   "cell_type": "code",
   "execution_count": 45,
   "id": "de2dd289",
   "metadata": {},
   "outputs": [
    {
     "data": {
      "text/plain": [
       "Scala               148\n",
       "Python              131\n",
       "JavaScript          123\n",
       "Jupyter Notebook     35\n",
       "HTML                 28\n",
       "C++                  25\n",
       "C                    22\n",
       "C#                   22\n",
       "Go                   21\n",
       "Java                 20\n",
       "Ruby                 20\n",
       "Shell                18\n",
       "TypeScript           17\n",
       "PHP                  16\n",
       "CSS                  12\n",
       "Rust                  8\n",
       "Kotlin                6\n",
       "Swift                 6\n",
       "R                     6\n",
       "Clojure               5\n",
       "Objective-C           5\n",
       "Haskell               4\n",
       "Lua                   4\n",
       "Dart                  4\n",
       "Vue                   3\n",
       "Perl                  3\n",
       "PowerShell            3\n",
       "Assembly              2\n",
       "MATLAB                2\n",
       "CoffeeScript          2\n",
       "TeX                   2\n",
       "Emacs Lisp            2\n",
       "SystemVerilog         1\n",
       "Dockerfile            1\n",
       "Mathematica           1\n",
       "Solidity              1\n",
       "Makefile              1\n",
       "Matlab                1\n",
       "EJS                   1\n",
       "Pascal                1\n",
       "Vala                  1\n",
       "Agda                  1\n",
       "CLIPS                 1\n",
       "VimL                  1\n",
       "Stata                 1\n",
       "Roff                  1\n",
       "GDScript              1\n",
       "SCSS                  1\n",
       "Sage                  1\n",
       "Svelte                1\n",
       "Batchfile             1\n",
       "Vim script            1\n",
       "OCaml                 1\n",
       "Reason                1\n",
       "SourcePawn            1\n",
       "Arduino               1\n",
       "TSQL                  1\n",
       "Common Lisp           1\n",
       "ASP                   1\n",
       "KiCad                 1\n",
       "Name: language, dtype: int64"
      ]
     },
     "execution_count": 45,
     "metadata": {},
     "output_type": "execute_result"
    }
   ],
   "source": [
    "df_working.language.value_counts()"
   ]
  },
  {
   "cell_type": "code",
   "execution_count": 46,
   "id": "c396c514",
   "metadata": {},
   "outputs": [
    {
     "data": {
      "text/plain": [
       "69"
      ]
     },
     "execution_count": 46,
     "metadata": {},
     "output_type": "execute_result"
    }
   ],
   "source": [
    "df_working.language.value_counts()[df_working.language.value_counts()<6].sum()"
   ]
  },
  {
   "cell_type": "markdown",
   "id": "3389f230",
   "metadata": {},
   "source": [
    "----"
   ]
  },
  {
   "cell_type": "markdown",
   "id": "619e4cdb",
   "metadata": {},
   "source": [
    "# WRANGLE & UNIVARIATE (NO SPLIT)"
   ]
  },
  {
   "cell_type": "code",
   "execution_count": 47,
   "id": "64727dc9",
   "metadata": {},
   "outputs": [],
   "source": [
    "from wrangle import cat_wrangle"
   ]
  },
  {
   "cell_type": "code",
   "execution_count": 48,
   "id": "c5aae507",
   "metadata": {},
   "outputs": [
    {
     "name": "stdout",
     "output_type": "stream",
     "text": [
      "Removed 60 rows with empty Readmes.\n",
      "Removed 187 rows with Readmes < 10 words long.\n",
      "Train = 421 rows (56.0%) | Validate = 181 rows (24.0%) | Test = 151 rows (20.0%)\n"
     ]
    }
   ],
   "source": [
    "X_train, y_train, X_validate, y_validate, X_test, y_test, df, df_languages = cat_wrangle()"
   ]
  },
  {
   "cell_type": "code",
   "execution_count": 49,
   "id": "9b762487",
   "metadata": {},
   "outputs": [
    {
     "data": {
      "text/html": [
       "<div>\n",
       "<style scoped>\n",
       "    .dataframe tbody tr th:only-of-type {\n",
       "        vertical-align: middle;\n",
       "    }\n",
       "\n",
       "    .dataframe tbody tr th {\n",
       "        vertical-align: top;\n",
       "    }\n",
       "\n",
       "    .dataframe thead th {\n",
       "        text-align: right;\n",
       "    }\n",
       "</style>\n",
       "<table border=\"1\" class=\"dataframe\">\n",
       "  <thead>\n",
       "    <tr style=\"text-align: right;\">\n",
       "      <th></th>\n",
       "      <th>repo</th>\n",
       "      <th>cleaned</th>\n",
       "      <th>cleaned_length</th>\n",
       "      <th>language_group</th>\n",
       "    </tr>\n",
       "  </thead>\n",
       "  <tbody>\n",
       "    <tr>\n",
       "      <th>0</th>\n",
       "      <td>typelevel/cats</td>\n",
       "      <td>scala version continuous contributor open libr...</td>\n",
       "      <td>525</td>\n",
       "      <td>Scala</td>\n",
       "    </tr>\n",
       "    <tr>\n",
       "      <th>1</th>\n",
       "      <td>nyaadevs/nyaa</td>\n",
       "      <td>nyaav2 build setting project python feature us...</td>\n",
       "      <td>493</td>\n",
       "      <td>Python</td>\n",
       "    </tr>\n",
       "    <tr>\n",
       "      <th>2</th>\n",
       "      <td>httpcats/http.cat</td>\n",
       "      <td>httpcat build cat website hosted code older ve...</td>\n",
       "      <td>85</td>\n",
       "      <td>JavaScript</td>\n",
       "    </tr>\n",
       "    <tr>\n",
       "      <th>3</th>\n",
       "      <td>AlexiaJM/Deep-learning-with-cats</td>\n",
       "      <td>repository toy project gain experience buildin...</td>\n",
       "      <td>206</td>\n",
       "      <td>Python</td>\n",
       "    </tr>\n",
       "    <tr>\n",
       "      <th>4</th>\n",
       "      <td>sharkdp/bat</td>\n",
       "      <td>cat1 clone syntax highlighting git feature use...</td>\n",
       "      <td>1436</td>\n",
       "      <td>Other</td>\n",
       "    </tr>\n",
       "    <tr>\n",
       "      <th>...</th>\n",
       "      <td>...</td>\n",
       "      <td>...</td>\n",
       "      <td>...</td>\n",
       "      <td>...</td>\n",
       "    </tr>\n",
       "    <tr>\n",
       "      <th>993</th>\n",
       "      <td>imfing/keras-flask-deploy-webapp</td>\n",
       "      <td>deploy kera model flask web app pretty customi...</td>\n",
       "      <td>140</td>\n",
       "      <td>JavaScript</td>\n",
       "    </tr>\n",
       "    <tr>\n",
       "      <th>995</th>\n",
       "      <td>RomanKornev/dogs-vs-cats-redux</td>\n",
       "      <td>dog whether given image cat dog 997 accuracy b...</td>\n",
       "      <td>96</td>\n",
       "      <td>Other</td>\n",
       "    </tr>\n",
       "    <tr>\n",
       "      <th>996</th>\n",
       "      <td>snap-research/CAT</td>\n",
       "      <td>tutorial method used mobile implementation met...</td>\n",
       "      <td>441</td>\n",
       "      <td>Python</td>\n",
       "    </tr>\n",
       "    <tr>\n",
       "      <th>997</th>\n",
       "      <td>datitran/Dogs-vs-Cats</td>\n",
       "      <td>fun project differentiate dog kaggle create da...</td>\n",
       "      <td>28</td>\n",
       "      <td>Other</td>\n",
       "    </tr>\n",
       "    <tr>\n",
       "      <th>998</th>\n",
       "      <td>bastakka/popcatindicator</td>\n",
       "      <td>indicator cat pop theme step one clone step tw...</td>\n",
       "      <td>87</td>\n",
       "      <td>Other</td>\n",
       "    </tr>\n",
       "  </tbody>\n",
       "</table>\n",
       "<p>753 rows × 4 columns</p>\n",
       "</div>"
      ],
      "text/plain": [
       "                                 repo  \\\n",
       "0                      typelevel/cats   \n",
       "1                       nyaadevs/nyaa   \n",
       "2                   httpcats/http.cat   \n",
       "3    AlexiaJM/Deep-learning-with-cats   \n",
       "4                         sharkdp/bat   \n",
       "..                                ...   \n",
       "993  imfing/keras-flask-deploy-webapp   \n",
       "995    RomanKornev/dogs-vs-cats-redux   \n",
       "996                 snap-research/CAT   \n",
       "997             datitran/Dogs-vs-Cats   \n",
       "998          bastakka/popcatindicator   \n",
       "\n",
       "                                               cleaned  cleaned_length  \\\n",
       "0    scala version continuous contributor open libr...             525   \n",
       "1    nyaav2 build setting project python feature us...             493   \n",
       "2    httpcat build cat website hosted code older ve...              85   \n",
       "3    repository toy project gain experience buildin...             206   \n",
       "4    cat1 clone syntax highlighting git feature use...            1436   \n",
       "..                                                 ...             ...   \n",
       "993  deploy kera model flask web app pretty customi...             140   \n",
       "995  dog whether given image cat dog 997 accuracy b...              96   \n",
       "996  tutorial method used mobile implementation met...             441   \n",
       "997  fun project differentiate dog kaggle create da...              28   \n",
       "998  indicator cat pop theme step one clone step tw...              87   \n",
       "\n",
       "    language_group  \n",
       "0            Scala  \n",
       "1           Python  \n",
       "2       JavaScript  \n",
       "3           Python  \n",
       "4            Other  \n",
       "..             ...  \n",
       "993     JavaScript  \n",
       "995          Other  \n",
       "996         Python  \n",
       "997          Other  \n",
       "998          Other  \n",
       "\n",
       "[753 rows x 4 columns]"
      ]
     },
     "execution_count": 49,
     "metadata": {},
     "output_type": "execute_result"
    }
   ],
   "source": [
    "df"
   ]
  },
  {
   "cell_type": "code",
   "execution_count": 50,
   "id": "7d08e23b",
   "metadata": {},
   "outputs": [
    {
     "data": {
      "text/html": [
       "<div>\n",
       "<style scoped>\n",
       "    .dataframe tbody tr th:only-of-type {\n",
       "        vertical-align: middle;\n",
       "    }\n",
       "\n",
       "    .dataframe tbody tr th {\n",
       "        vertical-align: top;\n",
       "    }\n",
       "\n",
       "    .dataframe thead th {\n",
       "        text-align: right;\n",
       "    }\n",
       "</style>\n",
       "<table border=\"1\" class=\"dataframe\">\n",
       "  <thead>\n",
       "    <tr style=\"text-align: right;\">\n",
       "      <th></th>\n",
       "      <th>readme_contents</th>\n",
       "      <th>language</th>\n",
       "    </tr>\n",
       "  </thead>\n",
       "  <tbody>\n",
       "    <tr>\n",
       "      <th>0</th>\n",
       "      <td>## Cats\\n\\n![Cats graphic](https://typelevel.o...</td>\n",
       "      <td>Scala</td>\n",
       "    </tr>\n",
       "    <tr>\n",
       "      <th>1</th>\n",
       "      <td># NyaaV2 [![Build Status](https://travis-ci.or...</td>\n",
       "      <td>Python</td>\n",
       "    </tr>\n",
       "    <tr>\n",
       "      <th>2</th>\n",
       "      <td>#  http.cat [![Build Status](https://travis-ci...</td>\n",
       "      <td>JavaScript</td>\n",
       "    </tr>\n",
       "    <tr>\n",
       "      <th>3</th>\n",
       "      <td># Deep-learning-with-cats\\n\\nThis repository i...</td>\n",
       "      <td>Python</td>\n",
       "    </tr>\n",
       "    <tr>\n",
       "      <th>4</th>\n",
       "      <td>&lt;p align=\"center\"&gt;\\n  &lt;img src=\"doc/logo-heade...</td>\n",
       "      <td>Rust</td>\n",
       "    </tr>\n",
       "    <tr>\n",
       "      <th>...</th>\n",
       "      <td>...</td>\n",
       "      <td>...</td>\n",
       "    </tr>\n",
       "    <tr>\n",
       "      <th>993</th>\n",
       "      <td># Deploy Keras Model with Flask as Web App in ...</td>\n",
       "      <td>JavaScript</td>\n",
       "    </tr>\n",
       "    <tr>\n",
       "      <th>995</th>\n",
       "      <td># Dogs vs Cats\\nPredict whether a given image ...</td>\n",
       "      <td>Jupyter Notebook</td>\n",
       "    </tr>\n",
       "    <tr>\n",
       "      <th>996</th>\n",
       "      <td># CAT\\n[CVPR](https://openaccess.thecvf.com/co...</td>\n",
       "      <td>Python</td>\n",
       "    </tr>\n",
       "    <tr>\n",
       "      <th>997</th>\n",
       "      <td># Dogs-vs-Cats\\n\\nA fun project to differentia...</td>\n",
       "      <td>Jupyter Notebook</td>\n",
       "    </tr>\n",
       "    <tr>\n",
       "      <th>998</th>\n",
       "      <td># popcatindicator\\nVolume indicator with Cat p...</td>\n",
       "      <td>Shell</td>\n",
       "    </tr>\n",
       "  </tbody>\n",
       "</table>\n",
       "<p>753 rows × 2 columns</p>\n",
       "</div>"
      ],
      "text/plain": [
       "                                       readme_contents          language\n",
       "0    ## Cats\\n\\n![Cats graphic](https://typelevel.o...             Scala\n",
       "1    # NyaaV2 [![Build Status](https://travis-ci.or...            Python\n",
       "2    #  http.cat [![Build Status](https://travis-ci...        JavaScript\n",
       "3    # Deep-learning-with-cats\\n\\nThis repository i...            Python\n",
       "4    <p align=\"center\">\\n  <img src=\"doc/logo-heade...              Rust\n",
       "..                                                 ...               ...\n",
       "993  # Deploy Keras Model with Flask as Web App in ...        JavaScript\n",
       "995  # Dogs vs Cats\\nPredict whether a given image ...  Jupyter Notebook\n",
       "996  # CAT\\n[CVPR](https://openaccess.thecvf.com/co...            Python\n",
       "997  # Dogs-vs-Cats\\n\\nA fun project to differentia...  Jupyter Notebook\n",
       "998  # popcatindicator\\nVolume indicator with Cat p...             Shell\n",
       "\n",
       "[753 rows x 2 columns]"
      ]
     },
     "execution_count": 50,
     "metadata": {},
     "output_type": "execute_result"
    }
   ],
   "source": [
    "df_languages"
   ]
  },
  {
   "cell_type": "code",
   "execution_count": 52,
   "id": "27bb1353",
   "metadata": {},
   "outputs": [
    {
     "data": {
      "text/plain": [
       "Other         351\n",
       "Scala         148\n",
       "Python        131\n",
       "JavaScript    123\n",
       "Name: language_group, dtype: int64"
      ]
     },
     "execution_count": 52,
     "metadata": {},
     "output_type": "execute_result"
    }
   ],
   "source": [
    "df.language_group.value_counts()"
   ]
  },
  {
   "cell_type": "code",
   "execution_count": 54,
   "id": "0d31ba40",
   "metadata": {},
   "outputs": [
    {
     "data": {
      "text/plain": [
       "<AxesSubplot:xlabel='language_group', ylabel='Count'>"
      ]
     },
     "execution_count": 54,
     "metadata": {},
     "output_type": "execute_result"
    },
    {
     "data": {
      "image/png": "[encoded data removed]",
      "text/plain": [
       "<Figure size 432x288 with 1 Axes>"
      ]
     },
     "metadata": {
      "needs_background": "light"
     },
     "output_type": "display_data"
    }
   ],
   "source": [
    "sns.histplot(df.language_group)"
   ]
  },
  {
   "cell_type": "code",
   "execution_count": 55,
   "id": "5a097471",
   "metadata": {},
   "outputs": [
    {
     "data": {
      "text/html": [
       "<div>\n",
       "<style scoped>\n",
       "    .dataframe tbody tr th:only-of-type {\n",
       "        vertical-align: middle;\n",
       "    }\n",
       "\n",
       "    .dataframe tbody tr th {\n",
       "        vertical-align: top;\n",
       "    }\n",
       "\n",
       "    .dataframe thead th {\n",
       "        text-align: right;\n",
       "    }\n",
       "</style>\n",
       "<table border=\"1\" class=\"dataframe\">\n",
       "  <thead>\n",
       "    <tr style=\"text-align: right;\">\n",
       "      <th></th>\n",
       "      <th>repo</th>\n",
       "      <th>cleaned</th>\n",
       "      <th>cleaned_length</th>\n",
       "      <th>language_group</th>\n",
       "    </tr>\n",
       "  </thead>\n",
       "  <tbody>\n",
       "  </tbody>\n",
       "</table>\n",
       "</div>"
      ],
      "text/plain": [
       "Empty DataFrame\n",
       "Columns: [repo, cleaned, cleaned_length, language_group]\n",
       "Index: []"
      ]
     },
     "execution_count": 55,
     "metadata": {},
     "output_type": "execute_result"
    }
   ],
   "source": [
    "df[df.cleaned_length > 10000]"
   ]
  },
  {
   "cell_type": "code",
   "execution_count": 56,
   "id": "c3f21a70",
   "metadata": {},
   "outputs": [],
   "source": [
    "df_max = df[df.repo == 'fourkbomb/u-boot']"
   ]
  },
  {
   "cell_type": "code",
   "execution_count": 57,
   "id": "ee6b8810",
   "metadata": {},
   "outputs": [],
   "source": [
    "pd.set_option('display.max_colwidth', None)"
   ]
  },
  {
   "cell_type": "code",
   "execution_count": 58,
   "id": "a9292a29",
   "metadata": {},
   "outputs": [
    {
     "data": {
      "text/plain": [
       "549    copyright 2000 wolfgang denk denx software engineering directory contains source code uboot boot loader board based powerpc arm mips several installed boot rom used test hardware download run development uboot closely related linux part source code originate linux source tree file common special provision made booting linux attention paid make software extendable instance monitor command call interface easy new command also instead permanently adding rarely instance hardware test utility monitor run general board configuration option exists tested extent fact many used production case problem see changelog file find specific port addition various maintainer throughout uboot source identifying people responsible various board august 2010 longer changelog file uboot source tree however created git log get case question problem contribution send message uboot mailing list also archive previous mailing list please search archive asking see get source uboot source code maintained git repository browse online snapshot link page allow download tarballs version might interested official release ftp download tested image available come start 8xxrom create ppcboot project clean make easier add custom make possible add powerpc extend function provide extended interface linux boot srecord network ata disk scsi create armboot project add cpu family starting create uboot project current project page see official name project uboot shall used written text source file etc readme file uboot name etc shall based string uboot name preprocessor constant etc shall either based string uboot uboot release october 2008 name changed numerical release number without deeper time stamp based numbering regular release identified consisting calendar year month release field present indicate release candidate bug stable maintenance v200911 &#9; release november v2009111 release version november 2009 stable v201009rc1 release candidate september 2010 specific arc &#9; &#9; &#9; file generic arc arm &#9; &#9; &#9; file generic arm m68k &#9; &#9; &#9; file generic m68k generic microblaze mips &#9; &#9; &#9; file generic mips nds32 &#9; &#9; file generic nds32 nios2 &#9; &#9; file generic altera nios2 generic openrisc generic powerpc riscv &#9; &#9; file generic riscv generic hwindependent &#9; &#9; &#9; file generic x86 &#9; &#9; &#9; file generic x86 independent api external dependent command architecture independent default configuration disk drive partition expect used device makefile building internal uboot code standalone application code cramfs ext2 jffs2 routine generic license self build script unit test build srecord uboot image usually done using preprocessor defines behind avoid dead code whenever two class configuration configuration selectable user name beginning configuration depend hardware etc meddled know name beginning configuration done hand involved link editing configuration file manually added kbuild infrastructure used linux use make menuconfig command configure processor architecture board supported board readytouse available type make tqm823l module looking default configuration file sure used missing check list longer supported built natively run linux host using allows feature development board undertaken native platform sandbox also used uboot initialisation intended startup flow board apply uboot proper follow spl stand secondary program loader explained detail later present spl mostly separate code path function role function board conform least arm board conform typically start start file three function called purpose function described purpose essential init permit execution reach globaldata stack armv7 may one soon must set sdram use must bare minimum allow execution continue almost never return normally purpose set machine ready running sdram serial globaldata stack available cannot use globalstatic stack variable draminit called set dram already done spl override entire boardinitf function called set sdram anything needed make uart need clear done specific scenario certain architecture early made available via moving prior entering instead strongly recommended architect code addition depend availability boardinitf indicated section readme maintain compatibility consistency across entire code must return normally function call cleared spl defined point stack globaldata relocated nonspl uboot relocated run top purpose main execution common globaldata sdram available staticglobal variable execution eventually continues uboot relocated top memory running stack optionally sdram defined point called typically selecting supplying function containing load uboot falcon mode depends combination board cpu type information kept configuration tqm823l module configuration setting option named exactly corresponding configuration option intention make easier config tool arm platform bus cache coherent interconnect cci arm bus full cache coherency two cluster coherency device soc cache coherent soc cache coherent interconnect following option need cpu type &#9; define exactly one board type &#9; define exactly one 85xx cpu core 64bit powerpc implementation category power isa necessary among possible core time base clock divider ratio compared clock pq3 device newer ratio varies soc string utilize trying match pcie node given workaround erratum a004510 must one two soc revision low bit a004510 workaround rest svr either relevant whether erratum present p2040 implied build target freescale app note 4493 information workaround ifc erratum a003399 workaround t1040t1042 erratum a008044 nand boot valid rev soc value write ccsr offset a004510 value denotes start offset ddr memory exclusively dsp value denotes start offset directly connected dsp value denotes start offset memory dsp value denotes start offset dsp ccsr source clock clocking mode present fsl mode single differential clock used sysclock ddrclock config defined cpc configured sram uboot entry required soc support deep sleep feature deep sleep core start execute uboot wake generic cpu endianess cpu implementation arch ddr driver use type ddr controller mpc83xx mpc85xx mpc86xx well arm ddr memorymapped register emulator support ddr ddr feature training ddr1 ddr2 ddr3 ddr4 ddr3 controller armbased config use ddr1 enabled socs ddr1 ddr2 controller depending config use ddr2 enabled socs ddr2 ddr3 controller depending config use ddr3 enabled socs ddr3 ddr3l config use ddr3l enabled socs config use ddr4 enabled socs ifc controller register space big ifc controller register space little divider platform clockclock input ifc divider platform clockclock input elbc enables addition rcw power reset configuration built refer add pbipreboot instruction command uboot build command used configure soc start refer ddr controller register space big ddr controller register space little address view ddr controller power socs could different arm controller interleaving 256byte mode handled dickens freescale arm controller used main controller used main soc dpddr used sec controller register space big sec controller register space little mips cpu relative initial needed temporary stack compilation needed socs booting flash uboot image need swapped flash programmer arm high exception vector arm core bit register timer clock source timer clock source frequency real clock run tegra soc executing uboot nonsecure mode action skipped cpu arm architectural timer linux kernel store clock information binary compatibility older expect clock passed data mhz environment defined clock data mhz passing defined definition automatically included mips transferring memsize parameter linux byte others make kernel version expecting firmware setting using flattened device tree based open new libfdtbased add fdt bootm command automatically update timebase path console quicc engine require ofqe set ucc code addition modification want flat device tree handing code addition modification want flat device tree handing cause called detect ide device present new config option activated ata node dts booting linux ide driver doe probe device needed buggy hardware uc101 pull resistor connected signal arm setting mandatory board type must used specify machine appears arm machine board multiple machine type single configuration file machine type discoverable use vxworks boot construct valid bootline using variable bootdev bootfile ipaddr gatewayip hostname load vxworks image pointed bootargs environment defined default discussed cache enable cache cache configuration enable support arm pl310 physical base address register serial want support amba primecell pl010 want support amba primecell pl011 amba primecell pl011 uarts set variable clock speed amba primecell pl010 pl011 uarts list base address see variable enable flow control serial user option console one baudrates listed see autoboot needed command string automatically character read console boot delay value environment nfsboot respectively convenience switching booting serial download echo defined character received download using load command back might needed like may well others setting define loadsecho environment kgdb serial baudrate one baudrates listed see removal command needed boot remove case command available uboot want execute command startup call reduce image size significantly boot regular expression variable defined uboot linked slre super light regular expression add regex support command env grep device variable defined uboot use device configure device instead relying defines board file option available board available global data need get device tree somewhere done using one three option variable defined uboot embed device image device tree file directory called dts binary picked boardinitf made available global data structure variable defined uboot build device called ubootdtb locate runtime generally work ubootbin ubootdtb fact uboot doe creating file useful common case use individual file need something variable defined uboot use device board runtime instead embedding one image board defining option see variable defined enables soc must support code watchdog siu watchdog feature enabled supported specific soc board specific code needed use using watchdog circuitry external define variable provide code realtime selected type selected define exactly one use philip pcf8563 use mc13783 mc13892 use mc146818 use maxim inc ds1307 use maxim inc ds1337 use maxim inc ds1338 use maxim inc ds1339 use dallas ds164x use intersil isl1208 use maxim inc max6900 turn osc output enable trickle charger rv3029 rtc i2c i2c also configured see i2c support gpio use nxp pca953x series i2c option specifies list pair tell pca953x driver number supported particular gpio device i2c i2c also configured see i2c support selected uboot intercept checksum write list memory see iotrace command detail testing device driver since confirm driver behaves way currently supported sandbox arm support architecture add include bottom output iotrace stats command trace buffer exhausted checksum continue start buffer trace trace timestamp selected time image printed like bootm iminfo option enabled select partition label disklabels apple macos partition iso partition table used cdrom gpt partition table common efi bootloader note 2tb partition limit must configure support one nonmtd partition type ide reset defined configuration file used defined ide reset performed calling defined board specific atapi enable atapi lba48 enable support disk larger look lba48 support 32bit variable disk enabled make ide subsystem use 64bit sector scsi adjusted define number luns scsi environment variable scsidevs set number device found last network support intel 8254x8257x gigabit code direct access spi bus intel doe anything useful unless set least generic access spi bus intel 8257x sspi intel enables routine first time digital 2114x board chip initialisation national dp83815 national dp838201 gigabit network support at91rm9200 use reduced mii defined driver driver doen show link status calxeda xgmac smsc lan91c96 enable bit smsc lan91c111 hold physical device data bus use function instead hardware wont work faraday ftgmac100 gigabit soc use link update gigabit ftgmac100 connected gigabit system 10100 phy might behavior phy usually return timeout data polling gigabit status register behavior affect 10100 link speed renesas onchip ethernet number port eth phy option set driver enables cache tpm tpm infineon i2c bus tpm device one system supported burst count byte upper tpm device requires dmtpm st33zp24 i2c tpmst33zp24 st33zp24 spi tpmst33zp24 atmel twi tpm device requires i2c generic parallel port tpm device one system supported address generic tpm device contemporary x86 system usually map enable tpm support library interface tpm support tpm enable authorized function tpm configtpm usb moment uhci host controller pip405 mip405 enable enable usb define enable usb keyboard usb floppy enables setting field ehci controller physical cpu address module usb wish use usb firmware rebuilt serial console issue setenv stdin usbtty setenv stdout usbtty usb cable unix command dmesg found new device environment variable set gserial cdcacm enable device usb host linux gserial device device class abstract control model serial select usbtty gserial able linux host modprobe usbserial using cdcacm simply setting usbtty cdcacm suffice defined build udc tty type device available udc enable high speed support usbtty feature enabled need defined driver dynamically enumeration succeded high speed want stdin stdout stderr set usbif assigned vendorid may wish vendor specific value either directly pretend linux device target string name company string name acme usb assigned vendor forum must genuine vendor avoid polluting usb unique product ulpi layer ulpi utmi low pin count interface phys supported generic ulpi layer generic layer access ulpi platform viewport need genric layer viewport enabled currently chipideaarc enable ulpi layer support define board configuration ulpi phy need different reference clock mhz define appropriate value mmc mmc controller intel pxa supported define configmmc mmc boot prompt mapping physical memory similar flash command line mmc driver also work fat enabled renesas onchip mmcif base address mmcif clock frequency usb device firmware update dfu class enables usb portion dfu usb enables support exposing nand device via enables support exposing ram via dfu spec refer nonvolatile memory usage usage beyond scope spec ram would help mostly transfer buffer writing data storage device make size byte size buffer also dfubufsiz environment updating file rather raw storage use static buffer copy file buffer given whole file maximum filesize byte mib timeout timeout device send host must wait timeout subsequent dfugetstatus request timeout device sends host dfumanifest state host wait timeout usb request journaling flash filesystem default partition nand default partition keyboard kconfig help available keyboard enable custom keyboard simply call must boardspecific file option used novena new board use driver video freescale diu video board diu define macro enable also define diu driver look videomode defined enable diu console see documentation file lcd enable lcd support output also select one supported defining one tx09d70vm1cca nl6448ac3318 active color single nl6448bc2008 color single nl6448bc3354 104 color single 320x240 active color single 16x9 sure lq64d341 display color single display color single cbl508402 nffw black lcd pagealigned typically 4kb lcd aligned value arm sometimes useful use since cheaper change data cache setting persection example display mounted even mounted landscape rotated need rotate content display relative user read message defined lcdconsole given rotation vlrot provided board specific value vlrot coded following matching linuxkernel rotation respectively degree 180 degree 270 degree defined console 0degree drawing bitmap i2c edid command read i2c attached lcd splash screen support option set environment checked variable splashimage found usual logo copyright system information suppressed bmp image splashimage loaded instead redirected nulldev silent boot splash screen quickly option set uboot prevent splashimage set problematic option useful target due improperly aligned bmp image cause think problem example toolchain prevents need set option set splash image freely screen environment variable splashpos specifies positive number given used pixel lefttop negative number given used number pixel rightbottom centering splashpos image center splashpos image splashpos vertically centered dspwidth bmpwidth gzip compressed bmp image support option set additionally standard gzipped bmp image displayed via support bmp run length encoded bmp image rle8 support option set 8bit rle compressed bmp displayed via splashscreen support compression default support gzip compressed option set support bzip2 included uncompressed image bzip2 algorithm requires lot ram malloc area defined least miiphy clock frequency mii phy like intel lxt971a need extra delay mii register access phy set option usec minimum 300usec phy like intel lxt971a need extra delay issued mii status register default value address use default ethernet interface case variable server default value address contact using tftboot variable server mac address env passing bootargs like linux netconsole gateway default value address router packet network variable subnet default value subnet mask prefix used determine belongs local subnet need variable bootp recovery many target network try using bootp may want avoid send bootp request precisely would happen instance power failure system try thus flooding bootp server cause random delay sending bootp request delay inserted bootp request &#9; delay bootp request &#9; delay bootp request &#9; delay packet uniquely identified using 32bit copy client request response use determine destination incoming response server check use handing usually using therefore take hundred millisecond network congestion may also influence time response make back client long uboot retransmit request allow earlier response still accepted uboot bootp client keep small cache control size default keep four increasing allow uboot accept bootp client network unusually high dhcp advanced fine tune dhcp functionality tftp server variable bootp dhcp server configured retry count call starting used fail linklocal address configuration dhcp dhcp server dynamic update dns server hostname dhcp defined hostname environment variable passed dhcp 32bit value microsecond delay dhcp offer sending dhcp fix problem certain dhcp server 100 time dhcp request processor running 180mhz delay least 15000 usec window server server would reply 100 time recommend 50000 usec safe alternative one retries successful note dhcp timeout retry process take longer linklocal address linklocal client local address require explicit especially useful dhcp server cannot exist environment device must mac address environment device tree mac address fetched sequentially variable config work assumption ethernet node devicetree either status marked cdp device used cdp trigger two character string prefixed mac printf format string contains ascii name port normally set ethd first ethernet eth1 second 32bit integer indicates device normal host doe ascii string containing version ascii string containing name 32bit integer sent 16bit integer containing power consumption byte containing status configuration allow display using led instance led running uboot code stop blinking reply bootp request received blinking slow linux kernel status led driver defining enables status led connected gpio case gpioled driver used led backend define include gpioled driver uboot gpio connected led may inverted polarity gpio high value corresponds led state low value corresponds led case may list gpio led inverted i2c enable new i2c subsystem allow command uboot command line long communicate realtime clock chip i2c device description command i2c driver new activate first bus defining speed slave activate second bus defining speed slave activate third bus defining speed slave activate fourth bus defining speed slave activate i2c driver define setting offset i2c speed slave addr board support second fsl i2c bus register speed slave address second activate driver driver add i2c bus fix speed 100000 slave addr activate driver activate hardware channel activate hardware channel activate driver enable bus enable bus enable bus enable bus define speed bus define slave bus define speed bus define slave bus define speed bus define slave bus define speed bus define slave bus defines set default value speed activate driver driver add i2c setting register channel speed channel setting register channel speed channel setting register channel speed channel setting register channel speed channel number i2c activate driver driver add i2c setting register channel speed channel setting register channel speed channel setting register channel speed channel setting register channel speed channel setting register channel speed channel number i2c activate driver speed channel slave addr channel speed channel slave addr channel speed channel slave addr channel speed channel slave addr channel speed channel slave addr channel activate driver driver add i2c bus exynos5250 i2c bus exynos4 s3c24x0 socs fix speed 100000 slave addr activate driver activate hardware channel speed channel slave addr channel activate hardware channel speed channel slave addr channel activate hardware channel speed channel slave addr channel activate hardware channel speed channel slave addr channel activate dual channel speed channel slave addr channel speed channel slave addr channel speed channel slave addr channel speed channel slave addr channel number i2c bus want use i2c muxes defined many muxes maximal consecutively one i2c bus use i2c muxes omit list bus want use used defined board 0x70 0x70 0x70 0x70 0x70 0x72 0x72 adapter without adapter pca9547 address 0x70 port adapter pca9547 address 0x70 port adapter pca9547 address 0x70 port adapter pca9547 address 0x70 port adapter pca9547 address 0x70 port adapter without adapter pca9544 address 0x72 port adapter pca9544 address 0x72 port i2c muxes board omit legacy i2c use software i2c interface following macro need defined example command necessary enable configure define i2cinit code necessary make i2c data line data line open collector define i2cactive code necessary make i2c data line data line open collector define i2ctristate return true i2c data line define i2cread pbsda true set i2c data line high false clear define i2csdabit pbsda true set i2c clock line high false clear define i2csclbit pbscl delay invoked four time per clock cycle rate data transfer data rate i2cdelay often defined i2cdelay arch support generic gpio framework may alternatively define two gpios scl sda previous i2cxxx macro gpiobased default assigned define gpio value given directly generic gpio board reset i2c bus might think current transfer progress board possible i2c sclk line directly either using pin gpio second bus option defined routine run early boot option allows use multiple i2c bus controller &#9; point time one bus switch different bus use i2c dev bus numbering option specifies list i2c device i2c probe command issued &#9; set specify list busdevice pair otherwise array device skip address 0x50 0x68 board one i2c skip address 0x50 0x68 bus address 0x54 bus defined indicates i2c bus number ddr defined uboot assumes spd i2c bus defined indicates i2c bus number defined uboot assumes rtc i2c bus force i2cread function softi2c driver perform i2c repeated writing address pointer reading define omitted default stopstart sequence used use either method require one spi spi driver far tested eeprom also instance work crystal sacsng software bitbang spi driver rather hardware support general requires three general port output one input function board configuration must define configuration item port pin use etc example see waiting spi transfer fpga support fpga support specific chip support fpga spartan3 virtex2 cyclone2 acex1k number fpga device printing hash mark fpga check fpga configuration interface configuration function require board device specific function defined function provides delay controlc interrupt fpga configuration error fpga example abort virtex initb line low crc time wait initb line probb deasserted virtex configuration sequence default time time wait busy deassert fpga configuration default wait fpga configuration default configuration defined string added information vendor parameter considers value serial board serial number ethernet address parameter set board vendor manufacturer variable casual modification user set variable write delete attempt rejected defined write protection vendor parameter disabled anybody change define ethaddr env address installed changed exactly user unaffected accomplished flexible variable configuring type allow variable flag define protected variable enable reservation ram ram uboot define configpram hold number want reserve pram default value defining pram number want note board info structure show full amount ram pram new environment variable mem defined hold amount ram form passed linux instance like bootargs way tell linux use result memory region affected board configuration ram size must make sure memory test far board configuration known ivml24 ip860 rpxlite access physical memory region basic support provided operation memory accessible uboot access 4gb memory using physical address extension configphysmem access basic support support clearing error variable defines number retries operation like arp rarp tftp giving operation defined value waiting arp reply millisecond used nfs encounter error cannot umount nfs longer timeout command defines secondary prompt string command interpreter need complete command usually current local global environment variable space local variable define typing namevalue access later write name execute content type name command environment variable work run command variable need use run must use sign access store command special character please use double quotation whole text variable backslashes semicolon command line editing support changing command prompt runtime static string supported string obtained environment variable default contain number null variable value pair part default environment compiled boot example place something like config method based knowledge format environment stored code official although unlikely change soon guarantee better know overly abuse default environment make sure check way environment like source command command environment loaded board available uboot environment available loaded later uboot code instead controlled value tftp fixed udp defined environment variable used supply tftp udp source port tftpsrcp defined normal pseudorandom generator environment variable tftpdstp used tftp udp destination port value tftpdstp normal port purpose tftpsrcp allow tftp server start tftp transfer using address udp port effect window firewall remainder tftp transfer proceed better solution properly configure sometimes option defines board specific value standalone program get loaded architecture dependent frame buffer configfbaddr want use frame buffer typically using graphic controller separate uboot place frame buffer given address instead dynamically reserving system ram calling lcdsetmem memory frame buffer depending panel see boardinitf automatic software update via tftp option enable control autoupdate detailed description refer mtd support mtdparts command ubi parameter defines maximum difference counter value lowest erase counter value ubi device threshold exceeded ubi start leveling mean moving data eraseblock low eraseblocks high erase default value slc nand flash flash flash eraseblock lifecycle 100000 case mlc nand flash typically 10000 threshold lessened 128 256 although doe power option specifies maximum bad physical eraseblocks mtd device per 1024 eraseblocks flash doe admit bad eraseblocks value datasheets often specify minimum maximum valid block flash endurance maximum expected bad eraseblocks per 1024 calculated 1024 minnvb give nands maxnvb basically eraseblocks put differently value ubi try physical eraseblocks bad eraseblocks chip mtd partition ubi attache say nand flash chip admits maximum split two mtd partition ubi reserve eraseblocks attaching mechanism allows attaching ubi nearly constant time instead scanning whole mtd device locate checkpoint called fastmap onflash fastmap contains information needed device using fastmap make sense large device scanning take long ubi automatically fastmap old image set ubi want please image still usable ubi support typical flash device whole one peb ubi reserve pebs hold two parameter enable fastmap automatically ubi fastmap spl building spl linking spl size memory allocated spl defined linker check actual spl start bssend doe exceed defined size spl image text data rodata list section defined linker check actual size exceed relocate unspecified equal relocation address within spl size memory allocated spl defined linker check actual memory spl bssstart bssend doe exceed defined start stack spl defined spl panic image doe useful code load spl cannot guarantee absolutely read example lpc32xx mlc nand driver completely unreadable nand block thus skipped start stack spl use unspecified equal address malloc pool used option set full malloc used spl set splinit simple used size malloc pool used booting directly also arm enable optional function print running init code built small mmc load uboot mmc raw load kernel uimage mmc raw mode falcon number sector load kernel mmc used raw falcon mmc load uboot mmc read load uboot reading read load kernel uimage filesystem falcon read load kernel argument reading filesystem falcon nand spl ppc mpc83xx target wait rest spl load hardware start execution first page rather full spl nandbasec spl normal nand driver minimal chip list identify nand standard software ecc nand boot using simple nand driver cmdctrl lightweight ubi fastmap scanner boot raw ubootbin image use need save common ddr init serial presence detect size behavior nand spl read nand read uboot memory load uboot image point loaded image jump need first read oob used example davinci running image already present ram spl offset spl padded spl payload default defined must either meaning append without padding target image containing spl payload archspecific makefile fragment instead one image need information fit image add quite bit spl normally disabled spl use reenable affect output command booting fit tpl building tpl offset tpl padded tpl payload default defined must either meaning append without padding interrupt support common ppc arch call cpu specific set appropriate value reset decrementer automatically set call handling board watchdog work automatically initialization initialization uboot call number board specific allow preparation board specific prerequisite pin driver initialized enable callback configuration macro defined currently specific please check boardinitf call call call call defined automatically compiled defined support 64bit memory defined want long help message short defined want override command listed help command uboot print console user size input size console number argument accepted monitor buffer size boot argument passed application usually linux kernel legal baudrate setting end address area used memory address used alternate memory need set address zero implemented armv8 defined size substracted total ram reported memory used secure memory used track location ram base zero ram divided variable need recalcuated get defined board config specified memory area get subtracted ram get touched uboot gdramsize linux kernel get corrected memory size touch work archppc archpowerpc port archpowerpc bootwrapper support memory size sdram controller get fixed linux option used workaround erratum last 256 byte sdram please make sure value multiple linux page size normally end address linux memory located page size aligned address could cause temporary baudrate change serial start address sdram must start address flash start address boot monitor code set config file text base used linking booting memory reserved monitor code used environment within uboot image dram reserved malloc malloc pool use relocation defined simple malloc become available relocation address global data stack moved feature allocates region increasing region calloc supported available free supported doe memory freed fact forgotten relocates simple small malloc calloc use full malloc spl noncached memory area area memory located right malloc area mmu useful driver require lot explicit cache maintenance driver also impossible properly maintain example region need multiple cacheline size allocated region align requires contiguous array region region flush region may result overwriting data hardware another region cacheline example network driver descriptor typically smaller cpu cacheline byte memory supported 32bit arm compressed uimages limited size mbytes define board config adjust setting size memory mapped startup code linux kernel data must processed linux kernel bdinfo boot argument fdt blob must put limit unless variable defined nonzero data linux kernel must bootmlow override value value bootmsize used initrdhigh functionality defined feature enabled bootm ramdisk allocating saving kernel cmdline space bootmlow allocating saving kernel copy bdinfo bootmlow bootmlow number flash memory number sector flash flash erase operation flash write operation flash set sector lock bit operation flash clear lock bit operation defined hardware flash sector protection uboot software tftp transfer directly flash option download two step download ram ram twostep approach usually reliable check download worked flash situation system ram limited allow temporary copy image option may flash driver extra element flash structure storing flash option also enables building cfiflash driver option enables building cfimtd driver directory driver export cfi mtd buffered writes mirrorbit flash nonstandard address option defined common cfi flash warning upon recognized flash bank useful configured bank defined must integer print dot recommended value display column defined content flash destination source write operation error printed content note option useless nearly flash programming error usually detected please option really know number ethernet receive buffer controller recommended set even higher eepro100 405 emac since full shortly enabling high ethernet number entry hash table store environment setting supposed generous work setting used tune behaviour validation value given environment variable env set variable restricted boolean configcmdnet also variable also restricted address mac format list type attribute string boolean mac access attribute list string define variable default embedded list string define validation done entry found variable override setting simply add entry variable name configregex defined variablename evaluated expression allows multiple variable define without explicitly listing defined allow switch env set override following definition deal placement environment data variable area general support envcrc target environment external easily extract embed final uboot careful first access environment happens quite uboot initialization try get setting baudrate must mapped nvram area note even nvram still use copy ram could work nvram directly want setting always unmodified except somebody save current careful special case local device command example local device get stored remote flash srio pcie erase write flash srio pcie address ram nandspl code copy redundant environment used copied note environment readonly relocated ram ram copy environment also using eeprom use read environment environment protected crc32 checksum relocated ram result bad crc compiledin default environment silently first environment variable need setting console bad crc device yet could monitor relocated complain default environment used new crc computed soon saveenv command store valid inverted ethernet link state fault option active also need address phy check ethernet link desire use ns16550putc function serial driver located option useful already greatly restricted image including nandspl information board uboot running uboot start board function checkboard previous option display stdio running output lcd size uboot image defined system check actual size doe level hardware related configuration line size poweron reset physical address ccsr address ccsr 32bit build value address ccsr ccsr relocated address desired case macro set address &#9; otherwise set value example typically relocated 36bit build macro defined via high low 1ull 3336 value 32bit build 0xf 36bit build &#9; macro assembly code must contain typecasts size suffix 32bits macro assembly code must contain typecasts size suffix macro defined value ensures ccsr floppy disk default drive number default value spacing fdc chipset value offset register address part data bus connected fdc chipset default value undefined take defined called beginning fdchwinit must provided code used make ide controller designed connected designed ahb software ata command data transfer device ideahb controller accessing kind ideahb address internal change unless know exactly 114 mpc8xx system address memory area used data stack please note must memory working without cannot use normal ram become available programming controller running certain following memory mpc8xx immr internal memory initial data structure defined chosen located end available written initial stack area growing mpc824x system use initial memory address chosen basically arbitrary otherwise unused address space top ram start pci clock reset control register timer controller definition br01 or01 controller definition br23 or23 scan get device setup work presumably someone already done need second time &#9; useful platform coreboot support indirect pci srio srio port srio port support master function boot srio address srio port memory address srio port memory srio port memory tell nand controller nand chip bit nand driver use driver use ebc0cfg register ndfc default value ddr timing information i2c eeprom pluggable memory module address spd spd eeprom i2c bus specify note value must something driver deal ddr timing information spd common ddr chip onboard without spd ddr raw extracted datasheet hardcoded file board specific interactive ddr debugging see sync refresh multiple builtin memory test freescale ddr 83xx system specified ddr configured using cs0 cs1 instead cs2 rmii mode global option one fec standard mii mode another rmii verify option crc32 syntax crc32 addresscount indicate memory crc32 correct crc32 loopw memory command take effect memory command activated globally mdc mwc memory command mdcb command print byte 10111213 500 mwcl 100 12345678 command write 12345678 address 100 take effect memory command nds32 mips riscv variable defined level like setting omitted andor uboot doe variable must defined uboot loaded ram boot loader debugger allows call skipped normal cp15 init enabling cache still compilation end spl opposed tpl code need stagespecific behavior compilation end tpl opposed spl code need stagespecific behavior 85xx system variable specified kept section bootpg placed text uboot particular command address therefore necessary address virtual address need physical address however sandbox requires maintains little ram buffer contains memory option cause memory mapped mapsysmem defined x86 reset vector code included uboot running disable subpage write nand qefman firmware freescale quiccengine frame manager fman support firmware encoded firmware binary firmware often need loaded uboot booting used identify storage device flash spi etc address storage device fman microcode located address depends also address storage device microcode located address depends also maximum possible size firmware firmware binary field specifies actual size firmware possible read part firmware unless storage allocated hold entire firmware qefman firmware located flash mapped addressable memory via lbc address qefman firmware located nand offset within nand qefman firmware located primary byte offset qefman firmware located remote virtual address mapped slave tlbslave lawslave srio pcie inbound windowmaster lawthe ucode address memory layerscape management complex firmware freescale layerscape management complex support loading firmware often need loaded uboot booting used identify storage device flash spi etc driver layerscape layerscape debug server freescale layerscape debug server support support loading server firmware triggering firmware often need loaded uboot alignment reserved memory order achieve reproducible build timestamps used uboot set fixed done using environment set build host shell uboot environment variable set number second since epoch uboot tested several native build many different cross environment course cannot possibly existing version cross development tool obsolete version case tool chain problem use eldk see extensively used build test using native environment assumed gnu cross compiling tool available path must set environment variable crosscompile change makefile source file example using eldk 4xx cpu please export wish generate window version utility tool directory use mingw set host tool toolchain execute make tool make binary created executed computer running intended simple build installing must configure uboot one specific board type done name one existing see boardscfg supported board special configuration name may exist check additional information available board vendor instance tqm823l system available without lcd support select additional choosing configuration make configure plain tqm823l lcd make configure tqm823l uboot console type make get working ready download installation ubootbin raw binary uboot image elf binary ubootsrec motorola srecord default build performed locally object source directory one two method used behavior build uboot external add make command line otmpbuild otmpbuild otmpbuild set environment variable kbuildoutput point desired command line setting override kbuildoutput specific cppflags aflags cflags passed compiler according environment variable kcppflags kaflags example treat compiler warning aware makefiles assume using gnu make instance netbsd might need use gmake instead system board listed port uboot hardware platform follow create new directory hold board specific code add file need board directory need makefile create new configuration file porting uboot new cpu also create directory hold cpu specific code add file run make defconfig new type make get working ubootsrec installed target debug solve problem might course last step much harder uboot modification port new hardware modified uboot source instance added new support new device new cpu etc expected feedback developer feedback normally form patch context diff certain latest git repository version uboot submit patch please verify break existing code least make sure supported board compile without compiler warning run buildman script build uboot supported system warned take please see buildman readme run buildman also uboot porting guide command start application address run command environment boot application image boot image via network using bootptftp boot zimage boot image via network using tftp env variable ipaddr eventually upload file via network using tftp boot image via network using rarptftp boot ide devicebootd boot default run load srecord file serial load binary file serial line kermit memory memory modify memory modify constant memory write memory memory checksum i2c spi utility print set address print environment set environment save environment variable persistent enable disable flash write erase flash print flash memory nand memory operation see print board info print header information application print console device ide infinite loop address infinite write loop address simple ram enable disable instruction enable disable data perform reset echo args print monitor print online alias command detailed type help support user configuration using environment variable made persistent saving flash variable set using setenv printed saved flash using saveenv using value used delete variable long save environment inmemory copy case flash area containing erased accident default environment configuration option set using environment environment variable likely baudrate &#9; see bootdelay &#9; see bootcmd &#9; see bootargs &#9; boot argument booting rtos bootfile &#9; name image load bootmlow &#9; memory range available image processing command restricted variable given hexadecimal number defines lowest address use bootm command see also environment variable address defined bootmlow also base initial memory mapping kernel see description bootmmapsize size initial memory mapping linux variable given hexadecimal number defines size memory region starting address bootmlow accessible linux early boot unset default value defined bootmsize used bootmsize &#9; memory range available image processing command restricted variable given hexadecimal number defines size allowed use bootm command see also environment bootdelaykey bootstopkey &#9; see updatefile &#9; location software update file tftp server automatic software update feature please refer documentation autoload &#9; set string beginning bootp load perform lookup configuration bootp server try load image using autostart &#9; set yes image loaded using rarpboot tftpboot diskboot command automatically started internally set standalone image passed bootm command copied load eventually uncompressed used load uncompress fdthigh &#9; set restricts maximum address flattened device tree copied upon example system physical address 0x10000000 linux recognizes first 704 low memory may need set fdthigh 0x3c000000 device tree blob copied maximum 704 low memory linux kernel access boot set special value 0xffffffff fdt copied boot work must reside writable memory sufficient padding end uboot add information need must accessible set address control device tree used uboot i2cfast &#9; set configures linux i2c driver mode 400khz environment variable used initialization code change must saved board must initrdhigh &#9; restrict positioning initrd variable set initrd image copied highest possible address ram usually want since allows maximum initrd size reason want make sure initrd image loaded limit set variable value alternatively set maximum address use uboot still check doe overwrite uboot stack instance system ram want reserve use adding mem12m value bootargs variable however must sure initrd image placed well done setenv initrdhigh set initrdhigh 0xffffffff indication uboot address linux kernel including address memory case uboot copy ramdisk may useful reduce boot time system requires feature supported linux ipaddr &#9; address needed tftpboot loadaddr &#9; default load address command like rarpboot tftpboot loadb loadsecho &#9; see serverip &#9; tftp server address needed tftpboot bootretry &#9; see bootdelaykey &#9; see bootstopkey &#9; see ethprime &#9; control interface used ethact &#9; control interface currently example setenv ethact ping 19216801 traffic sent setenv ethact ping 10001 traffic sent ethrotate &#9; set uboot doe available network stay currently selected netretry &#9; set network operation either succeed fail without set network operation fail available network tried without useful script control retry npeucode &#9; set load address npe silentlinux set linux told boot silently changing console empty yes made silent made silent unset made silent uboot tftpsrcp &#9; set value used udp source tftpdstp &#9; set value used tftp destination port instead well know port tftpblocksize block size use tftp transfer use tftp server default block tftptimeout &#9; retransmission timeout tftp packet second minimum value 1000 second packet considered lost retransmitted default 5000 lowering value may make downloads faster network high packet loss rate unreliable tftp maximum count tftp timeouts unit minimum value defines many happen single file transfer transfer aborted default timeouts allowed increasing value may downloads succeed high packet loss rate unreliable tftp server client vlan &#9; &#9; set value 4095 traffic ethernet vlan tagged period bootpdhcp sends unsigned value millisecond set period either default 28000 value based defined value precedence valu based following image location variable contain location booting image column give role image environment variable name column name file name give name file ram address give location ram image flash location give image address offset nand variable defined board currently use variable purpose use variable file name &#9; ram address flash &#9; uboot &#9; ubootaddrr kernel &#9; bootfile &#9; kerneladdrr tree blob fdtfile &#9; fdtaddrr &#9; ramdiskfile &#9; ramdiskaddrr following environment variable may used network boot command bootp information provided boot bootfile &#9; see dnsip &#9; &#9; address domain name dnsip2 &#9; address secondary domain name gatewayip &#9; address gateway router hostname &#9; target ipaddr &#9; see netmask &#9; subnet rootpath &#9; pathname root filesystem nfs serverip &#9; see two special environment serial &#9; contains hardware identification information type string andor serial ethaddr &#9; ethernet variable set usually manufacturing board uboot refuse delete overwrite set special environment ver &#9; &#9; contains uboot version string version command variable readonly see note change configuration parameter may effect next boot yes like windoze function environment environment variable behavior uboot need value changed functionality allows function associated arbitrary variable creation overwrite callback provide opportunity happen change callback named associated function using macro board driver callback associated variable one two way list added defining board configuration string defines list list must following callback name specified callback also allowed anywhere also associated defining callback list format association callback association static list list string define environment variable default embedded configregex defined variablename evaluated expression allows multiple variable connected callback without explicitly listing signature callback function int callbackconst char name const char value enum envop int name changed environment value new value environment operation create overwrite flag attribute environment variable change see flag return value variable change accepted line two different command line parser available old simple one much powerful hush simple command line support environment variable setenv saveenv several command one line separated variable substitution using name special character escaped prefixing bootcmd bootm also escape text enclosing single apostrophe addip setenv bootargs bootargs similar bourne shell control structure support environment global variable setenv command local shell variable standard shell namevalue environment variable used command line environment variable executed command contains several command separated semicolon one command fails remaining command executed execute several variable one call run calling run list variable argument command cause run terminate variable redundant ethernet board come redundant ethernet interface uboot configuration capable automatic selection interface needed mac assignment work interface numbered eth0 eth1 eth2 address stored environment ethaddr eth1 eth2addr network interface store valid mac address srom used default address setting environment corresponding set override setting card srom valid mac address address environment srom address valid address srom definition environment exists value environment variable srom environment contain mac address address mac address srom environment contain mac address address differ value environment used warning neither srom environment contain mac address raised defined random mac ethernet driver implement writehwaddr function valid mac programmed hardware part initialization process &#9; skipped setting appropriate ethmacskip environment naming convention eth0 eth1macskip eth1 capable booting performing auxiliary operation two uimage format powerful format based flattened image tree fit flattened device tree allows use image several kernel ramdisks etc content protected md5 crc32 detail found docuimagefit uimage image format based binary file basically special header see definition basically header defines following image target operating system provision openbsd netbsd 44bsd linux svr4 esix solaris irix sco dell ncr lynxos psos qnx rtems currently supported linux netbsd vxworks qnx rtems target cpu architecture provision alpha arm intel ia64 mips nds32 nios powerpc ibm s390 superh sparc sparc currently supported arm intel x86 mips nds32 nios compression type uncompressed gzip load entry image image header marked special magic number data portion image secured corruption uboot support standalone main focus always linux design includes many feature far part boot loader code within linux kernel also image used longer part one big linux kernel initrd separate image several feature used application instance using compressed image reduce flash memory becomes much easier port new linux kernel version lot lowlevel hardware dependent stuff done linux kernel image used different image course also mean different kernel image run initrd make testing easier build new linux image change file initrd also fieldupgrade software easier linux uboot based cannot save necessary modification linux device driver use target intend provide full virtual machine interface ignore boot loader code make sure machine specific header file includes definition structure define make sure definition imapaddr uboot configuration uboot driver model unified model adding new driver plumb driver model uclass available encouraged create one linux specific requirement uboot make sure initial ramdisk nfs target linux uboot normal build target like zimage bzimage used use recent kernel source new build exist automatically build image usable older kernel also support pimage introduced predecessor project ppcboot compatible uimage build target special tool compressed linux kernel image header &#9; checksum etc use uboot build standard vmlinux kernel image elf binary convert kernel raw binary binary note comment vmlinux compress binary package compressed binary image ppc linux kernel gzip linux kernel image linuxbingz mkimage tool also used create ramdisk image uboot either separated linux kernel image one file mkimage encapsulates image header containing information target system image type compression method entry point crc32 checksum called two way verify existing image header information build new first form option mkimage list header existing uboot image list image header second form option used build uboot data file used image arch type comp addr name datafile set architecture set operating system set image type set compression type set load address addr set entry point set image name use image data linux kernel powerpc system use 0x00000000 entry point address depends 22x kernel entry point 23x later kernel entry point typical call build uboot image would toolsmkimage 244 kernel tqm850l ppc linux kernel gzip name 244 kernel wed jul 023459 type powerpc linux kernel image gzip size 335725 byte 32786 032 address point verify content image check toolsmkimage name 244 kernel wed jul 023459 type powerpc linux kernel image gzip size 335725 byte 32786 032 address point embedded system boot time critical memory install uncompressed image instead space flash boot much faster since doe gunzip toolsmkimage 244 kernel tqm850l ppc linux kernel none name 244 kernel wed jul 023459 type powerpc linux kernel image size 792160 byte 77359 076 address point build uboot image kernel intended use initial toolsmkimage simple ramdisk image ppc linux ramdisk gzip name simple ramdisk wed jan 140150 type powerpc linux ramdisk image gzip size 566530 byte 55325 054 address point dumpimage tool disassemble image built mkimage performs converse operation mkimage second form given image built mkimage dumpimage extract data image type position extract image specific set image type position starting datafile inside linux downloading uboot image serial console must convert image srecord binary srec examplesimage objcopy doe understand information header resulting srecord file relative 0x00000000 load given address need target address offset parameter install image address 0x40100000 first flash erase 40100000 load ready srecord download 15990 15991 transfer start addr check success download using iminfo includes checksum verification sure imi checking image 40100000 image name &#9; 2213 initrd image type &#9; powerpc linux kernel image gzip data size &#9; 335725 byte 327 load address entry point &#9; verifying checksum bootm command used boot application stored ram flash case linux kernel image bootargs environment variable passed kernel check modify variable using setenv printenv setenv bootargs rootdevnfs printenv bootm booting linux kernel 40020000 image name &#9; 2213 nfs image type &#9; powerpc linux kernel image gzip data size &#9; 381681 byte 372 load address entry point &#9; verifying checksum uncompressing kernel image version 2213 gcc version 2952 19991024 release wed jul 023517 mest argument rootdevnfs decrementer frequency delay loop 4977 15208k available 700k kernel code 444k data 32k init want boot linux kernel initial ram disk memory address kernel initrd image bootm imi 40100000 checking image 40100000 image name &#9; 2213 initrd image type &#9; powerpc linux kernel image gzip data size &#9; 335725 byte 327 load address entry point &#9; verifying checksum checking image 40200000 image name &#9; simple ramdisk image type &#9; powerpc linux ramdisk image gzip data size &#9; 566530 byte 553 load address entry point &#9; verifying checksum bootm 40100000 booting linux kernel 40100000 image name &#9; 2213 initrd image type &#9; powerpc linux kernel image gzip data size &#9; 335725 byte 327 load address entry point &#9; verifying checksum uncompressing kernel image loading ramdisk image 40200000 image name &#9; simple ramdisk image type &#9; powerpc linux ramdisk image gzip data size &#9; 566530 byte 553 load address entry point &#9; verifying checksum loading ramdisk version 2213 gcc version 2952 19991024 release wed jul 023208 mest argument decrementer frequency delay loop 4977 compressed image found block mounted root ext2 linux pas flat device uboot must compiled appropriate defines see linux kernel interface depth explanation example start kernel pas device print print tftp oftaddr 1000 full tsec0 server 19216811 address address transferred 4106 100a tftp loadaddr 1000 full tsec0 server 19216811 address address transferred 1029407 fb51f print print bootm loadaddr booting image 00200000 image name &#9; image type &#9; powerpc linux kernel image gzip data size &#9; 1029343 byte 10052 load address entry point &#9; verifying checksum uncompressing kernel image using flat device tree mpc85xx machine cam mapping cam0256mb cam1256mb cam20mb residual uboot image support following image standalone program directly runnable uboot expected continue work uboot return standalone kernel image usually image embedded take control completely usually install set exception handler set mmu etc mean reenter uboot except resetting ramdisk image data block address size passed kernel multifile image contain several image typically kernel image one data image construct useful instance boot network using bootp etc provides single image file want instance kernel ramdisk image start list image size size byte specified uint32t order list terminated terminating follow image one aligned uint32t boundary size rounded multiple firmware image binary image containing firmware fpga image usually programmed script file command sequence executed command interpreter feature configure uboot use real shell command linux platform possible boot linux zimage bootz command syntax bootz command syntax bootm defining allows user raw initrd image syntax slightly different initrd must augmented size feature uboot dynamically load standalone application use resource like console function interrupt simple example included world contains small hello world automatically compiled build configured run address 0x00040004 play ready srecord download transfer start addr 40004 hello world starting application 0x00040004 key exit application terminated example demonstrates register cpm uboot code found cpm timer set generate interrupt every interrupt service routine trivial printing demo program application following print current value cpm timer enable interrupt start stop timer disable quit ready srecord download transfer start addr starting application 0x00040004 timer tgcr 0xfff00980 tmr 0xfff00990 trr 0xfff00994 tcr 0xfff00998 tcn 0xfff0099c ter set interval 1000000 tmr0xff1c trr0x3d09 tcr0x0 tcn0xef6 tmr0xff1c trr0x3d09 tcr0x0 tcn0x2ad4 tmr0xff1c trr0x3d09 tcr0x0 tcn0x1efc tmr0xff1c trr0x3d09 tcr0x0 tcn0x169d stopping application terminated time many people reported problem trying use terminal emulation program serial download minicom broken recommend use recommend use ckermit general purpose use kermit binary protocol download loadb command srecord download load command help absolutely want use try adding file transfer protocol name &#9; program &#9; &#9; &#9; name fullscr iored kermit &#9; &#9; &#9; &#9; kermit &#9; &#9; &#9; &#9; version 092 uboot support netbsd uboot target system boot requires cross environment known work package gmake since makefiles compatible bsd crosspowerpc package doe install include build uboot fail file installed patched mkdir powerpc edit must remove valist build work due uboot include assumes first part image booted loader turn load invokes loader source eventually appear netbsd probably see following intended complete description detail however help understand working uboot make easier port stack global implementation uboot complicated fact running rom flash memory usually without access ram memory controller initialized mean writable data segment initialized zero able get environment allocate least minimal stack defined restricted cpu used provide onchip memory like immr area mpc8xx processor others part data cache used memory hallinan posted good summary issue mailing ubootusers memory bank chris hallinan mon feb 2003 164346 0500 2243 wrong folk way understand using dcache initial ram stack etc doe physical ram backing cache cache used temporary supply storage sdram controller setup scope list explain detail see work studying cache architecture architecture chip memory believe 405gp another option system designer use stackram area prior sdram available work using fine designer used something grief initial boot frequently somewhere design default find recent uboot distribution work set value sdram module 64mb sdram module 4000000 make sure board supposed respond address code around work get config essential remember since impact initialization initialized global data data segment readonly write use uninitialized global data implicitly zero data segment undefined zation performed later relocating stack space limited avoid big data buffer thing stack writable memory limit mean cannot global data share information code implementation uboot making global data structure gdt available could pas pointer data argument would bloat code instead use feature gcc compiler global register variable share data pointer global data register choosing register purpose restricted eabi specification current architecture powerpc following register specific system passing return parameter data area also r12 internal got pointer volatile register r12 need reset back forth asm uboot use hold pointer global note ppc could use static initializer since address global data structure known compile turned reserving register result smaller code although code saving big average board 752 byte whole uboot 624 text 127 arm following register argument wordinteger argument limit used stack checking frame uboot use hold pointer global note arm rarmrelative relocation nios abi documented uboot use hold pointer global note nios give option gcc use access small data section nds32 following register register pointer pointer register pointer counter uboot use r10 hold pointer global must used fileglobal current version gcc may optimize code riscv following register hardwired zero return address pointer pointer pointer register pointer value temporary counter uboot use hold pointer global run system state physical address used either address mapping memory available memory mapped fixed address using process contiguous block formed type flash sdram sram even consists memory installed first 128 first flash bank module range 0x40000000 0x4001ffff sizing initializing dram code relocates upper end dram immediately uboot code reserved use malloc see setting structure global data placed followed stack growing exception handler code copied low dram 0x00000000 typical memory configuration dram could look 0000 &#9; exception vector 2000 &#9; free application ff20 &#9; monitor stack growing ffac &#9; board info data permanent copy global 0000 &#9; malloc 0000 &#9; ram copy monitor lcd video pram protected ram unchanged ffff &#9; end reset configuration uboot start reset entry powerpc system address 0x00000100 cs0 mirror board flash able remap memory uboot jump link able implement initialization code stack set internal dual ported ram case provide feature like locked part uboot initializes cpu core cache potentially available memory bank mapped using mapping example put 512 0x20000000 sdram 0x00000000 0x20000000 0x40000000 0x60000000 sram 0x80000000 upm sdram access using temporary configuration memory test run determines size one sdram bank bank size largest mapped first equal size cs2 mapped first first mapping always additional bank following immediately memory starting monitor installs upper end sdram allocates memory use malloc global data also exception vector code copied low final stack set relocation normal restricted several way mostly rom code relocated address porting message jerry van baren ubootusers october mainint argc char tosec consultant port latest uboot uboot mailing new uboot get learning readme file top level applicable source find name chs xargs grep lot aggravation similar board exists &#9; hopefully board else board support board new board new accepted running modify source patch file uboot email reasonable improvement email list code code nomoretime int contribution uboot conform linux style see kernel coding style guide linux kernel source file originating different project example subsystem generally exempt guideline ease subsequent migration newer version note uboot implemented small part used please use style comment also stick following formatting remove trailing white use tab character indentation vertical alignment make sure use line add consecutive empty line source add trailing empty line source conform standard may request reformat number patch uboot growing need rule submission conform rejected even contain important valuable see shall sent uboot mailing list send patch please include following information bug fix description bug patch bug please try include way demonstrating patch actually fix new feature description feature changelog entry plaintext separate major contribution add maintainer file information associated file directory add support new board forget add maintainer email address boardscfg file patch add new configuration option forget document readme patch using git recommended easily generate patch using git formatpatch use git sendemail send uboot mailing list avoid common mail cannot use git use diff purn old new version diff doe support option get latest version gnu current directory running command shall directory uboot source tree please make sure patch includes sufficient directory information affected prefer patch plain text mime attachment compressed attachment must one logical set modification affect creates file change shall submitted single patch changesets contain different unrelated modification shall submitted separate patch one patch per sending patch run buildman script source tree make sure error warning keep modification necessary minimum containing several unrelated change arbitrary reformats returned request reformatting split modify existing code make sure new code doe add memory footprint code small adding new feature compile conditionally using ifdef resulting code new disabled must need memory old code without remember size limit 100 per message uboot mailing list bigger patch moderated reasonable big acknowledged bigger size limit\n",
       "Name: cleaned, dtype: object"
      ]
     },
     "execution_count": 58,
     "metadata": {},
     "output_type": "execute_result"
    }
   ],
   "source": [
    "df_max.cleaned"
   ]
  },
  {
   "cell_type": "code",
   "execution_count": 59,
   "id": "0d2a7725",
   "metadata": {},
   "outputs": [
    {
     "data": {
      "text/plain": [
       "count     753.000000\n",
       "mean      188.282869\n",
       "std       474.556527\n",
       "min        10.000000\n",
       "25%        37.000000\n",
       "50%        93.000000\n",
       "75%       192.000000\n",
       "max      9911.000000\n",
       "Name: cleaned_length, dtype: float64"
      ]
     },
     "execution_count": 59,
     "metadata": {},
     "output_type": "execute_result"
    }
   ],
   "source": [
    "df.cleaned_length.describe()"
   ]
  },
  {
   "cell_type": "code",
   "execution_count": 60,
   "id": "a110c5ac",
   "metadata": {},
   "outputs": [
    {
     "data": {
      "image/png": "[encoded data removed]",
      "text/plain": [
       "<Figure size 1728x576 with 1 Axes>"
      ]
     },
     "metadata": {
      "needs_background": "light"
     },
     "output_type": "display_data"
    }
   ],
   "source": [
    "plt.figure(figsize = (24,8))\n",
    "sns.histplot(x=df.cleaned_length)\n",
    "plt.axvline(94, c = 'red')\n",
    "plt.show()"
   ]
  },
  {
   "cell_type": "code",
   "execution_count": 61,
   "id": "8eeffc12",
   "metadata": {},
   "outputs": [
    {
     "data": {
      "image/png": "[encoded data removed]",
      "text/plain": [
       "<Figure size 1728x576 with 1 Axes>"
      ]
     },
     "metadata": {
      "needs_background": "light"
     },
     "output_type": "display_data"
    }
   ],
   "source": [
    "df_removed_high = df[df.cleaned_length < 668]\n",
    "\n",
    "plt.figure(figsize = (24,8))\n",
    "sns.histplot(x=df_removed_high.cleaned_length)\n",
    "plt.axvline(94, c = 'red')\n",
    "plt.show()"
   ]
  }
 ],
 "metadata": {
  "kernelspec": {
   "display_name": "Python 3 (ipykernel)",
   "language": "python",
   "name": "python3"
  },
  "language_info": {
   "codemirror_mode": {
    "name": "ipython",
    "version": 3
   },
   "file_extension": ".py",
   "mimetype": "text/x-python",
   "name": "python",
   "nbconvert_exporter": "python",
   "pygments_lexer": "ipython3",
   "version": "3.9.7"
  }
 },
 "nbformat": 4,
 "nbformat_minor": 5
}
