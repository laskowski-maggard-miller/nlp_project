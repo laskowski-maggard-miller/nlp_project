{
 "cells": [
  {
   "cell_type": "markdown",
   "id": "e42b423c",
   "metadata": {},
   "source": [
    "# $\\mathbf{PREDICTING}$ $\\mathbf{PRIMARY}$ $\\mathbf{GITHUB}$ $\\mathbf{REPOSITORY}$ $\\mathbf{LANGUAGE}$ $\\mathbf{BASED}$ $\\mathbf{ON}$ $\\mathbf{README}$ $\\mathbf{TEXT}$\n",
    "## *Examining the top 1000 repos featuring the word 'cat': can we determine which words or phrases in a readme are indicative of one programming language over another?*\n",
    "### Prepared for The Cat Fancier's Society of Greater Githubsville\n",
    "$\\rightarrow$Notebook and accompanying presentation by Lochlyn Laskowski, Gregory Maggard, and Ryan Miller | Github Data Scientist Team | 7/26/2022"
   ]
  },
  {
   "cell_type": "markdown",
   "id": "49c49969",
   "metadata": {},
   "source": [
    "# $\\bigstar$ Executive Summary {RYAN - at end}"
   ]
  },
  {
   "cell_type": "markdown",
   "id": "d0c1241e",
   "metadata": {},
   "source": [
    "### Question: \n",
    "### Actions: \n",
    "### Conclusions:  \n",
    "### Recommendations:"
   ]
  },
  {
   "cell_type": "markdown",
   "id": "f3a742d0",
   "metadata": {},
   "source": [
    "# $\\bigstar$ Libraries Requied"
   ]
  },
  {
   "cell_type": "markdown",
   "id": "bd98df34",
   "metadata": {},
   "source": [
    "Common DS Libraries"
   ]
  },
  {
   "cell_type": "code",
   "execution_count": 1,
   "id": "92cdc9d6",
   "metadata": {},
   "outputs": [
    {
     "name": "stderr",
     "output_type": "stream",
     "text": [
      "/opt/homebrew/anaconda3/lib/python3.9/site-packages/scipy/__init__.py:146: UserWarning: A NumPy version >=1.16.5 and <1.23.0 is required for this version of SciPy (detected version 1.23.0\n",
      "  warnings.warn(f\"A NumPy version >={np_minversion} and <{np_maxversion}\"\n"
     ]
    }
   ],
   "source": [
    "# For data analysis:\n",
    "import numpy as np\n",
    "import pandas as pd\n",
    "\n",
    "# Graphs/Visualizations:\n",
    "import seaborn as sns\n",
    "import matplotlib.pyplot as plt\n",
    "%matplotlib inline\n",
    "\n",
    "# For Statistics and Hypothesis Testing:\n",
    "import scipy.stats as stats\n",
    "\n",
    "# NLP tools\n",
    "import nltk\n",
    "from wordcloud import WordCloud\n",
    "import re\n",
    "\n",
    "# Web Scraping Tools\n",
    "import requests\n",
    "from bs4 import BeautifulSoup as bs\n",
    "import json\n",
    "\n",
    "# For Classification Modeling:\n",
    "from itertools import combinations\n",
    "from sklearn.metrics import confusion_matrix\n",
    "from sklearn.tree import DecisionTreeClassifier, plot_tree\n",
    "from sklearn.ensemble import RandomForestClassifier\n",
    "from sklearn.neighbors import KNeighborsClassifier\n",
    "from sklearn.linear_model import LogisticRegression\n",
    "from sklearn.cluster import KMeans\n",
    "from sklearn.metrics import classification_report, accuracy_score\n",
    "from sklearn.feature_extraction.text import TfidfVectorizer"
   ]
  },
  {
   "cell_type": "markdown",
   "id": "53dd3ab9",
   "metadata": {},
   "source": [
    "Internally Created Helper Functions"
   ]
  },
  {
   "cell_type": "code",
   "execution_count": 2,
   "id": "ddb220d7",
   "metadata": {},
   "outputs": [],
   "source": [
    "# For acquiring the dataset from the Cal Tech Database:\n",
    "from acquire import json_to_df\n",
    "\n",
    "# For initiual preparing and cleaning of the dataset (text)\n",
    "from prepare import df_cleaner\n",
    "\n",
    "# and seperating into new df, X_train_exp, X_train, y_train, X_validate, y_validate, X_test, y_test:\n",
    "import wrangle import cat_wrangle\n",
    "\n",
    "# For comparing Classification Algorithm Outcomes\n",
    "from matrix_result import matrix_result_2d"
   ]
  },
  {
   "cell_type": "markdown",
   "id": "3961d42e",
   "metadata": {},
   "source": [
    "Others"
   ]
  },
  {
   "cell_type": "code",
   "execution_count": 3,
   "id": "30d71159",
   "metadata": {},
   "outputs": [],
   "source": [
    "#Ignore Warnings:\n",
    "import warnings\n",
    "warnings.filterwarnings('ignore')\n",
    "\n",
    "# reloads import files each time a cell is ran (makes your life easier)\n",
    "%load_ext autoreload\n",
    "%autoreload 2\n",
    "\n",
    "# Shows all columns of a dataframe\n",
    "pd.set_option('display.max_columns', None)"
   ]
  },
  {
   "cell_type": "markdown",
   "id": "a3c41e68",
   "metadata": {},
   "source": [
    "# $\\bigstar$ Data Acquisition and Preparation {RYAN}"
   ]
  },
  {
   "cell_type": "markdown",
   "id": "a2667f5e",
   "metadata": {},
   "source": [
    "## Acqusition"
   ]
  },
  {
   "cell_type": "code",
   "execution_count": null,
   "id": "586401d3",
   "metadata": {},
   "outputs": [],
   "source": [
    "# Decided to do cats - why"
   ]
  },
  {
   "cell_type": "code",
   "execution_count": null,
   "id": "5a5ee3ff",
   "metadata": {},
   "outputs": [],
   "source": [
    "# Created a scraper to get urls we would use based on a search - came out to 1000\n",
    " # Call the scraper"
   ]
  },
  {
   "cell_type": "code",
   "execution_count": null,
   "id": "11646080",
   "metadata": {},
   "outputs": [],
   "source": [
    "# Used the acquisition function json to df\n",
    " # Modified to take in repos from above process\n",
    " # Output is Json, we convert it to dataframe"
   ]
  },
  {
   "cell_type": "code",
   "execution_count": null,
   "id": "292db2be",
   "metadata": {},
   "outputs": [],
   "source": [
    "# Description of acquired features\n",
    " # read_me content\n",
    " # top language"
   ]
  },
  {
   "cell_type": "markdown",
   "id": "25b33400",
   "metadata": {},
   "source": [
    "## Preparation"
   ]
  },
  {
   "cell_type": "code",
   "execution_count": null,
   "id": "8a401b2f",
   "metadata": {},
   "outputs": [],
   "source": [
    "# We gotta fix the readme content - its gibberish"
   ]
  },
  {
   "cell_type": "code",
   "execution_count": null,
   "id": "f8eecf06",
   "metadata": {},
   "outputs": [],
   "source": [
    "# Applied the following cleaning steps (what and quick why for each) to the read_me content"
   ]
  },
  {
   "cell_type": "code",
   "execution_count": null,
   "id": "46623448",
   "metadata": {},
   "outputs": [],
   "source": [
    "# Applied the cleaner to the df "
   ]
  },
  {
   "cell_type": "markdown",
   "id": "db808fe7",
   "metadata": {},
   "source": [
    "# $\\bigstar$ Univariate Summary Analysis {RYAN}"
   ]
  },
  {
   "cell_type": "code",
   "execution_count": null,
   "id": "ae8d7673",
   "metadata": {},
   "outputs": [],
   "source": [
    "# Languages"
   ]
  },
  {
   "cell_type": "code",
   "execution_count": null,
   "id": "e97526dc",
   "metadata": {},
   "outputs": [],
   "source": [
    "# Run a wrangle function on it to get the splits but also df with language_group"
   ]
  },
  {
   "cell_type": "code",
   "execution_count": null,
   "id": "1e713135",
   "metadata": {},
   "outputs": [],
   "source": [
    "# Language group histogram"
   ]
  },
  {
   "cell_type": "code",
   "execution_count": null,
   "id": "689de881",
   "metadata": {},
   "outputs": [],
   "source": [
    "# Word count histogram and discussion"
   ]
  },
  {
   "cell_type": "markdown",
   "id": "89ae1dad",
   "metadata": {},
   "source": [
    "# $\\bigstar$ EDA {RYAN}"
   ]
  },
  {
   "cell_type": "code",
   "execution_count": 1,
   "id": "f6345f91",
   "metadata": {},
   "outputs": [],
   "source": [
    "# Questions that we have - does word count have an impact?  Hypothesis test mean words and language_group"
   ]
  },
  {
   "cell_type": "code",
   "execution_count": null,
   "id": "60f0087b",
   "metadata": {},
   "outputs": [],
   "source": [
    "# Does number of unique words have an impact?"
   ]
  },
  {
   "cell_type": "code",
   "execution_count": null,
   "id": "f910624e",
   "metadata": {},
   "outputs": [],
   "source": [
    "# Does unique words as a percentage of total words have an impact?  OR TF-IDF IF IT MAKES SENSE"
   ]
  },
  {
   "cell_type": "markdown",
   "id": "98b9eb7f",
   "metadata": {},
   "source": [
    "## Wordclouds and Bigrams {RYAN w/ GREG INPUT}"
   ]
  },
  {
   "cell_type": "code",
   "execution_count": 2,
   "id": "406eeaf1",
   "metadata": {},
   "outputs": [],
   "source": [
    "# We'll pick out what should go into the final from your scrap work"
   ]
  },
  {
   "cell_type": "markdown",
   "id": "01f04fb7",
   "metadata": {},
   "source": [
    "#  $\\bigstar$ Modeling"
   ]
  },
  {
   "cell_type": "code",
   "execution_count": null,
   "id": "c547e9e4",
   "metadata": {},
   "outputs": [],
   "source": [
    "# Models - Try all classification models.  Try them validate and then test."
   ]
  },
  {
   "cell_type": "markdown",
   "id": "57481e88",
   "metadata": {},
   "source": [
    "#  $\\bigstar$ Conclusions"
   ]
  },
  {
   "cell_type": "markdown",
   "id": "7e16c1f2",
   "metadata": {},
   "source": [
    "### Key Findings"
   ]
  },
  {
   "cell_type": "markdown",
   "id": "e73ce7fe",
   "metadata": {},
   "source": [
    "### Model Effectiveness"
   ]
  },
  {
   "cell_type": "markdown",
   "id": "a2654607",
   "metadata": {},
   "source": [
    "### Recommendations and Next Steps"
   ]
  }
 ],
 "metadata": {
  "kernelspec": {
   "display_name": "Python 3 (ipykernel)",
   "language": "python",
   "name": "python3"
  },
  "language_info": {
   "codemirror_mode": {
    "name": "ipython",
    "version": 3
   },
   "file_extension": ".py",
   "mimetype": "text/x-python",
   "name": "python",
   "nbconvert_exporter": "python",
   "pygments_lexer": "ipython3",
   "version": "3.9.7"
  }
 },
 "nbformat": 4,
 "nbformat_minor": 5
}
