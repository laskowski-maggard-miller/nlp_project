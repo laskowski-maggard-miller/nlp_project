{
 "cells": [
  {
   "cell_type": "code",
   "execution_count": 18,
   "id": "9c4e1eed",
   "metadata": {},
   "outputs": [],
   "source": [
    "import warnings\n",
    "warnings.filterwarnings(\"ignore\")\n",
    "\n",
    "import pandas as pd\n",
    "import numpy as np\n",
    "import re\n",
    "import requests\n",
    "from bs4 import BeautifulSoup as bs\n",
    "import json\n",
    "import matplotlib.pyplot as plt\n",
    "import seaborn as sns\n",
    "import nltk\n",
    "from wordcloud import WordCloud\n",
    "from sklearn.feature_extraction.text import TfidfVectorizer\n",
    "from sklearn.model_selection import train_test_split\n",
    "from sklearn.linear_model import LogisticRegression\n",
    "from sklearn.metrics import classification_report, accuracy_score\n",
    "from sklearn.neighbors import KNeighborsClassifier\n",
    "from sklearn.tree import DecisionTreeClassifier, plot_tree\n",
    "\n",
    "import acquire as ac\n",
    "import prepare as pr\n",
    "import wrangle as wr"
   ]
  },
  {
   "cell_type": "markdown",
   "id": "90d8b822",
   "metadata": {},
   "source": [
    "# Acquiring Data:"
   ]
  },
  {
   "cell_type": "code",
   "execution_count": 2,
   "id": "b517f471",
   "metadata": {
    "scrolled": true
   },
   "outputs": [
    {
     "name": "stdout",
     "output_type": "stream",
     "text": [
      "Removed 60 rows with empty Readmes.\n",
      "Removed 197 rows with Readmes < 10 words long.\n",
      "Train = 415 rows (56.0%) | Validate = 179 rows (24.0%) | Test = 149 rows (20.0%)\n"
     ]
    }
   ],
   "source": [
    "shared_word_list = ['cat', 'use', 'image', 'using', 'file', 'run']\n",
    "X_train, y_train, X_validate, y_validate, X_test, y_test, df, df_languages = wr.cat_wrangle(extra_words = (shared_word_list))"
   ]
  },
  {
   "cell_type": "code",
   "execution_count": 3,
   "id": "48774c75",
   "metadata": {},
   "outputs": [
    {
     "name": "stdout",
     "output_type": "stream",
     "text": [
      "Train = 415 rows (56.0%) | Validate = 179 rows (24.0%) | Test = 149 rows (20.0%)\n",
      "You did not stratify.  If looking to stratify, ensure to add argument: \"target = variable to stratify on\".\n"
     ]
    }
   ],
   "source": [
    "train, validate, test = wr.splitter(df)"
   ]
  },
  {
   "cell_type": "code",
   "execution_count": 4,
   "id": "79e1fc6c",
   "metadata": {},
   "outputs": [
    {
     "data": {
      "text/html": [
       "<div>\n",
       "<style scoped>\n",
       "    .dataframe tbody tr th:only-of-type {\n",
       "        vertical-align: middle;\n",
       "    }\n",
       "\n",
       "    .dataframe tbody tr th {\n",
       "        vertical-align: top;\n",
       "    }\n",
       "\n",
       "    .dataframe thead th {\n",
       "        text-align: right;\n",
       "    }\n",
       "</style>\n",
       "<table border=\"1\" class=\"dataframe\">\n",
       "  <thead>\n",
       "    <tr style=\"text-align: right;\">\n",
       "      <th></th>\n",
       "      <th>repo</th>\n",
       "      <th>cleaned</th>\n",
       "      <th>cleaned_length</th>\n",
       "      <th>language_group</th>\n",
       "    </tr>\n",
       "  </thead>\n",
       "  <tbody>\n",
       "    <tr>\n",
       "      <th>35</th>\n",
       "      <td>lunaryorn/mdcat</td>\n",
       "      <td>migrated markdown mdcat showcase different col...</td>\n",
       "      <td>180</td>\n",
       "      <td>Other</td>\n",
       "    </tr>\n",
       "    <tr>\n",
       "      <th>59</th>\n",
       "      <td>profunktor/redis4cats</td>\n",
       "      <td>steward client built top async java client qui...</td>\n",
       "      <td>121</td>\n",
       "      <td>Scala</td>\n",
       "    </tr>\n",
       "    <tr>\n",
       "      <th>923</th>\n",
       "      <td>1fmusic/Audio_cat_dog_classification</td>\n",
       "      <td>classification dog wav project obtained corpus...</td>\n",
       "      <td>555</td>\n",
       "      <td>Other</td>\n",
       "    </tr>\n",
       "    <tr>\n",
       "      <th>282</th>\n",
       "      <td>evolution-gaming/cats-helper</td>\n",
       "      <td>clock 1000 millis allows rather update ref ref...</td>\n",
       "      <td>130</td>\n",
       "      <td>Scala</td>\n",
       "    </tr>\n",
       "    <tr>\n",
       "      <th>142</th>\n",
       "      <td>kairess/cat_hipsterizer</td>\n",
       "      <td>hipsterize dog deep contains face detection pr...</td>\n",
       "      <td>107</td>\n",
       "      <td>Python</td>\n",
       "    </tr>\n",
       "  </tbody>\n",
       "</table>\n",
       "</div>"
      ],
      "text/plain": [
       "                                     repo  \\\n",
       "35                        lunaryorn/mdcat   \n",
       "59                  profunktor/redis4cats   \n",
       "923  1fmusic/Audio_cat_dog_classification   \n",
       "282          evolution-gaming/cats-helper   \n",
       "142               kairess/cat_hipsterizer   \n",
       "\n",
       "                                               cleaned  cleaned_length  \\\n",
       "35   migrated markdown mdcat showcase different col...             180   \n",
       "59   steward client built top async java client qui...             121   \n",
       "923  classification dog wav project obtained corpus...             555   \n",
       "282  clock 1000 millis allows rather update ref ref...             130   \n",
       "142  hipsterize dog deep contains face detection pr...             107   \n",
       "\n",
       "    language_group  \n",
       "35           Other  \n",
       "59           Scala  \n",
       "923          Other  \n",
       "282          Scala  \n",
       "142         Python  "
      ]
     },
     "execution_count": 4,
     "metadata": {},
     "output_type": "execute_result"
    }
   ],
   "source": [
    "train.head()"
   ]
  },
  {
   "cell_type": "code",
   "execution_count": 6,
   "id": "728da0ba",
   "metadata": {},
   "outputs": [
    {
     "data": {
      "text/plain": [
       "743"
      ]
     },
     "execution_count": 6,
     "metadata": {},
     "output_type": "execute_result"
    }
   ],
   "source": []
  },
  {
   "cell_type": "markdown",
   "id": "a46639cc",
   "metadata": {},
   "source": [
    "# Preparing Data:"
   ]
  },
  {
   "cell_type": "markdown",
   "id": "cc9dce0c",
   "metadata": {},
   "source": [
    "## Cleaning the original DataFrame: \n",
    "- Creates rows for repo name, top language, the contents of the readme, and the cleaned text of the readmes:\n",
    "    - Removes newlines, urls, and words that are longer than 14 characters.\n",
    "    - Makes it all lowercase, tokenizes the words, and then lemmatizes (or stems) them."
   ]
  },
  {
   "cell_type": "markdown",
   "id": "60f3550d",
   "metadata": {},
   "source": [
    "#### Removing any records that are fewer than 11 words (leaves 743 records left):"
   ]
  },
  {
   "cell_type": "markdown",
   "id": "7a98ecfb",
   "metadata": {},
   "source": [
    "# Exploration\n",
    "- My focus is on bigrams and word visualizations."
   ]
  },
  {
   "cell_type": "code",
   "execution_count": null,
   "id": "18d77a30",
   "metadata": {
    "scrolled": false
   },
   "outputs": [],
   "source": [
    "train.language_group.value_counts()"
   ]
  },
  {
   "cell_type": "markdown",
   "id": "989aaf05",
   "metadata": {},
   "source": [
    "## Creating WordClouds:"
   ]
  },
  {
   "cell_type": "markdown",
   "id": "254a4941",
   "metadata": {},
   "source": [
    "### Python:"
   ]
  },
  {
   "cell_type": "markdown",
   "id": "e0245cf8",
   "metadata": {},
   "source": [
    "#### Creating separate DataFrame of Python-lead READMEs:"
   ]
  },
  {
   "cell_type": "code",
   "execution_count": null,
   "id": "7e6691b9",
   "metadata": {},
   "outputs": [],
   "source": [
    "python_df = train[train.language_group == 'Python']"
   ]
  },
  {
   "cell_type": "code",
   "execution_count": null,
   "id": "62285016",
   "metadata": {
    "scrolled": true
   },
   "outputs": [],
   "source": [
    "python_df.head(2)"
   ]
  },
  {
   "cell_type": "markdown",
   "id": "3a0122c7",
   "metadata": {},
   "source": [
    "#### Joining all the text from Python READMEs into a single group:"
   ]
  },
  {
   "cell_type": "code",
   "execution_count": null,
   "id": "fecdd15c",
   "metadata": {},
   "outputs": [],
   "source": [
    "python_text = ''\n",
    "for i in range(python_df.shape[0]):\n",
    "    python_text = python_text + python_df.cleaned.iloc[i]\n",
    "    \n",
    "python_text[0:200]"
   ]
  },
  {
   "cell_type": "markdown",
   "id": "f435567e",
   "metadata": {},
   "source": [
    "#### Creating a WordCloud from all of the Python text:"
   ]
  },
  {
   "cell_type": "code",
   "execution_count": null,
   "id": "9c1f3f19",
   "metadata": {
    "scrolled": true
   },
   "outputs": [],
   "source": [
    "img = WordCloud(background_color='white').generate(python_text)\n",
    "# WordCloud() produces an image object, which can be displayed with plt.imshow\n",
    "plt.imshow(img)\n",
    "# axis aren't very useful for a word cloud\n",
    "plt.axis('off')"
   ]
  },
  {
   "cell_type": "markdown",
   "id": "b6b5e6dc",
   "metadata": {},
   "source": [
    "#### Creating bigrams from the text:"
   ]
  },
  {
   "cell_type": "code",
   "execution_count": null,
   "id": "b73a41c7",
   "metadata": {},
   "outputs": [],
   "source": [
    "bigrams = nltk.ngrams(python_text.split(), 2)\n",
    "list(bigrams)"
   ]
  },
  {
   "cell_type": "code",
   "execution_count": null,
   "id": "da2e79ed",
   "metadata": {},
   "outputs": [],
   "source": [
    "top_20_python_bigrams = (pd.Series(nltk.ngrams(python_text.split(), 2))\n",
    "                      .value_counts()\n",
    "                      .head(20))\n",
    "\n",
    "top_20_python_bigrams.head()"
   ]
  },
  {
   "cell_type": "code",
   "execution_count": null,
   "id": "36c51582",
   "metadata": {},
   "outputs": [],
   "source": [
    "data = {k[0] + ' ' + k[1]: v for k, v in top_20_python_bigrams.to_dict().items()}\n",
    "img = WordCloud(background_color='white', width=800, height=400).generate_from_frequencies(data)\n",
    "plt.figure(figsize=(8, 4))\n",
    "plt.imshow(img)\n",
    "plt.axis('off')\n",
    "plt.show()"
   ]
  },
  {
   "cell_type": "markdown",
   "id": "6943da5e",
   "metadata": {},
   "source": [
    "Given that these bigrams seem to be single letters, mostly nonsensical, it may be worth adding a condition to the cleaning function that eliminates words that are only single letters (although it's worth noting that this could eliminate things like \"I\" or \"a.\""
   ]
  },
  {
   "cell_type": "markdown",
   "id": "423d556f",
   "metadata": {},
   "source": [
    "### Scala:"
   ]
  },
  {
   "cell_type": "code",
   "execution_count": null,
   "id": "a4e26377",
   "metadata": {},
   "outputs": [],
   "source": [
    "scala_df = train[train.language_group == 'Scala']"
   ]
  },
  {
   "cell_type": "code",
   "execution_count": null,
   "id": "812ae556",
   "metadata": {},
   "outputs": [],
   "source": [
    "scala_text = ''\n",
    "for i in range(scala_df.shape[0]):\n",
    "    scala_text = scala_text + scala_df.cleaned.iloc[i]\n",
    "    \n",
    "scala_text[0:200]"
   ]
  },
  {
   "cell_type": "code",
   "execution_count": null,
   "id": "0d2c4929",
   "metadata": {},
   "outputs": [],
   "source": [
    "img = WordCloud(background_color='white').generate(scala_text)\n",
    "# WordCloud() produces an image object, which can be displayed with plt.imshow\n",
    "plt.imshow(img)\n",
    "# axis aren't very useful for a word cloud\n",
    "plt.axis('off');"
   ]
  },
  {
   "cell_type": "code",
   "execution_count": null,
   "id": "061a607c",
   "metadata": {},
   "outputs": [],
   "source": [
    "scala_bigrams = nltk.ngrams(scala_text.split(), 2)\n",
    "list(scala_bigrams)"
   ]
  },
  {
   "cell_type": "code",
   "execution_count": null,
   "id": "3350c43e",
   "metadata": {
    "scrolled": true
   },
   "outputs": [],
   "source": [
    "top_20_scala_bigrams = (pd.Series(nltk.ngrams(scala_text.split(), 2))\n",
    "                      .value_counts()\n",
    "                      .head(20))\n",
    "\n",
    "top_20_scala_bigrams.head()"
   ]
  },
  {
   "cell_type": "code",
   "execution_count": null,
   "id": "db4f399a",
   "metadata": {},
   "outputs": [],
   "source": [
    "data = {k[0] + ' ' + k[1]: v for k, v in top_20_scala_bigrams.to_dict().items()}\n",
    "img = WordCloud(background_color='white', width=800, height=400).generate_from_frequencies(data)\n",
    "plt.figure(figsize=(8, 4))\n",
    "plt.imshow(img)\n",
    "plt.axis('off')\n",
    "plt.show()"
   ]
  },
  {
   "cell_type": "markdown",
   "id": "c078c3a4",
   "metadata": {},
   "source": [
    "## JavaScript:"
   ]
  },
  {
   "cell_type": "code",
   "execution_count": null,
   "id": "08a63fc1",
   "metadata": {},
   "outputs": [],
   "source": [
    "js_df = train[train.language_group == 'JavaScript']"
   ]
  },
  {
   "cell_type": "code",
   "execution_count": null,
   "id": "39c6a4f1",
   "metadata": {},
   "outputs": [],
   "source": [
    "js_text = ''\n",
    "for i in range(js_df.shape[0]):\n",
    "    js_text = js_text + js_df.cleaned.iloc[i]\n",
    "    \n",
    "js_text[0:200]"
   ]
  },
  {
   "cell_type": "code",
   "execution_count": null,
   "id": "5d5b2d37",
   "metadata": {
    "scrolled": true
   },
   "outputs": [],
   "source": [
    "img = WordCloud(background_color='white').generate(js_text)\n",
    "# WordCloud() produces an image object, which can be displayed with plt.imshow\n",
    "plt.imshow(img)\n",
    "# axis aren't very useful for a word cloud\n",
    "plt.axis('off');"
   ]
  },
  {
   "cell_type": "code",
   "execution_count": null,
   "id": "b720a91b",
   "metadata": {},
   "outputs": [],
   "source": [
    "js_bigrams = nltk.ngrams(js_text.split(), 2)\n",
    "list(js_bigrams)"
   ]
  },
  {
   "cell_type": "code",
   "execution_count": null,
   "id": "a7cca4e6",
   "metadata": {},
   "outputs": [],
   "source": [
    "top_20_js_bigrams = (pd.Series(nltk.ngrams(js_text.split(), 2))\n",
    "                      .value_counts()\n",
    "                      .head(20))\n",
    "\n",
    "top_20_js_bigrams.head()"
   ]
  },
  {
   "cell_type": "code",
   "execution_count": null,
   "id": "90188980",
   "metadata": {},
   "outputs": [],
   "source": [
    "data = {k[0] + ' ' + k[1]: v for k, v in top_20_js_bigrams.to_dict().items()}\n",
    "img = WordCloud(background_color='white', width=800, height=400).generate_from_frequencies(data)\n",
    "plt.figure(figsize=(8, 4))\n",
    "plt.imshow(img)\n",
    "plt.axis('off')\n",
    "plt.show()"
   ]
  },
  {
   "cell_type": "markdown",
   "id": "1950aabd",
   "metadata": {},
   "source": [
    "## Other:"
   ]
  },
  {
   "cell_type": "code",
   "execution_count": null,
   "id": "0fc2197c",
   "metadata": {},
   "outputs": [],
   "source": [
    "other_df = train[train.language_group == 'Other']"
   ]
  },
  {
   "cell_type": "code",
   "execution_count": null,
   "id": "6cb044b5",
   "metadata": {},
   "outputs": [],
   "source": [
    "other_text = ''\n",
    "for i in range(other_df.shape[0]):\n",
    "    other_text = other_text + other_df.cleaned.iloc[i]\n",
    "    \n",
    "other_text[0:200]"
   ]
  },
  {
   "cell_type": "code",
   "execution_count": null,
   "id": "11e0b1e2",
   "metadata": {},
   "outputs": [],
   "source": [
    "img = WordCloud(background_color='white').generate(other_text)\n",
    "# WordCloud() produces an image object, which can be displayed with plt.imshow\n",
    "plt.imshow(img)\n",
    "# axis aren't very useful for a word cloud\n",
    "plt.axis('off');"
   ]
  },
  {
   "cell_type": "code",
   "execution_count": null,
   "id": "6042be51",
   "metadata": {},
   "outputs": [],
   "source": [
    "other_bigrams = nltk.ngrams(other_text.split(), 2)\n",
    "list(other_bigrams)"
   ]
  },
  {
   "cell_type": "code",
   "execution_count": null,
   "id": "cd8f2266",
   "metadata": {},
   "outputs": [],
   "source": [
    "top_20_other_bigrams = (pd.Series(nltk.ngrams(other_text.split(), 2))\n",
    "                      .value_counts()\n",
    "                      .head(20))\n",
    "\n",
    "top_20_other_bigrams.head()"
   ]
  },
  {
   "cell_type": "code",
   "execution_count": null,
   "id": "fd7bcaf6",
   "metadata": {},
   "outputs": [],
   "source": [
    "data = {k[0] + ' ' + k[1]: v for k, v in top_20_other_bigrams.to_dict().items()}\n",
    "img = WordCloud(background_color='white', width=800, height=400).generate_from_frequencies(data)\n",
    "plt.figure(figsize=(8, 4))\n",
    "plt.imshow(img)\n",
    "plt.axis('off')\n",
    "plt.show()"
   ]
  },
  {
   "cell_type": "markdown",
   "id": "df6f6817",
   "metadata": {},
   "source": [
    "# Prepping for modeling:"
   ]
  },
  {
   "cell_type": "markdown",
   "id": "9a6a6a20",
   "metadata": {},
   "source": [
    "## Creating three models to pick the best:"
   ]
  },
  {
   "cell_type": "code",
   "execution_count": 8,
   "id": "5fb58cc5",
   "metadata": {
    "scrolled": true
   },
   "outputs": [
    {
     "data": {
      "text/html": [
       "<div>\n",
       "<style scoped>\n",
       "    .dataframe tbody tr th:only-of-type {\n",
       "        vertical-align: middle;\n",
       "    }\n",
       "\n",
       "    .dataframe tbody tr th {\n",
       "        vertical-align: top;\n",
       "    }\n",
       "\n",
       "    .dataframe thead th {\n",
       "        text-align: right;\n",
       "    }\n",
       "</style>\n",
       "<table border=\"1\" class=\"dataframe\">\n",
       "  <thead>\n",
       "    <tr style=\"text-align: right;\">\n",
       "      <th></th>\n",
       "      <th>repo</th>\n",
       "      <th>cleaned</th>\n",
       "      <th>cleaned_length</th>\n",
       "      <th>language_group</th>\n",
       "    </tr>\n",
       "  </thead>\n",
       "  <tbody>\n",
       "    <tr>\n",
       "      <th>0</th>\n",
       "      <td>typelevel/cats</td>\n",
       "      <td>scala version continuous contributor open libr...</td>\n",
       "      <td>499</td>\n",
       "      <td>Scala</td>\n",
       "    </tr>\n",
       "    <tr>\n",
       "      <th>1</th>\n",
       "      <td>nyaadevs/nyaa</td>\n",
       "      <td>nyaav2 build setting project python feature us...</td>\n",
       "      <td>462</td>\n",
       "      <td>Python</td>\n",
       "    </tr>\n",
       "    <tr>\n",
       "      <th>2</th>\n",
       "      <td>httpcats/http.cat</td>\n",
       "      <td>httpcat build website hosted code older versio...</td>\n",
       "      <td>79</td>\n",
       "      <td>JavaScript</td>\n",
       "    </tr>\n",
       "    <tr>\n",
       "      <th>3</th>\n",
       "      <td>AlexiaJM/Deep-learning-with-cats</td>\n",
       "      <td>repository toy project gain experience buildin...</td>\n",
       "      <td>174</td>\n",
       "      <td>Python</td>\n",
       "    </tr>\n",
       "    <tr>\n",
       "      <th>4</th>\n",
       "      <td>sharkdp/bat</td>\n",
       "      <td>cat1 clone syntax highlighting git feature ins...</td>\n",
       "      <td>1340</td>\n",
       "      <td>Other</td>\n",
       "    </tr>\n",
       "  </tbody>\n",
       "</table>\n",
       "</div>"
      ],
      "text/plain": [
       "                               repo  \\\n",
       "0                    typelevel/cats   \n",
       "1                     nyaadevs/nyaa   \n",
       "2                 httpcats/http.cat   \n",
       "3  AlexiaJM/Deep-learning-with-cats   \n",
       "4                       sharkdp/bat   \n",
       "\n",
       "                                             cleaned  cleaned_length  \\\n",
       "0  scala version continuous contributor open libr...             499   \n",
       "1  nyaav2 build setting project python feature us...             462   \n",
       "2  httpcat build website hosted code older versio...              79   \n",
       "3  repository toy project gain experience buildin...             174   \n",
       "4  cat1 clone syntax highlighting git feature ins...            1340   \n",
       "\n",
       "  language_group  \n",
       "0          Scala  \n",
       "1         Python  \n",
       "2     JavaScript  \n",
       "3         Python  \n",
       "4          Other  "
      ]
     },
     "execution_count": 8,
     "metadata": {},
     "output_type": "execute_result"
    }
   ],
   "source": [
    "df.head()"
   ]
  },
  {
   "cell_type": "markdown",
   "id": "ccb8d748",
   "metadata": {},
   "source": [
    "### Logistic Regression:"
   ]
  },
  {
   "cell_type": "code",
   "execution_count": 41,
   "id": "4fb8267c",
   "metadata": {},
   "outputs": [],
   "source": [
    "#*****************\n",
    "X = tfidf.fit_transform(df.cleaned)\n",
    "y = df.language_group\n",
    "\n",
    "train_validate, X_test, y_train_validate, y_test = train_test_split(X, y, test_size=.2, stratify = y)\n",
    "X_train, X_validate, y_train, y_validate = train_test_split(train_validate, y_train_validate, test_size=.2, stratify = y_train_validate)\n",
    "\n",
    "train = pd.DataFrame(dict(actual=y_train))\n",
    "validate = pd.DataFrame(dict(actual=y_validate))\n",
    "\n",
    "lm = LogisticRegression().fit(X_train, y_train)\n",
    "\n",
    "train['predicted'] = lm.predict(X_train)\n",
    "validate['predicted'] = lm.predict(X_validate)"
   ]
  },
  {
   "cell_type": "code",
   "execution_count": 42,
   "id": "4c36b4ab",
   "metadata": {},
   "outputs": [
    {
     "name": "stdout",
     "output_type": "stream",
     "text": [
      "Accuracy: 85.05%\n",
      "---\n",
      "Confusion Matrix\n",
      "actual      JavaScript  Other  Python  Scala\n",
      "predicted                                   \n",
      "JavaScript          33      0       0      0\n",
      "Other               43    223      25      2\n",
      "Python               1      0      57      0\n",
      "Scala                0      0       0     91\n",
      "---\n",
      "              precision    recall  f1-score   support\n",
      "\n",
      "  JavaScript       1.00      0.43      0.60        77\n",
      "       Other       0.76      1.00      0.86       223\n",
      "      Python       0.98      0.70      0.81        82\n",
      "       Scala       1.00      0.98      0.99        93\n",
      "\n",
      "    accuracy                           0.85       475\n",
      "   macro avg       0.94      0.78      0.82       475\n",
      "weighted avg       0.88      0.85      0.84       475\n",
      "\n"
     ]
    }
   ],
   "source": [
    "print('Accuracy: {:.2%}'.format(accuracy_score(train.actual, train.predicted)))\n",
    "print('---')\n",
    "print('Confusion Matrix')\n",
    "print(pd.crosstab(train.predicted, train.actual))\n",
    "print('---')\n",
    "print(classification_report(train.actual, train.predicted))"
   ]
  },
  {
   "cell_type": "code",
   "execution_count": 44,
   "id": "690f1b51",
   "metadata": {},
   "outputs": [
    {
     "name": "stdout",
     "output_type": "stream",
     "text": [
      "Accuracy: 63.03%\n",
      "---\n",
      "Confusion Matrix\n",
      "actual      JavaScript  Other  Python  Scala\n",
      "predicted                                   \n",
      "JavaScript           1      1       0      0\n",
      "Other               18     55      17      8\n",
      "Python               0      0       3      0\n",
      "Scala                0      0       0     16\n",
      "---\n",
      "              precision    recall  f1-score   support\n",
      "\n",
      "  JavaScript       0.50      0.05      0.10        19\n",
      "       Other       0.56      0.98      0.71        56\n",
      "      Python       1.00      0.15      0.26        20\n",
      "       Scala       1.00      0.67      0.80        24\n",
      "\n",
      "    accuracy                           0.63       119\n",
      "   macro avg       0.77      0.46      0.47       119\n",
      "weighted avg       0.71      0.63      0.56       119\n",
      "\n"
     ]
    }
   ],
   "source": [
    "print('Accuracy: {:.2%}'.format(accuracy_score(validate.actual, validate.predicted)))\n",
    "print('---')\n",
    "print('Confusion Matrix')\n",
    "print(pd.crosstab(validate.predicted, validate.actual))\n",
    "print('---')\n",
    "print(classification_report(validate.actual, validate.predicted))"
   ]
  },
  {
   "cell_type": "markdown",
   "id": "d68ee633",
   "metadata": {},
   "source": [
    "# <span style = 'color:green'>KNN: </span>"
   ]
  },
  {
   "cell_type": "code",
   "execution_count": 108,
   "id": "38f02f57",
   "metadata": {},
   "outputs": [
    {
     "data": {
      "text/plain": [
       "Other         56\n",
       "Scala         24\n",
       "Python        20\n",
       "JavaScript    19\n",
       "Name: language_group, dtype: int64"
      ]
     },
     "execution_count": 108,
     "metadata": {},
     "output_type": "execute_result"
    }
   ],
   "source": [
    "y_validate.value_counts()"
   ]
  },
  {
   "cell_type": "code",
   "execution_count": 127,
   "id": "b1202872",
   "metadata": {},
   "outputs": [
    {
     "name": "stdout",
     "output_type": "stream",
     "text": [
      "Accuracy of KNN classifier on training set: 0.72\n"
     ]
    }
   ],
   "source": [
    "X = tfidf.fit_transform(df.cleaned)\n",
    "y = df.language_group\n",
    "\n",
    "train_validate, X_test, y_train_validate, y_test = train_test_split(X, y, test_size=.2, stratify = y)\n",
    "X_train, X_validate, y_train, y_validate = train_test_split(train_validate, y_train_validate, test_size=.2, stratify = y_train_validate)\n",
    "\n",
    "train = pd.DataFrame(dict(actual=y_train))\n",
    "validate = pd.DataFrame(dict(actual=y_validate))\n",
    "\n",
    "knn = KNeighborsClassifier(n_neighbors = 19, weights='uniform')\n",
    "knn.fit(X_train, y_train)\n",
    "\n",
    "train['knn_predicted'] = knn.predict(X_train)\n",
    "validate['knn_predicted'] = knn.predict(X_validate)\n",
    "\n",
    "print('Accuracy of KNN classifier on training set: {:.2f}'\n",
    "     .format(knn.score(X_train, y_train)))"
   ]
  },
  {
   "cell_type": "code",
   "execution_count": 128,
   "id": "a31cf3e2",
   "metadata": {},
   "outputs": [
    {
     "name": "stdout",
     "output_type": "stream",
     "text": [
      "Accuracy of KNN classifier on training set: 0.71\n"
     ]
    }
   ],
   "source": [
    "print('Accuracy of KNN classifier on training set: {:.2f}'\n",
    "     .format(knn.score(X_validate, y_validate)))"
   ]
  },
  {
   "cell_type": "code",
   "execution_count": 129,
   "id": "cea61081",
   "metadata": {},
   "outputs": [
    {
     "name": "stdout",
     "output_type": "stream",
     "text": [
      "Accuracy of KNN classifier on training set: 0.69\n"
     ]
    }
   ],
   "source": [
    "print('Accuracy of KNN classifier on training set: {:.2f}'\n",
    "     .format(knn.score(X_test, y_test)))"
   ]
  },
  {
   "cell_type": "markdown",
   "id": "efd11312",
   "metadata": {},
   "source": [
    "# Decision Tree:"
   ]
  },
  {
   "cell_type": "code",
   "execution_count": 77,
   "id": "c3ce0d67",
   "metadata": {},
   "outputs": [],
   "source": [
    "X = tfidf.fit_transform(df.cleaned)\n",
    "y = df.language_group\n",
    "\n",
    "train_validate, X_test, y_train_validate, y_test = train_test_split(X, y, test_size=.2, stratify = y)\n",
    "X_train, X_validate, y_train, y_validate = train_test_split(train_validate, y_train_validate, test_size=.2, stratify = y_train_validate)\n",
    "\n",
    "train = pd.DataFrame(dict(actual=y_train))\n",
    "validate = pd.DataFrame(dict(actual=y_validate))\n",
    "\n",
    "clf = DecisionTreeClassifier(max_depth=17, random_state=123)\n",
    "clf = clf.fit(X_train, y_train)\n",
    "\n",
    "train['clf_predicted'] = clf.predict(X_train)\n",
    "validate['clf_predicted'] = clf.predict(X_validate)"
   ]
  },
  {
   "cell_type": "code",
   "execution_count": 78,
   "id": "08ea0b63",
   "metadata": {},
   "outputs": [
    {
     "name": "stdout",
     "output_type": "stream",
     "text": [
      "              precision    recall  f1-score   support\n",
      "\n",
      "  JavaScript       1.00      0.61      0.76        77\n",
      "       Other       0.80      1.00      0.89       223\n",
      "      Python       1.00      0.72      0.84        82\n",
      "       Scala       1.00      0.98      0.99        93\n",
      "\n",
      "    accuracy                           0.88       475\n",
      "   macro avg       0.95      0.83      0.87       475\n",
      "weighted avg       0.91      0.88      0.88       475\n",
      "\n"
     ]
    }
   ],
   "source": [
    "print(classification_report(y_train, train.clf_predicted))"
   ]
  },
  {
   "cell_type": "code",
   "execution_count": 79,
   "id": "ddd12950",
   "metadata": {},
   "outputs": [
    {
     "name": "stdout",
     "output_type": "stream",
     "text": [
      "              precision    recall  f1-score   support\n",
      "\n",
      "  JavaScript       0.45      0.26      0.33        19\n",
      "       Other       0.68      0.89      0.77        56\n",
      "      Python       0.82      0.45      0.58        20\n",
      "       Scala       0.91      0.88      0.89        24\n",
      "\n",
      "    accuracy                           0.71       119\n",
      "   macro avg       0.72      0.62      0.64       119\n",
      "weighted avg       0.71      0.71      0.69       119\n",
      "\n"
     ]
    }
   ],
   "source": [
    "print(classification_report(y_validate, validate.clf_predicted))"
   ]
  }
 ],
 "metadata": {
  "kernelspec": {
   "display_name": "Python 3 (ipykernel)",
   "language": "python",
   "name": "python3"
  },
  "language_info": {
   "codemirror_mode": {
    "name": "ipython",
    "version": 3
   },
   "file_extension": ".py",
   "mimetype": "text/x-python",
   "name": "python",
   "nbconvert_exporter": "python",
   "pygments_lexer": "ipython3",
   "version": "3.9.7"
  }
 },
 "nbformat": 4,
 "nbformat_minor": 5
}
