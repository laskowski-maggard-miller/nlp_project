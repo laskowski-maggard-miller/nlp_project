{
 "cells": [
  {
   "cell_type": "code",
   "execution_count": 1,
   "id": "9c4e1eed",
   "metadata": {},
   "outputs": [],
   "source": [
    "import pandas as pd\n",
    "import numpy as np\n",
    "import re\n",
    "import requests\n",
    "from bs4 import BeautifulSoup as bs\n",
    "import json\n",
    "\n",
    "import acquire as ac\n",
    "import prepare as pr"
   ]
  },
  {
   "cell_type": "code",
   "execution_count": 2,
   "id": "74d3def0",
   "metadata": {},
   "outputs": [],
   "source": [
    "def json_to_df():\n",
    "    f = open('data.json')\n",
    "    data = json.load(f)\n",
    "    df_repos_raw = pd.DataFrame(data)\n",
    "\n",
    "    return df_repos_raw"
   ]
  },
  {
   "cell_type": "code",
   "execution_count": 3,
   "id": "8840ace6",
   "metadata": {},
   "outputs": [],
   "source": [
    "df = json_to_df()"
   ]
  },
  {
   "cell_type": "code",
   "execution_count": 5,
   "id": "157d8448",
   "metadata": {},
   "outputs": [
    {
     "data": {
      "text/html": [
       "<div>\n",
       "<style scoped>\n",
       "    .dataframe tbody tr th:only-of-type {\n",
       "        vertical-align: middle;\n",
       "    }\n",
       "\n",
       "    .dataframe tbody tr th {\n",
       "        vertical-align: top;\n",
       "    }\n",
       "\n",
       "    .dataframe thead th {\n",
       "        text-align: right;\n",
       "    }\n",
       "</style>\n",
       "<table border=\"1\" class=\"dataframe\">\n",
       "  <thead>\n",
       "    <tr style=\"text-align: right;\">\n",
       "      <th></th>\n",
       "      <th>repo</th>\n",
       "      <th>language</th>\n",
       "      <th>readme_contents</th>\n",
       "    </tr>\n",
       "  </thead>\n",
       "  <tbody>\n",
       "    <tr>\n",
       "      <th>0</th>\n",
       "      <td>typelevel/cats</td>\n",
       "      <td>Scala</td>\n",
       "      <td>## Cats\\n\\n![Cats graphic](https://typelevel.o...</td>\n",
       "    </tr>\n",
       "    <tr>\n",
       "      <th>1</th>\n",
       "      <td>nyaadevs/nyaa</td>\n",
       "      <td>Python</td>\n",
       "      <td># NyaaV2 [![Build Status](https://travis-ci.or...</td>\n",
       "    </tr>\n",
       "  </tbody>\n",
       "</table>\n",
       "</div>"
      ],
      "text/plain": [
       "             repo language                                    readme_contents\n",
       "0  typelevel/cats    Scala  ## Cats\\n\\n![Cats graphic](https://typelevel.o...\n",
       "1   nyaadevs/nyaa   Python  # NyaaV2 [![Build Status](https://travis-ci.or..."
      ]
     },
     "execution_count": 5,
     "metadata": {},
     "output_type": "execute_result"
    }
   ],
   "source": [
    "df.head(2)"
   ]
  },
  {
   "cell_type": "code",
   "execution_count": 6,
   "id": "9f97c627",
   "metadata": {},
   "outputs": [],
   "source": [
    "df_holder = [] \n",
    "\n",
    "for rows in df.index:\n",
    "    row = {}\n",
    "    repo = df.iloc[rows][0]\n",
    "    language = df.iloc[rows][1]\n",
    "    readme_contents = df.iloc[rows][2]\n",
    "        \n",
    "    row['repo'] = repo\n",
    "    row['language'] = language\n",
    "    row['readme_contents'] = readme_contents\n",
    "        \n",
    "    row['cleaned'] = pr.full_clean(readme_contents,extra_words = [],exclude_words = [])\n",
    "        \n",
    "    df_holder.append(row)\n",
    "df_cleaned = pd.DataFrame(df_holder)"
   ]
  },
  {
   "cell_type": "code",
   "execution_count": 7,
   "id": "723dcfa3",
   "metadata": {
    "scrolled": true
   },
   "outputs": [
    {
     "name": "stdout",
     "output_type": "stream",
     "text": [
      "<class 'pandas.core.frame.DataFrame'>\n",
      "RangeIndex: 1000 entries, 0 to 999\n",
      "Data columns (total 4 columns):\n",
      " #   Column           Non-Null Count  Dtype \n",
      "---  ------           --------------  ----- \n",
      " 0   repo             1000 non-null   object\n",
      " 1   language         940 non-null    object\n",
      " 2   readme_contents  1000 non-null   object\n",
      " 3   cleaned          1000 non-null   object\n",
      "dtypes: object(4)\n",
      "memory usage: 31.4+ KB\n"
     ]
    }
   ],
   "source": [
    "df_cleaned.info()"
   ]
  },
  {
   "cell_type": "code",
   "execution_count": null,
   "id": "50323dc0",
   "metadata": {},
   "outputs": [],
   "source": [
    "df_cleaned_no_nulls"
   ]
  },
  {
   "cell_type": "code",
   "execution_count": 11,
   "id": "2e8374ed",
   "metadata": {},
   "outputs": [],
   "source": [
    "df_cleaned_no_nulls = df_cleaned[~df_cleaned.language.isnull()]"
   ]
  },
  {
   "cell_type": "code",
   "execution_count": 12,
   "id": "2343d20c",
   "metadata": {},
   "outputs": [
    {
     "name": "stderr",
     "output_type": "stream",
     "text": [
      "/var/folders/dk/lzs3plw14ms00nxw2vwq68vc0000gn/T/ipykernel_6294/2451193437.py:1: SettingWithCopyWarning: \n",
      "A value is trying to be set on a copy of a slice from a DataFrame.\n",
      "Try using .loc[row_indexer,col_indexer] = value instead\n",
      "\n",
      "See the caveats in the documentation: https://pandas.pydata.org/pandas-docs/stable/user_guide/indexing.html#returning-a-view-versus-a-copy\n",
      "  df_cleaned_no_nulls['cleaned_length'] = df_cleaned_no_nulls.cleaned.str.split(' ').str.len()\n"
     ]
    }
   ],
   "source": [
    "df_cleaned_no_nulls['cleaned_length'] = df_cleaned_no_nulls.cleaned.str.split(' ').str.len()"
   ]
  },
  {
   "cell_type": "code",
   "execution_count": 14,
   "id": "675f8e8f",
   "metadata": {},
   "outputs": [
    {
     "data": {
      "text/html": [
       "<div>\n",
       "<style scoped>\n",
       "    .dataframe tbody tr th:only-of-type {\n",
       "        vertical-align: middle;\n",
       "    }\n",
       "\n",
       "    .dataframe tbody tr th {\n",
       "        vertical-align: top;\n",
       "    }\n",
       "\n",
       "    .dataframe thead th {\n",
       "        text-align: right;\n",
       "    }\n",
       "</style>\n",
       "<table border=\"1\" class=\"dataframe\">\n",
       "  <thead>\n",
       "    <tr style=\"text-align: right;\">\n",
       "      <th></th>\n",
       "      <th>repo</th>\n",
       "      <th>language</th>\n",
       "      <th>readme_contents</th>\n",
       "      <th>cleaned</th>\n",
       "      <th>cleaned_length</th>\n",
       "    </tr>\n",
       "  </thead>\n",
       "  <tbody>\n",
       "    <tr>\n",
       "      <th>0</th>\n",
       "      <td>typelevel/cats</td>\n",
       "      <td>Scala</td>\n",
       "      <td>## Cats\\n\\n![Cats graphic](https://typelevel.o...</td>\n",
       "      <td>scala version continuous contributor open libr...</td>\n",
       "      <td>541</td>\n",
       "    </tr>\n",
       "    <tr>\n",
       "      <th>1</th>\n",
       "      <td>nyaadevs/nyaa</td>\n",
       "      <td>Python</td>\n",
       "      <td># NyaaV2 [![Build Status](https://travis-ci.or...</td>\n",
       "      <td>nyaav2 build setting project us python 37 feat...</td>\n",
       "      <td>519</td>\n",
       "    </tr>\n",
       "    <tr>\n",
       "      <th>2</th>\n",
       "      <td>httpcats/http.cat</td>\n",
       "      <td>JavaScript</td>\n",
       "      <td>#  http.cat [![Build Status](https://travis-ci...</td>\n",
       "      <td>httpcat build cat website hosted code older ve...</td>\n",
       "      <td>86</td>\n",
       "    </tr>\n",
       "    <tr>\n",
       "      <th>3</th>\n",
       "      <td>AlexiaJM/Deep-learning-with-cats</td>\n",
       "      <td>Python</td>\n",
       "      <td># Deep-learning-with-cats\\n\\nThis repository i...</td>\n",
       "      <td>repository toy project gain experience buildin...</td>\n",
       "      <td>214</td>\n",
       "    </tr>\n",
       "    <tr>\n",
       "      <th>4</th>\n",
       "      <td>sharkdp/bat</td>\n",
       "      <td>Rust</td>\n",
       "      <td>&lt;p align=\"center\"&gt;\\n  &lt;img src=\"doc/logo-heade...</td>\n",
       "      <td>cat1 clone syntax highlighting git feature use...</td>\n",
       "      <td>1517</td>\n",
       "    </tr>\n",
       "    <tr>\n",
       "      <th>...</th>\n",
       "      <td>...</td>\n",
       "      <td>...</td>\n",
       "      <td>...</td>\n",
       "      <td>...</td>\n",
       "      <td>...</td>\n",
       "    </tr>\n",
       "    <tr>\n",
       "      <th>993</th>\n",
       "      <td>imfing/keras-flask-deploy-webapp</td>\n",
       "      <td>JavaScript</td>\n",
       "      <td># Deploy Keras Model with Flask as Web App in ...</td>\n",
       "      <td>deploy kera model flask web app 10 pretty cust...</td>\n",
       "      <td>165</td>\n",
       "    </tr>\n",
       "    <tr>\n",
       "      <th>995</th>\n",
       "      <td>RomanKornev/dogs-vs-cats-redux</td>\n",
       "      <td>Jupyter Notebook</td>\n",
       "      <td># Dogs vs Cats\\nPredict whether a given image ...</td>\n",
       "      <td>dog v whether given image cat dog 997 accuracy...</td>\n",
       "      <td>108</td>\n",
       "    </tr>\n",
       "    <tr>\n",
       "      <th>996</th>\n",
       "      <td>snap-research/CAT</td>\n",
       "      <td>Python</td>\n",
       "      <td># CAT\\n[CVPR](https://openaccess.thecvf.com/co...</td>\n",
       "      <td>tutorial method used mobile implementation met...</td>\n",
       "      <td>458</td>\n",
       "    </tr>\n",
       "    <tr>\n",
       "      <th>997</th>\n",
       "      <td>datitran/Dogs-vs-Cats</td>\n",
       "      <td>Jupyter Notebook</td>\n",
       "      <td># Dogs-vs-Cats\\n\\nA fun project to differentia...</td>\n",
       "      <td>fun project differentiate dog kaggle create da...</td>\n",
       "      <td>29</td>\n",
       "    </tr>\n",
       "    <tr>\n",
       "      <th>998</th>\n",
       "      <td>bastakka/popcatindicator</td>\n",
       "      <td>Shell</td>\n",
       "      <td># popcatindicator\\nVolume indicator with Cat p...</td>\n",
       "      <td>indicator cat pop theme step one clone step tw...</td>\n",
       "      <td>89</td>\n",
       "    </tr>\n",
       "  </tbody>\n",
       "</table>\n",
       "<p>743 rows × 5 columns</p>\n",
       "</div>"
      ],
      "text/plain": [
       "                                 repo          language  \\\n",
       "0                      typelevel/cats             Scala   \n",
       "1                       nyaadevs/nyaa            Python   \n",
       "2                   httpcats/http.cat        JavaScript   \n",
       "3    AlexiaJM/Deep-learning-with-cats            Python   \n",
       "4                         sharkdp/bat              Rust   \n",
       "..                                ...               ...   \n",
       "993  imfing/keras-flask-deploy-webapp        JavaScript   \n",
       "995    RomanKornev/dogs-vs-cats-redux  Jupyter Notebook   \n",
       "996                 snap-research/CAT            Python   \n",
       "997             datitran/Dogs-vs-Cats  Jupyter Notebook   \n",
       "998          bastakka/popcatindicator             Shell   \n",
       "\n",
       "                                       readme_contents  \\\n",
       "0    ## Cats\\n\\n![Cats graphic](https://typelevel.o...   \n",
       "1    # NyaaV2 [![Build Status](https://travis-ci.or...   \n",
       "2    #  http.cat [![Build Status](https://travis-ci...   \n",
       "3    # Deep-learning-with-cats\\n\\nThis repository i...   \n",
       "4    <p align=\"center\">\\n  <img src=\"doc/logo-heade...   \n",
       "..                                                 ...   \n",
       "993  # Deploy Keras Model with Flask as Web App in ...   \n",
       "995  # Dogs vs Cats\\nPredict whether a given image ...   \n",
       "996  # CAT\\n[CVPR](https://openaccess.thecvf.com/co...   \n",
       "997  # Dogs-vs-Cats\\n\\nA fun project to differentia...   \n",
       "998  # popcatindicator\\nVolume indicator with Cat p...   \n",
       "\n",
       "                                               cleaned  cleaned_length  \n",
       "0    scala version continuous contributor open libr...             541  \n",
       "1    nyaav2 build setting project us python 37 feat...             519  \n",
       "2    httpcat build cat website hosted code older ve...              86  \n",
       "3    repository toy project gain experience buildin...             214  \n",
       "4    cat1 clone syntax highlighting git feature use...            1517  \n",
       "..                                                 ...             ...  \n",
       "993  deploy kera model flask web app 10 pretty cust...             165  \n",
       "995  dog v whether given image cat dog 997 accuracy...             108  \n",
       "996  tutorial method used mobile implementation met...             458  \n",
       "997  fun project differentiate dog kaggle create da...              29  \n",
       "998  indicator cat pop theme step one clone step tw...              89  \n",
       "\n",
       "[743 rows x 5 columns]"
      ]
     },
     "execution_count": 14,
     "metadata": {},
     "output_type": "execute_result"
    }
   ],
   "source": [
    "df_working = df_cleaned_no_nulls[df_cleaned_no_nulls.cleaned_length > 11]\n",
    "df_working"
   ]
  }
 ],
 "metadata": {
  "kernelspec": {
   "display_name": "Python 3 (ipykernel)",
   "language": "python",
   "name": "python3"
  },
  "language_info": {
   "codemirror_mode": {
    "name": "ipython",
    "version": 3
   },
   "file_extension": ".py",
   "mimetype": "text/x-python",
   "name": "python",
   "nbconvert_exporter": "python",
   "pygments_lexer": "ipython3",
   "version": "3.9.7"
  }
 },
 "nbformat": 4,
 "nbformat_minor": 5
}
